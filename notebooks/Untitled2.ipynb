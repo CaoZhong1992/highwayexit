{
 "cells": [
  {
   "cell_type": "code",
   "execution_count": 1,
   "metadata": {},
   "outputs": [
    {
     "name": "stderr",
     "output_type": "stream",
     "text": [
      "\u001b[1m\u001b[36mINFO: \u001b[39m\u001b[22m\u001b[36mRecompiling stale cache file /home/zhong/.julia/lib/v0.6/Multilane.ji for module Multilane.\n",
      "\u001b[39mWARNING: Method definition rand(Base.Random.AbstractRNG, Distributions.TriangularDist{T} where T<:Real) in module Distributions at /home/zhong/.julia/v0.6/Distributions/src/univariate/continuous/triangular.jl:150 overwritten in module Multilane at /home/zhong/.julia/v0.6/Multilane/src/triangular.jl:8.\n",
      "\n",
      "WARNING: deprecated syntax \"function .*(...)\".\n",
      "Use \"function Base.broadcast(::typeof(*), ...)\" instead.\n",
      "\n",
      "WARNING: deprecated syntax \"function .^(...)\".\n",
      "Use \"function Base.broadcast(::typeof(^), ...)\" instead.\n",
      "\n",
      "WARNING: deprecated syntax \"function .*(...)\".\n",
      "Use \"function Base.broadcast(::typeof(*), ...)\" instead.\n",
      "\n",
      "WARNING: deprecated syntax \"function .^(...)\".\n",
      "Use \"function Base.broadcast(::typeof(^), ...)\" instead.\n",
      "\n",
      "WARNING: deprecated syntax \"function .*(...)\".\n",
      "Use \"function Base.broadcast(::typeof(*), ...)\" instead.\n",
      "\n",
      "WARNING: deprecated syntax \"function .*(...)\".\n",
      "Use \"function Base.broadcast(::typeof(*), ...)\" instead.\n",
      "\n",
      "WARNING: deprecated syntax \"function .^(...)\".\n",
      "Use \"function Base.broadcast(::typeof(^), ...)\" instead.\n",
      "\n",
      "WARNING: deprecated syntax \"function .-(...)\".\n",
      "Use \"function Base.broadcast(::typeof(-), ...)\" instead.\n",
      "WARNING: StatsBase.WeightVec is deprecated, use StatsBase.Weights{#1#S, #2#T, #3#V} where #3#V<:AbstractArray{#2#T, 1} where #2#T<:Real where #1#S<:Real instead.\n",
      "  likely near /home/zhong/.julia/v0.6/Multilane/src/behavior_gen.jl:4\n",
      "WARNING: StatsBase.WeightVec is deprecated, use StatsBase.Weights{#1#S, #2#T, #3#V} where #3#V<:AbstractArray{#2#T, 1} where #2#T<:Real where #1#S<:Real instead.\n",
      "  likely near /home/zhong/.julia/v0.6/Multilane/src/behavior_gen.jl:4\n",
      "\n",
      "WARNING: deprecated syntax \"abstract SimMetric\" at /home/zhong/.julia/v0.6/Multilane/src/metrics.jl:2.\n",
      "Use \"abstract type SimMetric end\" instead.\n",
      "WARNING: StatsBase.WeightVec is deprecated, use StatsBase.Weights{#1#S, #2#T, #3#V} where #3#V<:AbstractArray{#2#T, 1} where #2#T<:Real where #1#S<:Real instead.\n",
      "  likely near /home/zhong/.julia/v0.6/Multilane/src/test_sets.jl:40\n",
      "WARNING: StatsBase.WeightVec is deprecated, use StatsBase.Weights{#1#S, #2#T, #3#V} where #3#V<:AbstractArray{#2#T, 1} where #2#T<:Real where #1#S<:Real instead.\n",
      "  likely near /home/zhong/.julia/v0.6/Multilane/src/test_sets.jl:40\n",
      "WARNING: StatsBase.WeightVec is deprecated, use StatsBase.Weights{#1#S, #2#T, #3#V} where #3#V<:AbstractArray{#2#T, 1} where #2#T<:Real where #1#S<:Real instead.\n",
      "  likely near /home/zhong/.julia/v0.6/Multilane/src/test_sets.jl:40\n",
      "WARNING: StatsBase.WeightVec is deprecated, use StatsBase.Weights{#1#S, #2#T, #3#V} where #3#V<:AbstractArray{#2#T, 1} where #2#T<:Real where #1#S<:Real instead.\n",
      "  likely near /home/zhong/.julia/v0.6/Multilane/src/test_sets.jl:40\n",
      "WARNING: StatsBase.WeightVec is deprecated, use StatsBase.Weights{#1#S, #2#T, #3#V} where #3#V<:AbstractArray{#2#T, 1} where #2#T<:Real where #1#S<:Real instead.\n",
      "  likely near /home/zhong/.julia/v0.6/Multilane/src/test_sets.jl:40\n"
     ]
    },
    {
     "name": "stdout",
     "output_type": "stream",
     "text": [
      "Automatically loading visualization components.\n"
     ]
    },
    {
     "name": "stderr",
     "output_type": "stream",
     "text": [
      "WARNING: imported binding for Policy overwritten in module Multilane\n",
      "WARNING: using Cairo.clip in module Multilane conflicts with an existing identifier.\n"
     ]
    },
    {
     "data": {
      "text/html": [
       "<div id=\"interact-js-shim\">\n",
       "    <script charset=\"utf-8\">\n",
       "(function (IPython, $, _, MathJax) {\n",
       "    $.event.special.destroyed = {\n",
       "\tremove: function(o) {\n",
       "\t    if (o.handler) {\n",
       "\t\to.handler.apply(this, arguments)\n",
       "\t    }\n",
       "\t}\n",
       "    }\n",
       "\n",
       "    var OutputArea = IPython.version >= \"4.0.0\" ? require(\"notebook/js/outputarea\").OutputArea : IPython.OutputArea;\n",
       "\n",
       "    var redrawValue = function (container, type, val) {\n",
       "\tvar selector = $(\"<div/>\");\n",
       "\tvar oa = new OutputArea(_.extend(selector, {\n",
       "\t    selector: selector,\n",
       "\t    prompt_area: true,\n",
       "\t    events: IPython.events,\n",
       "\t    keyboard_manager: IPython.keyboard_manager\n",
       "\t})); // Hack to work with IPython 2.1.0\n",
       "\n",
       "\tswitch (type) {\n",
       "\tcase \"image/png\":\n",
       "            var _src = 'data:' + type + ';base64,' + val;\n",
       "\t    $(container).find(\"img\").attr('src', _src);\n",
       "\t    break;\n",
       "\tcase \"text/latex\":\n",
       "\t\tif (MathJax){\n",
       "\t\t\tvar math = MathJax.Hub.getAllJax(container)[0];\n",
       "\t\t\tMathJax.Hub.Queue([\"Text\", math, val.replace(/^\\${1,2}|\\${1,2}$/g, '')]);\n",
       "\t\t\tbreak;\n",
       "\t\t}\n",
       "\tdefault:\n",
       "\t    var toinsert = OutputArea.append_map[type].apply(\n",
       "\t\toa, [val, {}, selector]\n",
       "\t    );\n",
       "\t    $(container).empty().append(toinsert.contents());\n",
       "\t    selector.remove();\n",
       "\t}\n",
       "    }\n",
       "\n",
       "\n",
       "    $(document).ready(function() {\n",
       "\tfunction initComm(evt, data) {\n",
       "\t    var comm_manager = data.kernel.comm_manager;\n",
       "        //_.extend(comm_manager.targets, require(\"widgets/js/widget\"))\n",
       "\t    comm_manager.register_target(\"Signal\", function (comm) {\n",
       "            comm.on_msg(function (msg) {\n",
       "                var val = msg.content.data.value;\n",
       "                $(\".signal-\" + comm.comm_id).each(function() {\n",
       "                var type = $(this).data(\"type\");\n",
       "                if (typeof(val[type]) !== \"undefined\" && val[type] !== null) {\n",
       "                    redrawValue(this, type, val[type], type);\n",
       "                }\n",
       "                });\n",
       "                delete val;\n",
       "                delete msg.content.data.value;\n",
       "            });\n",
       "\t    });\n",
       "\n",
       "\t    // coordingate with Comm and redraw Signals\n",
       "\t    // XXX: Test using Reactive here to improve performance\n",
       "\t    $([IPython.events]).on(\n",
       "\t\t'output_appended.OutputArea', function (event, type, value, md, toinsert) {\n",
       "\t\t    if (md && md.reactive) {\n",
       "                // console.log(md.comm_id);\n",
       "                toinsert.addClass(\"signal-\" + md.comm_id);\n",
       "                toinsert.data(\"type\", type);\n",
       "                // Signal back indicating the mimetype required\n",
       "                var comm_manager = IPython.notebook.kernel.comm_manager;\n",
       "                var comm = comm_manager.comms[md.comm_id];\n",
       "                comm.then(function (c) {\n",
       "                    c.send({action: \"subscribe_mime\",\n",
       "                       mime: type});\n",
       "                    toinsert.bind(\"destroyed\", function() {\n",
       "                        c.send({action: \"unsubscribe_mime\",\n",
       "                               mime: type});\n",
       "                    });\n",
       "                })\n",
       "\t\t    }\n",
       "\t    });\n",
       "\t}\n",
       "\n",
       "\ttry {\n",
       "\t    // try to initialize right away. otherwise, wait on the status_started event.\n",
       "\t    initComm(undefined, IPython.notebook);\n",
       "\t} catch (e) {\n",
       "\t    $([IPython.events]).on('kernel_created.Kernel kernel_created.Session', initComm);\n",
       "\t}\n",
       "    });\n",
       "})(IPython, jQuery, _, MathJax);\n",
       "</script>\n",
       "    <script>\n",
       "        window.interactLoadedFlag = true\n",
       "       $(\"#interact-js-shim\").bind(\"destroyed\", function () {\n",
       "           if (window.interactLoadedFlag) {\n",
       "               console.warn(\"JavaScript required by Interact will be removed if you remove this cell or run using Interact more than once.\")\n",
       "           }\n",
       "       })\n",
       "       $([IPython.events]).on(\"kernel_starting.Kernel kernel_restarting.Kernel\", function () { window.interactLoadedFlag = false })\n",
       "   </script>\n",
       "</div>"
      ]
     },
     "metadata": {},
     "output_type": "display_data"
    },
    {
     "name": "stderr",
     "output_type": "stream",
     "text": [
      "WARNING: Method definition rand(Base.Random.AbstractRNG, Distributions.TriangularDist{T} where T<:Real) in module Distributions at /home/zhong/.julia/v0.6/Distributions/src/univariate/continuous/triangular.jl:150 overwritten in module Multilane at /home/zhong/.julia/v0.6/Multilane/src/triangular.jl:8.\n"
     ]
    }
   ],
   "source": [
    "using Multilane\n",
    "using POMDPs\n",
    "using POMDPToolbox\n",
    "using MCTS\n",
    "using Distributions # for Normal\n",
    "using DataArrays\n",
    "using DataFrames\n",
    "using DataFramesMeta\n",
    "\n",
    "#using Interact\n",
    "using Interact\n",
    "using Reactive\n",
    "#using Records\n",
    "using AutoViz\n",
    "using AutomotiveDrivingModels\n",
    "#using Cairo\n",
    "#using Reel\n",
    "#using GenerativeModels"
   ]
  },
  {
   "cell_type": "code",
   "execution_count": null,
   "metadata": {},
   "outputs": [],
   "source": [
    "test = TestSet()\n",
    "test.N = 10\n",
    "gen_initials_cz(test)"
   ]
  },
  {
   "cell_type": "code",
   "execution_count": 3,
   "metadata": {},
   "outputs": [
    {
     "data": {
      "text/plain": [
       "2-element Array{Multilane.TestSet,1}:\n",
       " Multilane.TestSet(\"\", Dict{Symbol,Any}(Pair{Symbol,Any}(:brake_terminate_thresh, Inf),Pair{Symbol,Any}(:lambda, 1.0),Pair{Symbol,Any}(:brake_threshold, 2.5),Pair{Symbol,Any}(:p_appear, 1.0),Pair{Symbol,Any}(:max_dist, Inf),Pair{Symbol,Any}(:vel_sigma, 0.5),Pair{Symbol,Any}(:rmodel_type, :NoCrashRewardModel),Pair{Symbol,Any}(:lane_terminate, false),Pair{Symbol,Any}(:behaviors, \"agents\"),Pair{Symbol,Any}(:target_lane, 4)…), Dict{Symbol,Any}(Pair{Symbol,Any}(:brake_terminate_thresh, Inf),Pair{Symbol,Any}(:lambda, 1.0),Pair{Symbol,Any}(:brake_threshold, 2.5),Pair{Symbol,Any}(:p_appear, 1.0),Pair{Symbol,Any}(:max_dist, Inf),Pair{Symbol,Any}(:vel_sigma, 0.5),Pair{Symbol,Any}(:rmodel_type, :NoCrashRewardModel),Pair{Symbol,Any}(:lane_terminate, false),Pair{Symbol,Any}(:behaviors, \"agents\"),Pair{Symbol,Any}(:target_lane, 4)…), Dict{Symbol,AbstractArray{T,1} where T}(), 500, 1, 0x00000001, \"pY7TFsJI\")\n",
       " Multilane.TestSet(\"\", Dict{Symbol,Any}(Pair{Symbol,Any}(:brake_terminate_thresh, Inf),Pair{Symbol,Any}(:lambda, 1.0),Pair{Symbol,Any}(:brake_threshold, 2.5),Pair{Symbol,Any}(:p_appear, 1.0),Pair{Symbol,Any}(:max_dist, Inf),Pair{Symbol,Any}(:vel_sigma, 0.5),Pair{Symbol,Any}(:rmodel_type, :NoCrashRewardModel),Pair{Symbol,Any}(:lane_terminate, false),Pair{Symbol,Any}(:behaviors, \"agents\"),Pair{Symbol,Any}(:target_lane, 4)…), Dict{Symbol,Any}(Pair{Symbol,Any}(:brake_terminate_thresh, Inf),Pair{Symbol,Any}(:lambda, 1.0),Pair{Symbol,Any}(:brake_threshold, 2.5),Pair{Symbol,Any}(:p_appear, 1.0),Pair{Symbol,Any}(:max_dist, Inf),Pair{Symbol,Any}(:vel_sigma, 0.5),Pair{Symbol,Any}(:rmodel_type, :NoCrashRewardModel),Pair{Symbol,Any}(:lane_terminate, false),Pair{Symbol,Any}(:behaviors, \"agents\"),Pair{Symbol,Any}(:target_lane, 4)…), Dict{Symbol,AbstractArray{T,1} where T}(), 500, 1, 0x00000001, \"tnDg4n1L\")"
      ]
     },
     "execution_count": 3,
     "metadata": {},
     "output_type": "execute_result"
    }
   ],
   "source": [
    "test = TestSet[TestSet(), TestSet()]"
   ]
  },
  {
   "cell_type": "code",
   "execution_count": 6,
   "metadata": {},
   "outputs": [
    {
     "name": "stderr",
     "output_type": "stream",
     "text": [
      "\u001b[1m\u001b[33mWARNING: \u001b[39m\u001b[22m\u001b[33misna is deprecated, use ismissing instead.\u001b[39m\n",
      "Stacktrace:\n",
      " [1] \u001b[1mdepwarn\u001b[22m\u001b[22m\u001b[1m(\u001b[22m\u001b[22m::String, ::Symbol\u001b[1m)\u001b[22m\u001b[22m at \u001b[1m./deprecated.jl:70\u001b[22m\u001b[22m\n",
      " [2] \u001b[1misna\u001b[22m\u001b[22m\u001b[1m(\u001b[22m\u001b[22m::Missings.Missing\u001b[1m)\u001b[22m\u001b[22m at \u001b[1m./deprecated.jl:31\u001b[22m\u001b[22m\n",
      " [3] \u001b[1m#add_initials!#96\u001b[22m\u001b[22m\u001b[1m(\u001b[22m\u001b[22m::Dict{String,Any}, ::MersenneTwister, ::Bool, ::Function, ::Dict{String,Any}, ::Multilane.TestSet\u001b[1m)\u001b[22m\u001b[22m at \u001b[1m/home/zhong/.julia/v0.6/Multilane/src/test_sets.jl:296\u001b[22m\u001b[22m\n",
      " [4] \u001b[1m(::Multilane.#kw##add_initials!)\u001b[22m\u001b[22m\u001b[1m(\u001b[22m\u001b[22m::Array{Any,1}, ::Multilane.#add_initials!, ::Dict{String,Any}, ::Multilane.TestSet\u001b[1m)\u001b[22m\u001b[22m at \u001b[1m./<missing>:0\u001b[22m\u001b[22m\n",
      " [5] \u001b[1m#gen_initials#87\u001b[22m\u001b[22m\u001b[1m(\u001b[22m\u001b[22m::Dict{String,Any}, ::Bool, ::MersenneTwister, ::Function, ::Array{Multilane.TestSet,1}, ::Dict{String,Any}\u001b[1m)\u001b[22m\u001b[22m at \u001b[1m/home/zhong/.julia/v0.6/Multilane/src/test_sets.jl:157\u001b[22m\u001b[22m\n",
      " [6] \u001b[1mgen_initials\u001b[22m\u001b[22m\u001b[1m(\u001b[22m\u001b[22m::Array{Multilane.TestSet,1}, ::Dict{String,Any}\u001b[1m)\u001b[22m\u001b[22m at \u001b[1m/home/zhong/.julia/v0.6/Multilane/src/test_sets.jl:155\u001b[22m\u001b[22m (repeats 2 times)\n",
      " [7] \u001b[1minclude_string\u001b[22m\u001b[22m\u001b[1m(\u001b[22m\u001b[22m::String, ::String\u001b[1m)\u001b[22m\u001b[22m at \u001b[1m./loading.jl:522\u001b[22m\u001b[22m\n",
      " [8] \u001b[1minclude_string\u001b[22m\u001b[22m\u001b[1m(\u001b[22m\u001b[22m::Module, ::String, ::String\u001b[1m)\u001b[22m\u001b[22m at \u001b[1m/home/zhong/.julia/v0.6/Compat/src/Compat.jl:174\u001b[22m\u001b[22m\n",
      " [9] \u001b[1mexecute_request\u001b[22m\u001b[22m\u001b[1m(\u001b[22m\u001b[22m::ZMQ.Socket, ::IJulia.Msg\u001b[1m)\u001b[22m\u001b[22m at \u001b[1m/home/zhong/.julia/v0.6/IJulia/src/execute_request.jl:154\u001b[22m\u001b[22m\n",
      " [10] \u001b[1m(::Compat.#inner#16{Array{Any,1},IJulia.#execute_request,Tuple{ZMQ.Socket,IJulia.Msg}})\u001b[22m\u001b[22m\u001b[1m(\u001b[22m\u001b[22m\u001b[1m)\u001b[22m\u001b[22m at \u001b[1m/home/zhong/.julia/v0.6/Compat/src/Compat.jl:496\u001b[22m\u001b[22m\n",
      " [11] \u001b[1meventloop\u001b[22m\u001b[22m\u001b[1m(\u001b[22m\u001b[22m::ZMQ.Socket\u001b[1m)\u001b[22m\u001b[22m at \u001b[1m/home/zhong/.julia/v0.6/IJulia/src/eventloop.jl:8\u001b[22m\u001b[22m\n",
      " [12] \u001b[1m(::IJulia.##14#17)\u001b[22m\u001b[22m\u001b[1m(\u001b[22m\u001b[22m\u001b[1m)\u001b[22m\u001b[22m at \u001b[1m./task.jl:335\u001b[22m\u001b[22m\n",
      "while loading In[6], in expression starting on line 1\n",
      "\u001b[1m\u001b[33mWARNING: \u001b[39m\u001b[22m\u001b[33mArray(::Type{T}, m::Int) where T is deprecated, use Array{T}(m) instead.\u001b[39m\n",
      "Stacktrace:\n",
      " [1] \u001b[1mdepwarn\u001b[22m\u001b[22m\u001b[1m(\u001b[22m\u001b[22m::String, ::Symbol\u001b[1m)\u001b[22m\u001b[22m at \u001b[1m./deprecated.jl:70\u001b[22m\u001b[22m\n",
      " [2] \u001b[1mArray\u001b[22m\u001b[22m\u001b[1m(\u001b[22m\u001b[22m::Type{Multilane.CarState}, ::Int64\u001b[1m)\u001b[22m\u001b[22m at \u001b[1m./deprecated.jl:57\u001b[22m\u001b[22m\n",
      " [3] \u001b[1mcreate_state\u001b[22m\u001b[22m at \u001b[1m/home/zhong/.julia/v0.6/Multilane/src/no_crash_model.jl:255\u001b[22m\u001b[22m [inlined]\n",
      " [4] \u001b[1mgenerate_sr\u001b[22m\u001b[22m at \u001b[1m/home/zhong/.julia/v0.6/Multilane/src/robust_mdp.jl:34\u001b[22m\u001b[22m [inlined]\n",
      " [5] \u001b[1msimulate_cz\u001b[22m\u001b[22m\u001b[1m(\u001b[22m\u001b[22m::POMDPToolbox.HistoryRecorder, ::Multilane.MLMDP{Multilane.MLState,Multilane.MLAction,Multilane.NoCrashIDMMOBILModel,Multilane.NoCrashRewardModel}, ::Multilane.BehaviorPolicy, ::Multilane.MLState\u001b[1m)\u001b[22m\u001b[22m at \u001b[1m/home/zhong/.julia/v0.6/Multilane/src/relax.jl:91\u001b[22m\u001b[22m\n",
      " [6] \u001b[1m#relaxed_initial_state#108\u001b[22m\u001b[22m\u001b[1m(\u001b[22m\u001b[22m::Multilane.BehaviorSolver, ::Function, ::Multilane.MLMDP{Multilane.MLState,Multilane.MLAction,Multilane.NoCrashIDMMOBILModel,Multilane.NoCrashRewardModel}, ::Int64, ::MersenneTwister\u001b[1m)\u001b[22m\u001b[22m at \u001b[1m/home/zhong/.julia/v0.6/Multilane/src/relax.jl:10\u001b[22m\u001b[22m\n",
      " [7] \u001b[1mcollect\u001b[22m\u001b[22m\u001b[1m(\u001b[22m\u001b[22m::Base.Generator{UnitRange{Int64},Multilane.##94#95{MersenneTwister,Multilane.MLMDP{Multilane.MLState,Multilane.MLAction,Multilane.NoCrashIDMMOBILModel,Multilane.NoCrashRewardModel}}}\u001b[1m)\u001b[22m\u001b[22m at \u001b[1m./array.jl:475\u001b[22m\u001b[22m\n",
      " [8] \u001b[1m(::Multilane.#kw##gen_initial_physical)\u001b[22m\u001b[22m\u001b[1m(\u001b[22m\u001b[22m::Array{Any,1}, ::Multilane.#gen_initial_physical, ::Multilane.MLMDP{Multilane.MLState,Multilane.MLAction,Multilane.NoCrashIDMMOBILModel,Multilane.NoCrashRewardModel}, ::Int64\u001b[1m)\u001b[22m\u001b[22m at \u001b[1m./<missing>:0\u001b[22m\u001b[22m\n",
      " [9] \u001b[1m#add_initials!#96\u001b[22m\u001b[22m\u001b[1m(\u001b[22m\u001b[22m::Dict{String,Any}, ::MersenneTwister, ::Bool, ::Function, ::Dict{String,Any}, ::Multilane.TestSet\u001b[1m)\u001b[22m\u001b[22m at \u001b[1m/home/zhong/.julia/v0.6/Multilane/src/test_sets.jl:310\u001b[22m\u001b[22m\n",
      " [10] \u001b[1m(::Multilane.#kw##add_initials!)\u001b[22m\u001b[22m\u001b[1m(\u001b[22m\u001b[22m::Array{Any,1}, ::Multilane.#add_initials!, ::Dict{String,Any}, ::Multilane.TestSet\u001b[1m)\u001b[22m\u001b[22m at \u001b[1m./<missing>:0\u001b[22m\u001b[22m\n",
      " [11] \u001b[1m#gen_initials#87\u001b[22m\u001b[22m\u001b[1m(\u001b[22m\u001b[22m::Dict{String,Any}, ::Bool, ::MersenneTwister, ::Function, ::Array{Multilane.TestSet,1}, ::Dict{String,Any}\u001b[1m)\u001b[22m\u001b[22m at \u001b[1m/home/zhong/.julia/v0.6/Multilane/src/test_sets.jl:157\u001b[22m\u001b[22m\n",
      " [12] \u001b[1mgen_initials\u001b[22m\u001b[22m\u001b[1m(\u001b[22m\u001b[22m::Array{Multilane.TestSet,1}, ::Dict{String,Any}\u001b[1m)\u001b[22m\u001b[22m at \u001b[1m/home/zhong/.julia/v0.6/Multilane/src/test_sets.jl:155\u001b[22m\u001b[22m (repeats 2 times)\n",
      " [13] \u001b[1minclude_string\u001b[22m\u001b[22m\u001b[1m(\u001b[22m\u001b[22m::String, ::String\u001b[1m)\u001b[22m\u001b[22m at \u001b[1m./loading.jl:522\u001b[22m\u001b[22m\n",
      " [14] \u001b[1minclude_string\u001b[22m\u001b[22m\u001b[1m(\u001b[22m\u001b[22m::Module, ::String, ::String\u001b[1m)\u001b[22m\u001b[22m at \u001b[1m/home/zhong/.julia/v0.6/Compat/src/Compat.jl:174\u001b[22m\u001b[22m\n",
      " [15] \u001b[1mexecute_request\u001b[22m\u001b[22m\u001b[1m(\u001b[22m\u001b[22m::ZMQ.Socket, ::IJulia.Msg\u001b[1m)\u001b[22m\u001b[22m at \u001b[1m/home/zhong/.julia/v0.6/IJulia/src/execute_request.jl:154\u001b[22m\u001b[22m\n",
      " [16] \u001b[1m(::Compat.#inner#16{Array{Any,1},IJulia.#execute_request,Tuple{ZMQ.Socket,IJulia.Msg}})\u001b[22m\u001b[22m\u001b[1m(\u001b[22m\u001b[22m\u001b[1m)\u001b[22m\u001b[22m at \u001b[1m/home/zhong/.julia/v0.6/Compat/src/Compat.jl:496\u001b[22m\u001b[22m\n",
      " [17] \u001b[1meventloop\u001b[22m\u001b[22m\u001b[1m(\u001b[22m\u001b[22m::ZMQ.Socket\u001b[1m)\u001b[22m\u001b[22m at \u001b[1m/home/zhong/.julia/v0.6/IJulia/src/eventloop.jl:8\u001b[22m\u001b[22m\n",
      " [18] \u001b[1m(::IJulia.##14#17)\u001b[22m\u001b[22m\u001b[1m(\u001b[22m\u001b[22m\u001b[1m)\u001b[22m\u001b[22m at \u001b[1m./task.jl:335\u001b[22m\u001b[22m\n",
      "while loading In[6], in expression starting on line 1\n",
      "\u001b[1m\u001b[33mWARNING: \u001b[39m\u001b[22m\u001b[33mArray(::Type{T}, m::Int) where T is deprecated, use Array{T}(m) instead.\u001b[39m\n",
      "Stacktrace:\n",
      " [1] \u001b[1mdepwarn\u001b[22m\u001b[22m\u001b[1m(\u001b[22m\u001b[22m::String, ::Symbol\u001b[1m)\u001b[22m\u001b[22m at \u001b[1m./deprecated.jl:70\u001b[22m\u001b[22m\n",
      " [2] \u001b[1mArray\u001b[22m\u001b[22m\u001b[1m(\u001b[22m\u001b[22m::Type{Multilane.CarState}, ::Int64\u001b[1m)\u001b[22m\u001b[22m at \u001b[1m./deprecated.jl:57\u001b[22m\u001b[22m\n",
      " [3] \u001b[1mgenerate_sr\u001b[22m\u001b[22m\u001b[1m(\u001b[22m\u001b[22m::Multilane.MLMDP{Multilane.MLState,Multilane.MLAction,Multilane.NoCrashIDMMOBILModel,Multilane.NoCrashRewardModel}, ::Multilane.MLState, ::Multilane.MLAction, ::MersenneTwister, ::Multilane.MLState\u001b[1m)\u001b[22m\u001b[22m at \u001b[1m/home/zhong/.julia/v0.6/Multilane/src/robust_mdp.jl:34\u001b[22m\u001b[22m\n",
      " [4] \u001b[1msimulate_cz\u001b[22m\u001b[22m\u001b[1m(\u001b[22m\u001b[22m::POMDPToolbox.HistoryRecorder, ::Multilane.MLMDP{Multilane.MLState,Multilane.MLAction,Multilane.NoCrashIDMMOBILModel,Multilane.NoCrashRewardModel}, ::Multilane.BehaviorPolicy, ::Multilane.MLState\u001b[1m)\u001b[22m\u001b[22m at \u001b[1m/home/zhong/.julia/v0.6/Multilane/src/relax.jl:91\u001b[22m\u001b[22m\n",
      " [5] \u001b[1m#relaxed_initial_state#108\u001b[22m\u001b[22m\u001b[1m(\u001b[22m\u001b[22m::Multilane.BehaviorSolver, ::Function, ::Multilane.MLMDP{Multilane.MLState,Multilane.MLAction,Multilane.NoCrashIDMMOBILModel,Multilane.NoCrashRewardModel}, ::Int64, ::MersenneTwister\u001b[1m)\u001b[22m\u001b[22m at \u001b[1m/home/zhong/.julia/v0.6/Multilane/src/relax.jl:10\u001b[22m\u001b[22m\n",
      " [6] \u001b[1mcollect\u001b[22m\u001b[22m\u001b[1m(\u001b[22m\u001b[22m::Base.Generator{UnitRange{Int64},Multilane.##94#95{MersenneTwister,Multilane.MLMDP{Multilane.MLState,Multilane.MLAction,Multilane.NoCrashIDMMOBILModel,Multilane.NoCrashRewardModel}}}\u001b[1m)\u001b[22m\u001b[22m at \u001b[1m./array.jl:475\u001b[22m\u001b[22m\n",
      " [7] \u001b[1m(::Multilane.#kw##gen_initial_physical)\u001b[22m\u001b[22m\u001b[1m(\u001b[22m\u001b[22m::Array{Any,1}, ::Multilane.#gen_initial_physical, ::Multilane.MLMDP{Multilane.MLState,Multilane.MLAction,Multilane.NoCrashIDMMOBILModel,Multilane.NoCrashRewardModel}, ::Int64\u001b[1m)\u001b[22m\u001b[22m at \u001b[1m./<missing>:0\u001b[22m\u001b[22m\n",
      " [8] \u001b[1m#add_initials!#96\u001b[22m\u001b[22m\u001b[1m(\u001b[22m\u001b[22m::Dict{String,Any}, ::MersenneTwister, ::Bool, ::Function, ::Dict{String,Any}, ::Multilane.TestSet\u001b[1m)\u001b[22m\u001b[22m at \u001b[1m/home/zhong/.julia/v0.6/Multilane/src/test_sets.jl:310\u001b[22m\u001b[22m\n",
      " [9] \u001b[1m(::Multilane.#kw##add_initials!)\u001b[22m\u001b[22m\u001b[1m(\u001b[22m\u001b[22m::Array{Any,1}, ::Multilane.#add_initials!, ::Dict{String,Any}, ::Multilane.TestSet\u001b[1m)\u001b[22m\u001b[22m at \u001b[1m./<missing>:0\u001b[22m\u001b[22m\n",
      " [10] \u001b[1m#gen_initials#87\u001b[22m\u001b[22m\u001b[1m(\u001b[22m\u001b[22m::Dict{String,Any}, ::Bool, ::MersenneTwister, ::Function, ::Array{Multilane.TestSet,1}, ::Dict{String,Any}\u001b[1m)\u001b[22m\u001b[22m at \u001b[1m/home/zhong/.julia/v0.6/Multilane/src/test_sets.jl:157\u001b[22m\u001b[22m\n",
      " [11] \u001b[1mgen_initials\u001b[22m\u001b[22m\u001b[1m(\u001b[22m\u001b[22m::Array{Multilane.TestSet,1}, ::Dict{String,Any}\u001b[1m)\u001b[22m\u001b[22m at \u001b[1m/home/zhong/.julia/v0.6/Multilane/src/test_sets.jl:155\u001b[22m\u001b[22m (repeats 2 times)\n",
      " [12] \u001b[1minclude_string\u001b[22m\u001b[22m\u001b[1m(\u001b[22m\u001b[22m::String, ::String\u001b[1m)\u001b[22m\u001b[22m at \u001b[1m./loading.jl:522\u001b[22m\u001b[22m\n",
      " [13] \u001b[1minclude_string\u001b[22m\u001b[22m\u001b[1m(\u001b[22m\u001b[22m::Module, ::String, ::String\u001b[1m)\u001b[22m\u001b[22m at \u001b[1m/home/zhong/.julia/v0.6/Compat/src/Compat.jl:174\u001b[22m\u001b[22m\n",
      " [14] \u001b[1mexecute_request\u001b[22m\u001b[22m\u001b[1m(\u001b[22m\u001b[22m::ZMQ.Socket, ::IJulia.Msg\u001b[1m)\u001b[22m\u001b[22m at \u001b[1m/home/zhong/.julia/v0.6/IJulia/src/execute_request.jl:154\u001b[22m\u001b[22m\n",
      " [15] \u001b[1m(::Compat.#inner#16{Array{Any,1},IJulia.#execute_request,Tuple{ZMQ.Socket,IJulia.Msg}})\u001b[22m\u001b[22m\u001b[1m(\u001b[22m\u001b[22m\u001b[1m)\u001b[22m\u001b[22m at \u001b[1m/home/zhong/.julia/v0.6/Compat/src/Compat.jl:496\u001b[22m\u001b[22m\n",
      " [16] \u001b[1meventloop\u001b[22m\u001b[22m\u001b[1m(\u001b[22m\u001b[22m::ZMQ.Socket\u001b[1m)\u001b[22m\u001b[22m at \u001b[1m/home/zhong/.julia/v0.6/IJulia/src/eventloop.jl:8\u001b[22m\u001b[22m\n",
      " [17] \u001b[1m(::IJulia.##14#17)\u001b[22m\u001b[22m\u001b[1m(\u001b[22m\u001b[22m\u001b[1m)\u001b[22m\u001b[22m at \u001b[1m./task.jl:335\u001b[22m\u001b[22m\n",
      "while loading In[6], in expression starting on line 1\n",
      "\u001b[1m\u001b[33mWARNING: \u001b[39m\u001b[22m\u001b[33mArray(::Type{T}, m::Int) where T is deprecated, use Array{T}(m) instead.\u001b[39m\n",
      "Stacktrace:\n",
      " [1] \u001b[1mdepwarn\u001b[22m\u001b[22m\u001b[1m(\u001b[22m\u001b[22m::String, ::Symbol\u001b[1m)\u001b[22m\u001b[22m at \u001b[1m./deprecated.jl:70\u001b[22m\u001b[22m\n",
      " [2] \u001b[1mArray\u001b[22m\u001b[22m\u001b[1m(\u001b[22m\u001b[22m::Type{Float64}, ::Int64\u001b[1m)\u001b[22m\u001b[22m at \u001b[1m./deprecated.jl:57\u001b[22m\u001b[22m\n",
      " [3] \u001b[1mgenerate_s\u001b[22m\u001b[22m\u001b[1m(\u001b[22m\u001b[22m::Multilane.MLMDP{Multilane.MLState,Multilane.MLAction,Multilane.NoCrashIDMMOBILModel,Multilane.NoCrashRewardModel}, ::Multilane.MLState, ::Multilane.MLAction, ::MersenneTwister\u001b[1m)\u001b[22m\u001b[22m at \u001b[1m/home/zhong/.julia/v0.6/Multilane/src/no_crash_model.jl:275\u001b[22m\u001b[22m\n",
      " [4] \u001b[1mgenerate_sr\u001b[22m\u001b[22m\u001b[1m(\u001b[22m\u001b[22m::Multilane.MLMDP{Multilane.MLState,Multilane.MLAction,Multilane.NoCrashIDMMOBILModel,Multilane.NoCrashRewardModel}, ::Multilane.MLState, ::Multilane.MLAction, ::MersenneTwister, ::Multilane.MLState\u001b[1m)\u001b[22m\u001b[22m at \u001b[1m/home/zhong/.julia/v0.6/Multilane/src/robust_mdp.jl:39\u001b[22m\u001b[22m\n",
      " [5] \u001b[1msimulate_cz\u001b[22m\u001b[22m\u001b[1m(\u001b[22m\u001b[22m::POMDPToolbox.HistoryRecorder, ::Multilane.MLMDP{Multilane.MLState,Multilane.MLAction,Multilane.NoCrashIDMMOBILModel,Multilane.NoCrashRewardModel}, ::Multilane.BehaviorPolicy, ::Multilane.MLState\u001b[1m)\u001b[22m\u001b[22m at \u001b[1m/home/zhong/.julia/v0.6/Multilane/src/relax.jl:91\u001b[22m\u001b[22m\n",
      " [6] \u001b[1m#relaxed_initial_state#108\u001b[22m\u001b[22m\u001b[1m(\u001b[22m\u001b[22m::Multilane.BehaviorSolver, ::Function, ::Multilane.MLMDP{Multilane.MLState,Multilane.MLAction,Multilane.NoCrashIDMMOBILModel,Multilane.NoCrashRewardModel}, ::Int64, ::MersenneTwister\u001b[1m)\u001b[22m\u001b[22m at \u001b[1m/home/zhong/.julia/v0.6/Multilane/src/relax.jl:10\u001b[22m\u001b[22m\n",
      " [7] \u001b[1mcollect\u001b[22m\u001b[22m\u001b[1m(\u001b[22m\u001b[22m::Base.Generator{UnitRange{Int64},Multilane.##94#95{MersenneTwister,Multilane.MLMDP{Multilane.MLState,Multilane.MLAction,Multilane.NoCrashIDMMOBILModel,Multilane.NoCrashRewardModel}}}\u001b[1m)\u001b[22m\u001b[22m at \u001b[1m./array.jl:475\u001b[22m\u001b[22m\n",
      " [8] \u001b[1m(::Multilane.#kw##gen_initial_physical)\u001b[22m\u001b[22m\u001b[1m(\u001b[22m\u001b[22m::Array{Any,1}, ::Multilane.#gen_initial_physical, ::Multilane.MLMDP{Multilane.MLState,Multilane.MLAction,Multilane.NoCrashIDMMOBILModel,Multilane.NoCrashRewardModel}, ::Int64\u001b[1m)\u001b[22m\u001b[22m at \u001b[1m./<missing>:0\u001b[22m\u001b[22m\n",
      " [9] \u001b[1m#add_initials!#96\u001b[22m\u001b[22m\u001b[1m(\u001b[22m\u001b[22m::Dict{String,Any}, ::MersenneTwister, ::Bool, ::Function, ::Dict{String,Any}, ::Multilane.TestSet\u001b[1m)\u001b[22m\u001b[22m at \u001b[1m/home/zhong/.julia/v0.6/Multilane/src/test_sets.jl:310\u001b[22m\u001b[22m\n",
      " [10] \u001b[1m(::Multilane.#kw##add_initials!)\u001b[22m\u001b[22m\u001b[1m(\u001b[22m\u001b[22m::Array{Any,1}, ::Multilane.#add_initials!, ::Dict{String,Any}, ::Multilane.TestSet\u001b[1m)\u001b[22m\u001b[22m at \u001b[1m./<missing>:0\u001b[22m\u001b[22m\n",
      " [11] \u001b[1m#gen_initials#87\u001b[22m\u001b[22m\u001b[1m(\u001b[22m\u001b[22m::Dict{String,Any}, ::Bool, ::MersenneTwister, ::Function, ::Array{Multilane.TestSet,1}, ::Dict{String,Any}\u001b[1m)\u001b[22m\u001b[22m at \u001b[1m/home/zhong/.julia/v0.6/Multilane/src/test_sets.jl:157\u001b[22m\u001b[22m\n",
      " [12] \u001b[1mgen_initials\u001b[22m\u001b[22m\u001b[1m(\u001b[22m\u001b[22m::Array{Multilane.TestSet,1}, ::Dict{String,Any}\u001b[1m)\u001b[22m\u001b[22m at \u001b[1m/home/zhong/.julia/v0.6/Multilane/src/test_sets.jl:155\u001b[22m\u001b[22m (repeats 2 times)\n",
      " [13] \u001b[1minclude_string\u001b[22m\u001b[22m\u001b[1m(\u001b[22m\u001b[22m::String, ::String\u001b[1m)\u001b[22m\u001b[22m at \u001b[1m./loading.jl:522\u001b[22m\u001b[22m\n",
      " [14] \u001b[1minclude_string\u001b[22m\u001b[22m\u001b[1m(\u001b[22m\u001b[22m::Module, ::String, ::String\u001b[1m)\u001b[22m\u001b[22m at \u001b[1m/home/zhong/.julia/v0.6/Compat/src/Compat.jl:174\u001b[22m\u001b[22m\n",
      " [15] \u001b[1mexecute_request\u001b[22m\u001b[22m\u001b[1m(\u001b[22m\u001b[22m::ZMQ.Socket, ::IJulia.Msg\u001b[1m)\u001b[22m\u001b[22m at \u001b[1m/home/zhong/.julia/v0.6/IJulia/src/execute_request.jl:154\u001b[22m\u001b[22m\n",
      " [16] \u001b[1m(::Compat.#inner#16{Array{Any,1},IJulia.#execute_request,Tuple{ZMQ.Socket,IJulia.Msg}})\u001b[22m\u001b[22m\u001b[1m(\u001b[22m\u001b[22m\u001b[1m)\u001b[22m\u001b[22m at \u001b[1m/home/zhong/.julia/v0.6/Compat/src/Compat.jl:496\u001b[22m\u001b[22m\n",
      " [17] \u001b[1meventloop\u001b[22m\u001b[22m\u001b[1m(\u001b[22m\u001b[22m::ZMQ.Socket\u001b[1m)\u001b[22m\u001b[22m at \u001b[1m/home/zhong/.julia/v0.6/IJulia/src/eventloop.jl:8\u001b[22m\u001b[22m\n",
      " [18] \u001b[1m(::IJulia.##14#17)\u001b[22m\u001b[22m\u001b[1m(\u001b[22m\u001b[22m\u001b[1m)\u001b[22m\u001b[22m at \u001b[1m./task.jl:335\u001b[22m\u001b[22m\n",
      "while loading In[6], in expression starting on line 1\n"
     ]
    },
    {
     "name": "stderr",
     "output_type": "stream",
     "text": [
      "\u001b[1m\u001b[33mWARNING: \u001b[39m\u001b[22m\u001b[33mArray(::Type{T}, m::Int) where T is deprecated, use Array{T}(m) instead.\u001b[39m\n",
      "Stacktrace:\n",
      " [1] \u001b[1mdepwarn\u001b[22m\u001b[22m\u001b[1m(\u001b[22m\u001b[22m::String, ::Symbol\u001b[1m)\u001b[22m\u001b[22m at \u001b[1m./deprecated.jl:70\u001b[22m\u001b[22m\n",
      " [2] \u001b[1mArray\u001b[22m\u001b[22m\u001b[1m(\u001b[22m\u001b[22m::Type{Float64}, ::Int64\u001b[1m)\u001b[22m\u001b[22m at \u001b[1m./deprecated.jl:57\u001b[22m\u001b[22m\n",
      " [3] \u001b[1mgenerate_s\u001b[22m\u001b[22m\u001b[1m(\u001b[22m\u001b[22m::Multilane.MLMDP{Multilane.MLState,Multilane.MLAction,Multilane.NoCrashIDMMOBILModel,Multilane.NoCrashRewardModel}, ::Multilane.MLState, ::Multilane.MLAction, ::MersenneTwister\u001b[1m)\u001b[22m\u001b[22m at \u001b[1m/home/zhong/.julia/v0.6/Multilane/src/no_crash_model.jl:276\u001b[22m\u001b[22m\n",
      " [4] \u001b[1mgenerate_sr\u001b[22m\u001b[22m\u001b[1m(\u001b[22m\u001b[22m::Multilane.MLMDP{Multilane.MLState,Multilane.MLAction,Multilane.NoCrashIDMMOBILModel,Multilane.NoCrashRewardModel}, ::Multilane.MLState, ::Multilane.MLAction, ::MersenneTwister, ::Multilane.MLState\u001b[1m)\u001b[22m\u001b[22m at \u001b[1m/home/zhong/.julia/v0.6/Multilane/src/robust_mdp.jl:39\u001b[22m\u001b[22m\n",
      " [5] \u001b[1msimulate_cz\u001b[22m\u001b[22m\u001b[1m(\u001b[22m\u001b[22m::POMDPToolbox.HistoryRecorder, ::Multilane.MLMDP{Multilane.MLState,Multilane.MLAction,Multilane.NoCrashIDMMOBILModel,Multilane.NoCrashRewardModel}, ::Multilane.BehaviorPolicy, ::Multilane.MLState\u001b[1m)\u001b[22m\u001b[22m at \u001b[1m/home/zhong/.julia/v0.6/Multilane/src/relax.jl:91\u001b[22m\u001b[22m\n",
      " [6] \u001b[1m#relaxed_initial_state#108\u001b[22m\u001b[22m\u001b[1m(\u001b[22m\u001b[22m::Multilane.BehaviorSolver, ::Function, ::Multilane.MLMDP{Multilane.MLState,Multilane.MLAction,Multilane.NoCrashIDMMOBILModel,Multilane.NoCrashRewardModel}, ::Int64, ::MersenneTwister\u001b[1m)\u001b[22m\u001b[22m at \u001b[1m/home/zhong/.julia/v0.6/Multilane/src/relax.jl:10\u001b[22m\u001b[22m\n",
      " [7] \u001b[1mcollect\u001b[22m\u001b[22m\u001b[1m(\u001b[22m\u001b[22m::Base.Generator{UnitRange{Int64},Multilane.##94#95{MersenneTwister,Multilane.MLMDP{Multilane.MLState,Multilane.MLAction,Multilane.NoCrashIDMMOBILModel,Multilane.NoCrashRewardModel}}}\u001b[1m)\u001b[22m\u001b[22m at \u001b[1m./array.jl:475\u001b[22m\u001b[22m\n",
      " [8] \u001b[1m(::Multilane.#kw##gen_initial_physical)\u001b[22m\u001b[22m\u001b[1m(\u001b[22m\u001b[22m::Array{Any,1}, ::Multilane.#gen_initial_physical, ::Multilane.MLMDP{Multilane.MLState,Multilane.MLAction,Multilane.NoCrashIDMMOBILModel,Multilane.NoCrashRewardModel}, ::Int64\u001b[1m)\u001b[22m\u001b[22m at \u001b[1m./<missing>:0\u001b[22m\u001b[22m\n",
      " [9] \u001b[1m#add_initials!#96\u001b[22m\u001b[22m\u001b[1m(\u001b[22m\u001b[22m::Dict{String,Any}, ::MersenneTwister, ::Bool, ::Function, ::Dict{String,Any}, ::Multilane.TestSet\u001b[1m)\u001b[22m\u001b[22m at \u001b[1m/home/zhong/.julia/v0.6/Multilane/src/test_sets.jl:310\u001b[22m\u001b[22m\n",
      " [10] \u001b[1m(::Multilane.#kw##add_initials!)\u001b[22m\u001b[22m\u001b[1m(\u001b[22m\u001b[22m::Array{Any,1}, ::Multilane.#add_initials!, ::Dict{String,Any}, ::Multilane.TestSet\u001b[1m)\u001b[22m\u001b[22m at \u001b[1m./<missing>:0\u001b[22m\u001b[22m\n",
      " [11] \u001b[1m#gen_initials#87\u001b[22m\u001b[22m\u001b[1m(\u001b[22m\u001b[22m::Dict{String,Any}, ::Bool, ::MersenneTwister, ::Function, ::Array{Multilane.TestSet,1}, ::Dict{String,Any}\u001b[1m)\u001b[22m\u001b[22m at \u001b[1m/home/zhong/.julia/v0.6/Multilane/src/test_sets.jl:157\u001b[22m\u001b[22m\n",
      " [12] \u001b[1mgen_initials\u001b[22m\u001b[22m\u001b[1m(\u001b[22m\u001b[22m::Array{Multilane.TestSet,1}, ::Dict{String,Any}\u001b[1m)\u001b[22m\u001b[22m at \u001b[1m/home/zhong/.julia/v0.6/Multilane/src/test_sets.jl:155\u001b[22m\u001b[22m (repeats 2 times)\n",
      " [13] \u001b[1minclude_string\u001b[22m\u001b[22m\u001b[1m(\u001b[22m\u001b[22m::String, ::String\u001b[1m)\u001b[22m\u001b[22m at \u001b[1m./loading.jl:522\u001b[22m\u001b[22m\n",
      " [14] \u001b[1minclude_string\u001b[22m\u001b[22m\u001b[1m(\u001b[22m\u001b[22m::Module, ::String, ::String\u001b[1m)\u001b[22m\u001b[22m at \u001b[1m/home/zhong/.julia/v0.6/Compat/src/Compat.jl:174\u001b[22m\u001b[22m\n",
      " [15] \u001b[1mexecute_request\u001b[22m\u001b[22m\u001b[1m(\u001b[22m\u001b[22m::ZMQ.Socket, ::IJulia.Msg\u001b[1m)\u001b[22m\u001b[22m at \u001b[1m/home/zhong/.julia/v0.6/IJulia/src/execute_request.jl:154\u001b[22m\u001b[22m\n",
      " [16] \u001b[1m(::Compat.#inner#16{Array{Any,1},IJulia.#execute_request,Tuple{ZMQ.Socket,IJulia.Msg}})\u001b[22m\u001b[22m\u001b[1m(\u001b[22m\u001b[22m\u001b[1m)\u001b[22m\u001b[22m at \u001b[1m/home/zhong/.julia/v0.6/Compat/src/Compat.jl:496\u001b[22m\u001b[22m\n",
      " [17] \u001b[1meventloop\u001b[22m\u001b[22m\u001b[1m(\u001b[22m\u001b[22m::ZMQ.Socket\u001b[1m)\u001b[22m\u001b[22m at \u001b[1m/home/zhong/.julia/v0.6/IJulia/src/eventloop.jl:8\u001b[22m\u001b[22m\n",
      " [18] \u001b[1m(::IJulia.##14#17)\u001b[22m\u001b[22m\u001b[1m(\u001b[22m\u001b[22m\u001b[1m)\u001b[22m\u001b[22m at \u001b[1m./task.jl:335\u001b[22m\u001b[22m\n",
      "while loading In[6], in expression starting on line 1\n",
      "\u001b[1m\u001b[33mWARNING: \u001b[39m\u001b[22m\u001b[33mArray(::Type{T}, m::Int) where T is deprecated, use Array{T}(m) instead.\u001b[39m\n",
      "Stacktrace:\n",
      " [1] \u001b[1mdepwarn\u001b[22m\u001b[22m\u001b[1m(\u001b[22m\u001b[22m::String, ::Symbol\u001b[1m)\u001b[22m\u001b[22m at \u001b[1m./deprecated.jl:70\u001b[22m\u001b[22m\n",
      " [2] \u001b[1mArray\u001b[22m\u001b[22m\u001b[1m(\u001b[22m\u001b[22m::Type{Float64}, ::Int64\u001b[1m)\u001b[22m\u001b[22m at \u001b[1m./deprecated.jl:57\u001b[22m\u001b[22m\n",
      " [3] \u001b[1mgenerate_s\u001b[22m\u001b[22m\u001b[1m(\u001b[22m\u001b[22m::Multilane.MLMDP{Multilane.MLState,Multilane.MLAction,Multilane.NoCrashIDMMOBILModel,Multilane.NoCrashRewardModel}, ::Multilane.MLState, ::Multilane.MLAction, ::MersenneTwister\u001b[1m)\u001b[22m\u001b[22m at \u001b[1m/home/zhong/.julia/v0.6/Multilane/src/no_crash_model.jl:277\u001b[22m\u001b[22m\n",
      " [4] \u001b[1mgenerate_sr\u001b[22m\u001b[22m\u001b[1m(\u001b[22m\u001b[22m::Multilane.MLMDP{Multilane.MLState,Multilane.MLAction,Multilane.NoCrashIDMMOBILModel,Multilane.NoCrashRewardModel}, ::Multilane.MLState, ::Multilane.MLAction, ::MersenneTwister, ::Multilane.MLState\u001b[1m)\u001b[22m\u001b[22m at \u001b[1m/home/zhong/.julia/v0.6/Multilane/src/robust_mdp.jl:39\u001b[22m\u001b[22m\n",
      " [5] \u001b[1msimulate_cz\u001b[22m\u001b[22m\u001b[1m(\u001b[22m\u001b[22m::POMDPToolbox.HistoryRecorder, ::Multilane.MLMDP{Multilane.MLState,Multilane.MLAction,Multilane.NoCrashIDMMOBILModel,Multilane.NoCrashRewardModel}, ::Multilane.BehaviorPolicy, ::Multilane.MLState\u001b[1m)\u001b[22m\u001b[22m at \u001b[1m/home/zhong/.julia/v0.6/Multilane/src/relax.jl:91\u001b[22m\u001b[22m\n",
      " [6] \u001b[1m#relaxed_initial_state#108\u001b[22m\u001b[22m\u001b[1m(\u001b[22m\u001b[22m::Multilane.BehaviorSolver, ::Function, ::Multilane.MLMDP{Multilane.MLState,Multilane.MLAction,Multilane.NoCrashIDMMOBILModel,Multilane.NoCrashRewardModel}, ::Int64, ::MersenneTwister\u001b[1m)\u001b[22m\u001b[22m at \u001b[1m/home/zhong/.julia/v0.6/Multilane/src/relax.jl:10\u001b[22m\u001b[22m\n",
      " [7] \u001b[1mcollect\u001b[22m\u001b[22m\u001b[1m(\u001b[22m\u001b[22m::Base.Generator{UnitRange{Int64},Multilane.##94#95{MersenneTwister,Multilane.MLMDP{Multilane.MLState,Multilane.MLAction,Multilane.NoCrashIDMMOBILModel,Multilane.NoCrashRewardModel}}}\u001b[1m)\u001b[22m\u001b[22m at \u001b[1m./array.jl:475\u001b[22m\u001b[22m\n",
      " [8] \u001b[1m(::Multilane.#kw##gen_initial_physical)\u001b[22m\u001b[22m\u001b[1m(\u001b[22m\u001b[22m::Array{Any,1}, ::Multilane.#gen_initial_physical, ::Multilane.MLMDP{Multilane.MLState,Multilane.MLAction,Multilane.NoCrashIDMMOBILModel,Multilane.NoCrashRewardModel}, ::Int64\u001b[1m)\u001b[22m\u001b[22m at \u001b[1m./<missing>:0\u001b[22m\u001b[22m\n",
      " [9] \u001b[1m#add_initials!#96\u001b[22m\u001b[22m\u001b[1m(\u001b[22m\u001b[22m::Dict{String,Any}, ::MersenneTwister, ::Bool, ::Function, ::Dict{String,Any}, ::Multilane.TestSet\u001b[1m)\u001b[22m\u001b[22m at \u001b[1m/home/zhong/.julia/v0.6/Multilane/src/test_sets.jl:310\u001b[22m\u001b[22m\n",
      " [10] \u001b[1m(::Multilane.#kw##add_initials!)\u001b[22m\u001b[22m\u001b[1m(\u001b[22m\u001b[22m::Array{Any,1}, ::Multilane.#add_initials!, ::Dict{String,Any}, ::Multilane.TestSet\u001b[1m)\u001b[22m\u001b[22m at \u001b[1m./<missing>:0\u001b[22m\u001b[22m\n",
      " [11] \u001b[1m#gen_initials#87\u001b[22m\u001b[22m\u001b[1m(\u001b[22m\u001b[22m::Dict{String,Any}, ::Bool, ::MersenneTwister, ::Function, ::Array{Multilane.TestSet,1}, ::Dict{String,Any}\u001b[1m)\u001b[22m\u001b[22m at \u001b[1m/home/zhong/.julia/v0.6/Multilane/src/test_sets.jl:157\u001b[22m\u001b[22m\n",
      " [12] \u001b[1mgen_initials\u001b[22m\u001b[22m\u001b[1m(\u001b[22m\u001b[22m::Array{Multilane.TestSet,1}, ::Dict{String,Any}\u001b[1m)\u001b[22m\u001b[22m at \u001b[1m/home/zhong/.julia/v0.6/Multilane/src/test_sets.jl:155\u001b[22m\u001b[22m (repeats 2 times)\n",
      " [13] \u001b[1minclude_string\u001b[22m\u001b[22m\u001b[1m(\u001b[22m\u001b[22m::String, ::String\u001b[1m)\u001b[22m\u001b[22m at \u001b[1m./loading.jl:522\u001b[22m\u001b[22m\n",
      " [14] \u001b[1minclude_string\u001b[22m\u001b[22m\u001b[1m(\u001b[22m\u001b[22m::Module, ::String, ::String\u001b[1m)\u001b[22m\u001b[22m at \u001b[1m/home/zhong/.julia/v0.6/Compat/src/Compat.jl:174\u001b[22m\u001b[22m\n",
      " [15] \u001b[1mexecute_request\u001b[22m\u001b[22m\u001b[1m(\u001b[22m\u001b[22m::ZMQ.Socket, ::IJulia.Msg\u001b[1m)\u001b[22m\u001b[22m at \u001b[1m/home/zhong/.julia/v0.6/IJulia/src/execute_request.jl:154\u001b[22m\u001b[22m\n",
      " [16] \u001b[1m(::Compat.#inner#16{Array{Any,1},IJulia.#execute_request,Tuple{ZMQ.Socket,IJulia.Msg}})\u001b[22m\u001b[22m\u001b[1m(\u001b[22m\u001b[22m\u001b[1m)\u001b[22m\u001b[22m at \u001b[1m/home/zhong/.julia/v0.6/Compat/src/Compat.jl:496\u001b[22m\u001b[22m\n",
      " [17] \u001b[1meventloop\u001b[22m\u001b[22m\u001b[1m(\u001b[22m\u001b[22m::ZMQ.Socket\u001b[1m)\u001b[22m\u001b[22m at \u001b[1m/home/zhong/.julia/v0.6/IJulia/src/eventloop.jl:8\u001b[22m\u001b[22m\n",
      " [18] \u001b[1m(::IJulia.##14#17)\u001b[22m\u001b[22m\u001b[1m(\u001b[22m\u001b[22m\u001b[1m)\u001b[22m\u001b[22m at \u001b[1m./task.jl:335\u001b[22m\u001b[22m\n",
      "while loading In[6], in expression starting on line 1\n",
      "\u001b[1m\u001b[33mWARNING: \u001b[39m\u001b[22m\u001b[33mArray(::Type{T}, m::Int) where T is deprecated, use Array{T}(m) instead.\u001b[39m\n",
      "Stacktrace:\n",
      " [1] \u001b[1mdepwarn\u001b[22m\u001b[22m\u001b[1m(\u001b[22m\u001b[22m::String, ::Symbol\u001b[1m)\u001b[22m\u001b[22m at \u001b[1m./deprecated.jl:70\u001b[22m\u001b[22m\n",
      " [2] \u001b[1mArray\u001b[22m\u001b[22m\u001b[1m(\u001b[22m\u001b[22m::Type{Float64}, ::Int64\u001b[1m)\u001b[22m\u001b[22m at \u001b[1m./deprecated.jl:57\u001b[22m\u001b[22m\n",
      " [3] \u001b[1mgenerate_s\u001b[22m\u001b[22m\u001b[1m(\u001b[22m\u001b[22m::Multilane.MLMDP{Multilane.MLState,Multilane.MLAction,Multilane.NoCrashIDMMOBILModel,Multilane.NoCrashRewardModel}, ::Multilane.MLState, ::Multilane.MLAction, ::MersenneTwister\u001b[1m)\u001b[22m\u001b[22m at \u001b[1m/home/zhong/.julia/v0.6/Multilane/src/no_crash_model.jl:278\u001b[22m\u001b[22m\n",
      " [4] \u001b[1mgenerate_sr\u001b[22m\u001b[22m\u001b[1m(\u001b[22m\u001b[22m::Multilane.MLMDP{Multilane.MLState,Multilane.MLAction,Multilane.NoCrashIDMMOBILModel,Multilane.NoCrashRewardModel}, ::Multilane.MLState, ::Multilane.MLAction, ::MersenneTwister, ::Multilane.MLState\u001b[1m)\u001b[22m\u001b[22m at \u001b[1m/home/zhong/.julia/v0.6/Multilane/src/robust_mdp.jl:39\u001b[22m\u001b[22m\n",
      " [5] \u001b[1msimulate_cz\u001b[22m\u001b[22m\u001b[1m(\u001b[22m\u001b[22m::POMDPToolbox.HistoryRecorder, ::Multilane.MLMDP{Multilane.MLState,Multilane.MLAction,Multilane.NoCrashIDMMOBILModel,Multilane.NoCrashRewardModel}, ::Multilane.BehaviorPolicy, ::Multilane.MLState\u001b[1m)\u001b[22m\u001b[22m at \u001b[1m/home/zhong/.julia/v0.6/Multilane/src/relax.jl:91\u001b[22m\u001b[22m\n",
      " [6] \u001b[1m#relaxed_initial_state#108\u001b[22m\u001b[22m\u001b[1m(\u001b[22m\u001b[22m::Multilane.BehaviorSolver, ::Function, ::Multilane.MLMDP{Multilane.MLState,Multilane.MLAction,Multilane.NoCrashIDMMOBILModel,Multilane.NoCrashRewardModel}, ::Int64, ::MersenneTwister\u001b[1m)\u001b[22m\u001b[22m at \u001b[1m/home/zhong/.julia/v0.6/Multilane/src/relax.jl:10\u001b[22m\u001b[22m\n",
      " [7] \u001b[1mcollect\u001b[22m\u001b[22m\u001b[1m(\u001b[22m\u001b[22m::Base.Generator{UnitRange{Int64},Multilane.##94#95{MersenneTwister,Multilane.MLMDP{Multilane.MLState,Multilane.MLAction,Multilane.NoCrashIDMMOBILModel,Multilane.NoCrashRewardModel}}}\u001b[1m)\u001b[22m\u001b[22m at \u001b[1m./array.jl:475\u001b[22m\u001b[22m\n",
      " [8] \u001b[1m(::Multilane.#kw##gen_initial_physical)\u001b[22m\u001b[22m\u001b[1m(\u001b[22m\u001b[22m::Array{Any,1}, ::Multilane.#gen_initial_physical, ::Multilane.MLMDP{Multilane.MLState,Multilane.MLAction,Multilane.NoCrashIDMMOBILModel,Multilane.NoCrashRewardModel}, ::Int64\u001b[1m)\u001b[22m\u001b[22m at \u001b[1m./<missing>:0\u001b[22m\u001b[22m\n",
      " [9] \u001b[1m#add_initials!#96\u001b[22m\u001b[22m\u001b[1m(\u001b[22m\u001b[22m::Dict{String,Any}, ::MersenneTwister, ::Bool, ::Function, ::Dict{String,Any}, ::Multilane.TestSet\u001b[1m)\u001b[22m\u001b[22m at \u001b[1m/home/zhong/.julia/v0.6/Multilane/src/test_sets.jl:310\u001b[22m\u001b[22m\n",
      " [10] \u001b[1m(::Multilane.#kw##add_initials!)\u001b[22m\u001b[22m\u001b[1m(\u001b[22m\u001b[22m::Array{Any,1}, ::Multilane.#add_initials!, ::Dict{String,Any}, ::Multilane.TestSet\u001b[1m)\u001b[22m\u001b[22m at \u001b[1m./<missing>:0\u001b[22m\u001b[22m\n",
      " [11] \u001b[1m#gen_initials#87\u001b[22m\u001b[22m\u001b[1m(\u001b[22m\u001b[22m::Dict{String,Any}, ::Bool, ::MersenneTwister, ::Function, ::Array{Multilane.TestSet,1}, ::Dict{String,Any}\u001b[1m)\u001b[22m\u001b[22m at \u001b[1m/home/zhong/.julia/v0.6/Multilane/src/test_sets.jl:157\u001b[22m\u001b[22m\n",
      " [12] \u001b[1mgen_initials\u001b[22m\u001b[22m\u001b[1m(\u001b[22m\u001b[22m::Array{Multilane.TestSet,1}, ::Dict{String,Any}\u001b[1m)\u001b[22m\u001b[22m at \u001b[1m/home/zhong/.julia/v0.6/Multilane/src/test_sets.jl:155\u001b[22m\u001b[22m (repeats 2 times)\n",
      " [13] \u001b[1minclude_string\u001b[22m\u001b[22m\u001b[1m(\u001b[22m\u001b[22m::String, ::String\u001b[1m)\u001b[22m\u001b[22m at \u001b[1m./loading.jl:522\u001b[22m\u001b[22m\n",
      " [14] \u001b[1minclude_string\u001b[22m\u001b[22m\u001b[1m(\u001b[22m\u001b[22m::Module, ::String, ::String\u001b[1m)\u001b[22m\u001b[22m at \u001b[1m/home/zhong/.julia/v0.6/Compat/src/Compat.jl:174\u001b[22m\u001b[22m\n",
      " [15] \u001b[1mexecute_request\u001b[22m\u001b[22m\u001b[1m(\u001b[22m\u001b[22m::ZMQ.Socket, ::IJulia.Msg\u001b[1m)\u001b[22m\u001b[22m at \u001b[1m/home/zhong/.julia/v0.6/IJulia/src/execute_request.jl:154\u001b[22m\u001b[22m\n",
      " [16] \u001b[1m(::Compat.#inner#16{Array{Any,1},IJulia.#execute_request,Tuple{ZMQ.Socket,IJulia.Msg}})\u001b[22m\u001b[22m\u001b[1m(\u001b[22m\u001b[22m\u001b[1m)\u001b[22m\u001b[22m at \u001b[1m/home/zhong/.julia/v0.6/Compat/src/Compat.jl:496\u001b[22m\u001b[22m\n",
      " [17] \u001b[1meventloop\u001b[22m\u001b[22m\u001b[1m(\u001b[22m\u001b[22m::ZMQ.Socket\u001b[1m)\u001b[22m\u001b[22m at \u001b[1m/home/zhong/.julia/v0.6/IJulia/src/eventloop.jl:8\u001b[22m\u001b[22m\n",
      " [18] \u001b[1m(::IJulia.##14#17)\u001b[22m\u001b[22m\u001b[1m(\u001b[22m\u001b[22m\u001b[1m)\u001b[22m\u001b[22m at \u001b[1m./task.jl:335\u001b[22m\u001b[22m\n",
      "while loading In[6], in expression starting on line 1\n",
      "\u001b[1m\u001b[33mWARNING: \u001b[39m\u001b[22m\u001b[33mArray(::Type{T}, m::Int) where T is deprecated, use Array{T}(m) instead.\u001b[39m\n",
      "Stacktrace:\n",
      " [1] \u001b[1mdepwarn\u001b[22m\u001b[22m\u001b[1m(\u001b[22m\u001b[22m::String, ::Symbol\u001b[1m)\u001b[22m\u001b[22m at \u001b[1m./deprecated.jl:70\u001b[22m\u001b[22m\n",
      " [2] \u001b[1mArray\u001b[22m\u001b[22m\u001b[1m(\u001b[22m\u001b[22m::Type{Float64}, ::Int64\u001b[1m)\u001b[22m\u001b[22m at \u001b[1m./deprecated.jl:57\u001b[22m\u001b[22m\n",
      " [3] \u001b[1mgenerate_s\u001b[22m\u001b[22m\u001b[1m(\u001b[22m\u001b[22m::Multilane.MLMDP{Multilane.MLState,Multilane.MLAction,Multilane.NoCrashIDMMOBILModel,Multilane.NoCrashRewardModel}, ::Multilane.MLState, ::Multilane.MLAction, ::MersenneTwister\u001b[1m)\u001b[22m\u001b[22m at \u001b[1m/home/zhong/.julia/v0.6/Multilane/src/no_crash_model.jl:453\u001b[22m\u001b[22m\n",
      " [4] \u001b[1mgenerate_sr\u001b[22m\u001b[22m\u001b[1m(\u001b[22m\u001b[22m::Multilane.MLMDP{Multilane.MLState,Multilane.MLAction,Multilane.NoCrashIDMMOBILModel,Multilane.NoCrashRewardModel}, ::Multilane.MLState, ::Multilane.MLAction, ::MersenneTwister, ::Multilane.MLState\u001b[1m)\u001b[22m\u001b[22m at \u001b[1m/home/zhong/.julia/v0.6/Multilane/src/robust_mdp.jl:39\u001b[22m\u001b[22m\n",
      " [5] \u001b[1msimulate_cz\u001b[22m\u001b[22m\u001b[1m(\u001b[22m\u001b[22m::POMDPToolbox.HistoryRecorder, ::Multilane.MLMDP{Multilane.MLState,Multilane.MLAction,Multilane.NoCrashIDMMOBILModel,Multilane.NoCrashRewardModel}, ::Multilane.BehaviorPolicy, ::Multilane.MLState\u001b[1m)\u001b[22m\u001b[22m at \u001b[1m/home/zhong/.julia/v0.6/Multilane/src/relax.jl:91\u001b[22m\u001b[22m\n",
      " [6] \u001b[1m#relaxed_initial_state#108\u001b[22m\u001b[22m\u001b[1m(\u001b[22m\u001b[22m::Multilane.BehaviorSolver, ::Function, ::Multilane.MLMDP{Multilane.MLState,Multilane.MLAction,Multilane.NoCrashIDMMOBILModel,Multilane.NoCrashRewardModel}, ::Int64, ::MersenneTwister\u001b[1m)\u001b[22m\u001b[22m at \u001b[1m/home/zhong/.julia/v0.6/Multilane/src/relax.jl:10\u001b[22m\u001b[22m\n",
      " [7] \u001b[1mcollect\u001b[22m\u001b[22m\u001b[1m(\u001b[22m\u001b[22m::Base.Generator{UnitRange{Int64},Multilane.##94#95{MersenneTwister,Multilane.MLMDP{Multilane.MLState,Multilane.MLAction,Multilane.NoCrashIDMMOBILModel,Multilane.NoCrashRewardModel}}}\u001b[1m)\u001b[22m\u001b[22m at \u001b[1m./array.jl:475\u001b[22m\u001b[22m\n",
      " [8] \u001b[1m(::Multilane.#kw##gen_initial_physical)\u001b[22m\u001b[22m\u001b[1m(\u001b[22m\u001b[22m::Array{Any,1}, ::Multilane.#gen_initial_physical, ::Multilane.MLMDP{Multilane.MLState,Multilane.MLAction,Multilane.NoCrashIDMMOBILModel,Multilane.NoCrashRewardModel}, ::Int64\u001b[1m)\u001b[22m\u001b[22m at \u001b[1m./<missing>:0\u001b[22m\u001b[22m\n",
      " [9] \u001b[1m#add_initials!#96\u001b[22m\u001b[22m\u001b[1m(\u001b[22m\u001b[22m::Dict{String,Any}, ::MersenneTwister, ::Bool, ::Function, ::Dict{String,Any}, ::Multilane.TestSet\u001b[1m)\u001b[22m\u001b[22m at \u001b[1m/home/zhong/.julia/v0.6/Multilane/src/test_sets.jl:310\u001b[22m\u001b[22m\n",
      " [10] \u001b[1m(::Multilane.#kw##add_initials!)\u001b[22m\u001b[22m\u001b[1m(\u001b[22m\u001b[22m::Array{Any,1}, ::Multilane.#add_initials!, ::Dict{String,Any}, ::Multilane.TestSet\u001b[1m)\u001b[22m\u001b[22m at \u001b[1m./<missing>:0\u001b[22m\u001b[22m\n",
      " [11] \u001b[1m#gen_initials#87\u001b[22m\u001b[22m\u001b[1m(\u001b[22m\u001b[22m::Dict{String,Any}, ::Bool, ::MersenneTwister, ::Function, ::Array{Multilane.TestSet,1}, ::Dict{String,Any}\u001b[1m)\u001b[22m\u001b[22m at \u001b[1m/home/zhong/.julia/v0.6/Multilane/src/test_sets.jl:157\u001b[22m\u001b[22m\n",
      " [12] \u001b[1mgen_initials\u001b[22m\u001b[22m\u001b[1m(\u001b[22m\u001b[22m::Array{Multilane.TestSet,1}, ::Dict{String,Any}\u001b[1m)\u001b[22m\u001b[22m at \u001b[1m/home/zhong/.julia/v0.6/Multilane/src/test_sets.jl:155\u001b[22m\u001b[22m (repeats 2 times)\n",
      " [13] \u001b[1minclude_string\u001b[22m\u001b[22m\u001b[1m(\u001b[22m\u001b[22m::String, ::String\u001b[1m)\u001b[22m\u001b[22m at \u001b[1m./loading.jl:522\u001b[22m\u001b[22m\n",
      " [14] \u001b[1minclude_string\u001b[22m\u001b[22m\u001b[1m(\u001b[22m\u001b[22m::Module, ::String, ::String\u001b[1m)\u001b[22m\u001b[22m at \u001b[1m/home/zhong/.julia/v0.6/Compat/src/Compat.jl:174\u001b[22m\u001b[22m\n",
      " [15] \u001b[1mexecute_request\u001b[22m\u001b[22m\u001b[1m(\u001b[22m\u001b[22m::ZMQ.Socket, ::IJulia.Msg\u001b[1m)\u001b[22m\u001b[22m at \u001b[1m/home/zhong/.julia/v0.6/IJulia/src/execute_request.jl:154\u001b[22m\u001b[22m\n",
      " [16] \u001b[1m(::Compat.#inner#16{Array{Any,1},IJulia.#execute_request,Tuple{ZMQ.Socket,IJulia.Msg}})\u001b[22m\u001b[22m\u001b[1m(\u001b[22m\u001b[22m\u001b[1m)\u001b[22m\u001b[22m at \u001b[1m/home/zhong/.julia/v0.6/Compat/src/Compat.jl:496\u001b[22m\u001b[22m\n",
      " [17] \u001b[1meventloop\u001b[22m\u001b[22m\u001b[1m(\u001b[22m\u001b[22m::ZMQ.Socket\u001b[1m)\u001b[22m\u001b[22m at \u001b[1m/home/zhong/.julia/v0.6/IJulia/src/eventloop.jl:8\u001b[22m\u001b[22m\n",
      " [18] \u001b[1m(::IJulia.##14#17)\u001b[22m\u001b[22m\u001b[1m(\u001b[22m\u001b[22m\u001b[1m)\u001b[22m\u001b[22m at \u001b[1m./task.jl:335\u001b[22m\u001b[22m\n",
      "while loading In[6], in expression starting on line 1\n"
     ]
    },
    {
     "name": "stdout",
     "output_type": "stream",
     "text": [
      "LC2LCMOBIL\n",
      "LC2in\n",
      "LC2LCMOBIL\n",
      "LC2LCMOBIL\n",
      "LC2in\n",
      "LC2in\n",
      "LC2LCMOBIL\n",
      "LC2LCMOBIL\n",
      "LC2LCMOBIL\n",
      "LC2in\n",
      "LC2LCMOBIL\n",
      "LC2in\n",
      "LC2LCMOBIL\n",
      "LC2LCMOBIL\n",
      "LC2LCMOBIL\n",
      "LC2in\n",
      "LC2in\n",
      "LC2LCMOBIL\n",
      "LC2LCMOBIL\n",
      "LC2LCMOBIL\n",
      "LC2in\n",
      "LC2in\n",
      "LC2in\n",
      "LC2LCMOBIL\n",
      "LC2LCMOBIL\n"
     ]
    },
    {
     "name": "stderr",
     "output_type": "stream",
     "text": [
      "\u001b[1m\u001b[33mWARNING: \u001b[39m\u001b[22m\u001b[33mArray(::Type{T}, m::Int) where T is deprecated, use Array{T}(m) instead.\u001b[39m\n",
      "Stacktrace:\n",
      " [1] \u001b[1mdepwarn\u001b[22m\u001b[22m\u001b[1m(\u001b[22m\u001b[22m::String, ::Symbol\u001b[1m)\u001b[22m\u001b[22m at \u001b[1m./deprecated.jl:70\u001b[22m\u001b[22m\n",
      " [2] \u001b[1mArray\u001b[22m\u001b[22m\u001b[1m(\u001b[22m\u001b[22m::Type{Int64}, ::Int64\u001b[1m)\u001b[22m\u001b[22m at \u001b[1m./deprecated.jl:57\u001b[22m\u001b[22m\n",
      " [3] \u001b[1mgenerate_s\u001b[22m\u001b[22m\u001b[1m(\u001b[22m\u001b[22m::Multilane.MLMDP{Multilane.MLState,Multilane.MLAction,Multilane.NoCrashIDMMOBILModel,Multilane.NoCrashRewardModel}, ::Multilane.MLState, ::Multilane.MLAction, ::MersenneTwister\u001b[1m)\u001b[22m\u001b[22m at \u001b[1m/home/zhong/.julia/v0.6/Multilane/src/no_crash_model.jl:455\u001b[22m\u001b[22m\n",
      " [4] \u001b[1mgenerate_sr\u001b[22m\u001b[22m\u001b[1m(\u001b[22m\u001b[22m::Multilane.MLMDP{Multilane.MLState,Multilane.MLAction,Multilane.NoCrashIDMMOBILModel,Multilane.NoCrashRewardModel}, ::Multilane.MLState, ::Multilane.MLAction, ::MersenneTwister, ::Multilane.MLState\u001b[1m)\u001b[22m\u001b[22m at \u001b[1m/home/zhong/.julia/v0.6/Multilane/src/robust_mdp.jl:39\u001b[22m\u001b[22m\n",
      " [5] \u001b[1msimulate_cz\u001b[22m\u001b[22m\u001b[1m(\u001b[22m\u001b[22m::POMDPToolbox.HistoryRecorder, ::Multilane.MLMDP{Multilane.MLState,Multilane.MLAction,Multilane.NoCrashIDMMOBILModel,Multilane.NoCrashRewardModel}, ::Multilane.BehaviorPolicy, ::Multilane.MLState\u001b[1m)\u001b[22m\u001b[22m at \u001b[1m/home/zhong/.julia/v0.6/Multilane/src/relax.jl:91\u001b[22m\u001b[22m\n",
      " [6] \u001b[1m#relaxed_initial_state#108\u001b[22m\u001b[22m\u001b[1m(\u001b[22m\u001b[22m::Multilane.BehaviorSolver, ::Function, ::Multilane.MLMDP{Multilane.MLState,Multilane.MLAction,Multilane.NoCrashIDMMOBILModel,Multilane.NoCrashRewardModel}, ::Int64, ::MersenneTwister\u001b[1m)\u001b[22m\u001b[22m at \u001b[1m/home/zhong/.julia/v0.6/Multilane/src/relax.jl:10\u001b[22m\u001b[22m\n",
      " [7] \u001b[1mcollect\u001b[22m\u001b[22m\u001b[1m(\u001b[22m\u001b[22m::Base.Generator{UnitRange{Int64},Multilane.##94#95{MersenneTwister,Multilane.MLMDP{Multilane.MLState,Multilane.MLAction,Multilane.NoCrashIDMMOBILModel,Multilane.NoCrashRewardModel}}}\u001b[1m)\u001b[22m\u001b[22m at \u001b[1m./array.jl:475\u001b[22m\u001b[22m\n",
      " [8] \u001b[1m(::Multilane.#kw##gen_initial_physical)\u001b[22m\u001b[22m\u001b[1m(\u001b[22m\u001b[22m::Array{Any,1}, ::Multilane.#gen_initial_physical, ::Multilane.MLMDP{Multilane.MLState,Multilane.MLAction,Multilane.NoCrashIDMMOBILModel,Multilane.NoCrashRewardModel}, ::Int64\u001b[1m)\u001b[22m\u001b[22m at \u001b[1m./<missing>:0\u001b[22m\u001b[22m\n",
      " [9] \u001b[1m#add_initials!#96\u001b[22m\u001b[22m\u001b[1m(\u001b[22m\u001b[22m::Dict{String,Any}, ::MersenneTwister, ::Bool, ::Function, ::Dict{String,Any}, ::Multilane.TestSet\u001b[1m)\u001b[22m\u001b[22m at \u001b[1m/home/zhong/.julia/v0.6/Multilane/src/test_sets.jl:310\u001b[22m\u001b[22m\n",
      " [10] \u001b[1m(::Multilane.#kw##add_initials!)\u001b[22m\u001b[22m\u001b[1m(\u001b[22m\u001b[22m::Array{Any,1}, ::Multilane.#add_initials!, ::Dict{String,Any}, ::Multilane.TestSet\u001b[1m)\u001b[22m\u001b[22m at \u001b[1m./<missing>:0\u001b[22m\u001b[22m\n",
      " [11] \u001b[1m#gen_initials#87\u001b[22m\u001b[22m\u001b[1m(\u001b[22m\u001b[22m::Dict{String,Any}, ::Bool, ::MersenneTwister, ::Function, ::Array{Multilane.TestSet,1}, ::Dict{String,Any}\u001b[1m)\u001b[22m\u001b[22m at \u001b[1m/home/zhong/.julia/v0.6/Multilane/src/test_sets.jl:157\u001b[22m\u001b[22m\n",
      " [12] \u001b[1mgen_initials\u001b[22m\u001b[22m\u001b[1m(\u001b[22m\u001b[22m::Array{Multilane.TestSet,1}, ::Dict{String,Any}\u001b[1m)\u001b[22m\u001b[22m at \u001b[1m/home/zhong/.julia/v0.6/Multilane/src/test_sets.jl:155\u001b[22m\u001b[22m (repeats 2 times)\n",
      " [13] \u001b[1minclude_string\u001b[22m\u001b[22m\u001b[1m(\u001b[22m\u001b[22m::String, ::String\u001b[1m)\u001b[22m\u001b[22m at \u001b[1m./loading.jl:522\u001b[22m\u001b[22m\n",
      " [14] \u001b[1minclude_string\u001b[22m\u001b[22m\u001b[1m(\u001b[22m\u001b[22m::Module, ::String, ::String\u001b[1m)\u001b[22m\u001b[22m at \u001b[1m/home/zhong/.julia/v0.6/Compat/src/Compat.jl:174\u001b[22m\u001b[22m\n",
      " [15] \u001b[1mexecute_request\u001b[22m\u001b[22m\u001b[1m(\u001b[22m\u001b[22m::ZMQ.Socket, ::IJulia.Msg\u001b[1m)\u001b[22m\u001b[22m at \u001b[1m/home/zhong/.julia/v0.6/IJulia/src/execute_request.jl:154\u001b[22m\u001b[22m\n",
      " [16] \u001b[1m(::Compat.#inner#16{Array{Any,1},IJulia.#execute_request,Tuple{ZMQ.Socket,IJulia.Msg}})\u001b[22m\u001b[22m\u001b[1m(\u001b[22m\u001b[22m\u001b[1m)\u001b[22m\u001b[22m at \u001b[1m/home/zhong/.julia/v0.6/Compat/src/Compat.jl:496\u001b[22m\u001b[22m\n",
      " [17] \u001b[1meventloop\u001b[22m\u001b[22m\u001b[1m(\u001b[22m\u001b[22m::ZMQ.Socket\u001b[1m)\u001b[22m\u001b[22m at \u001b[1m/home/zhong/.julia/v0.6/IJulia/src/eventloop.jl:8\u001b[22m\u001b[22m\n",
      " [18] \u001b[1m(::IJulia.##14#17)\u001b[22m\u001b[22m\u001b[1m(\u001b[22m\u001b[22m\u001b[1m)\u001b[22m\u001b[22m at \u001b[1m./task.jl:335\u001b[22m\u001b[22m\n",
      "while loading In[6], in expression starting on line 1\n",
      "\u001b[1m\u001b[33mWARNING: \u001b[39m\u001b[22m\u001b[33mArray(::Type{T}, m::Int) where T is deprecated, use Array{T}(m) instead.\u001b[39m\n",
      "Stacktrace:\n",
      " [1] \u001b[1mdepwarn\u001b[22m\u001b[22m\u001b[1m(\u001b[22m\u001b[22m::String, ::Symbol\u001b[1m)\u001b[22m\u001b[22m at \u001b[1m./deprecated.jl:70\u001b[22m\u001b[22m\n",
      " [2] \u001b[1mArray\u001b[22m\u001b[22m\u001b[1m(\u001b[22m\u001b[22m::Type{Float64}, ::Int64\u001b[1m)\u001b[22m\u001b[22m at \u001b[1m./deprecated.jl:57\u001b[22m\u001b[22m\n",
      " [3] \u001b[1mgenerate_s\u001b[22m\u001b[22m\u001b[1m(\u001b[22m\u001b[22m::Multilane.MLMDP{Multilane.MLState,Multilane.MLAction,Multilane.NoCrashIDMMOBILModel,Multilane.NoCrashRewardModel}, ::Multilane.MLState, ::Multilane.MLAction, ::MersenneTwister\u001b[1m)\u001b[22m\u001b[22m at \u001b[1m/home/zhong/.julia/v0.6/Multilane/src/no_crash_model.jl:457\u001b[22m\u001b[22m\n",
      " [4] \u001b[1mgenerate_sr\u001b[22m\u001b[22m\u001b[1m(\u001b[22m\u001b[22m::Multilane.MLMDP{Multilane.MLState,Multilane.MLAction,Multilane.NoCrashIDMMOBILModel,Multilane.NoCrashRewardModel}, ::Multilane.MLState, ::Multilane.MLAction, ::MersenneTwister, ::Multilane.MLState\u001b[1m)\u001b[22m\u001b[22m at \u001b[1m/home/zhong/.julia/v0.6/Multilane/src/robust_mdp.jl:39\u001b[22m\u001b[22m\n",
      " [5] \u001b[1msimulate_cz\u001b[22m\u001b[22m\u001b[1m(\u001b[22m\u001b[22m::POMDPToolbox.HistoryRecorder, ::Multilane.MLMDP{Multilane.MLState,Multilane.MLAction,Multilane.NoCrashIDMMOBILModel,Multilane.NoCrashRewardModel}, ::Multilane.BehaviorPolicy, ::Multilane.MLState\u001b[1m)\u001b[22m\u001b[22m at \u001b[1m/home/zhong/.julia/v0.6/Multilane/src/relax.jl:91\u001b[22m\u001b[22m\n",
      " [6] \u001b[1m#relaxed_initial_state#108\u001b[22m\u001b[22m\u001b[1m(\u001b[22m\u001b[22m::Multilane.BehaviorSolver, ::Function, ::Multilane.MLMDP{Multilane.MLState,Multilane.MLAction,Multilane.NoCrashIDMMOBILModel,Multilane.NoCrashRewardModel}, ::Int64, ::MersenneTwister\u001b[1m)\u001b[22m\u001b[22m at \u001b[1m/home/zhong/.julia/v0.6/Multilane/src/relax.jl:10\u001b[22m\u001b[22m\n",
      " [7] \u001b[1mcollect\u001b[22m\u001b[22m\u001b[1m(\u001b[22m\u001b[22m::Base.Generator{UnitRange{Int64},Multilane.##94#95{MersenneTwister,Multilane.MLMDP{Multilane.MLState,Multilane.MLAction,Multilane.NoCrashIDMMOBILModel,Multilane.NoCrashRewardModel}}}\u001b[1m)\u001b[22m\u001b[22m at \u001b[1m./array.jl:475\u001b[22m\u001b[22m\n",
      " [8] \u001b[1m(::Multilane.#kw##gen_initial_physical)\u001b[22m\u001b[22m\u001b[1m(\u001b[22m\u001b[22m::Array{Any,1}, ::Multilane.#gen_initial_physical, ::Multilane.MLMDP{Multilane.MLState,Multilane.MLAction,Multilane.NoCrashIDMMOBILModel,Multilane.NoCrashRewardModel}, ::Int64\u001b[1m)\u001b[22m\u001b[22m at \u001b[1m./<missing>:0\u001b[22m\u001b[22m\n",
      " [9] \u001b[1m#add_initials!#96\u001b[22m\u001b[22m\u001b[1m(\u001b[22m\u001b[22m::Dict{String,Any}, ::MersenneTwister, ::Bool, ::Function, ::Dict{String,Any}, ::Multilane.TestSet\u001b[1m)\u001b[22m\u001b[22m at \u001b[1m/home/zhong/.julia/v0.6/Multilane/src/test_sets.jl:310\u001b[22m\u001b[22m\n",
      " [10] \u001b[1m(::Multilane.#kw##add_initials!)\u001b[22m\u001b[22m\u001b[1m(\u001b[22m\u001b[22m::Array{Any,1}, ::Multilane.#add_initials!, ::Dict{String,Any}, ::Multilane.TestSet\u001b[1m)\u001b[22m\u001b[22m at \u001b[1m./<missing>:0\u001b[22m\u001b[22m\n",
      " [11] \u001b[1m#gen_initials#87\u001b[22m\u001b[22m\u001b[1m(\u001b[22m\u001b[22m::Dict{String,Any}, ::Bool, ::MersenneTwister, ::Function, ::Array{Multilane.TestSet,1}, ::Dict{String,Any}\u001b[1m)\u001b[22m\u001b[22m at \u001b[1m/home/zhong/.julia/v0.6/Multilane/src/test_sets.jl:157\u001b[22m\u001b[22m\n",
      " [12] \u001b[1mgen_initials\u001b[22m\u001b[22m\u001b[1m(\u001b[22m\u001b[22m::Array{Multilane.TestSet,1}, ::Dict{String,Any}\u001b[1m)\u001b[22m\u001b[22m at \u001b[1m/home/zhong/.julia/v0.6/Multilane/src/test_sets.jl:155\u001b[22m\u001b[22m (repeats 2 times)\n",
      " [13] \u001b[1minclude_string\u001b[22m\u001b[22m\u001b[1m(\u001b[22m\u001b[22m::String, ::String\u001b[1m)\u001b[22m\u001b[22m at \u001b[1m./loading.jl:522\u001b[22m\u001b[22m\n",
      " [14] \u001b[1minclude_string\u001b[22m\u001b[22m\u001b[1m(\u001b[22m\u001b[22m::Module, ::String, ::String\u001b[1m)\u001b[22m\u001b[22m at \u001b[1m/home/zhong/.julia/v0.6/Compat/src/Compat.jl:174\u001b[22m\u001b[22m\n",
      " [15] \u001b[1mexecute_request\u001b[22m\u001b[22m\u001b[1m(\u001b[22m\u001b[22m::ZMQ.Socket, ::IJulia.Msg\u001b[1m)\u001b[22m\u001b[22m at \u001b[1m/home/zhong/.julia/v0.6/IJulia/src/execute_request.jl:154\u001b[22m\u001b[22m\n",
      " [16] \u001b[1m(::Compat.#inner#16{Array{Any,1},IJulia.#execute_request,Tuple{ZMQ.Socket,IJulia.Msg}})\u001b[22m\u001b[22m\u001b[1m(\u001b[22m\u001b[22m\u001b[1m)\u001b[22m\u001b[22m at \u001b[1m/home/zhong/.julia/v0.6/Compat/src/Compat.jl:496\u001b[22m\u001b[22m\n",
      " [17] \u001b[1meventloop\u001b[22m\u001b[22m\u001b[1m(\u001b[22m\u001b[22m::ZMQ.Socket\u001b[1m)\u001b[22m\u001b[22m at \u001b[1m/home/zhong/.julia/v0.6/IJulia/src/eventloop.jl:8\u001b[22m\u001b[22m\n",
      " [18] \u001b[1m(::IJulia.##14#17)\u001b[22m\u001b[22m\u001b[1m(\u001b[22m\u001b[22m\u001b[1m)\u001b[22m\u001b[22m at \u001b[1m./task.jl:335\u001b[22m\u001b[22m\n",
      "while loading In[6], in expression starting on line 1\n"
     ]
    },
    {
     "ename": "LoadError",
     "evalue": "\u001b[91mAssertionError: yp >= 1.0 && yp <= pp.nb_lanes\u001b[39m",
     "output_type": "error",
     "traceback": [
      "\u001b[91mAssertionError: yp >= 1.0 && yp <= pp.nb_lanes\u001b[39m",
      "",
      "Stacktrace:",
      " [1] \u001b[1mgenerate_s\u001b[22m\u001b[22m\u001b[1m(\u001b[22m\u001b[22m::Multilane.MLMDP{Multilane.MLState,Multilane.MLAction,Multilane.NoCrashIDMMOBILModel,Multilane.NoCrashRewardModel}, ::Multilane.MLState, ::Multilane.MLAction, ::MersenneTwister\u001b[1m)\u001b[22m\u001b[22m at \u001b[1m/home/zhong/.julia/v0.6/Multilane/src/no_crash_model.jl:431\u001b[22m\u001b[22m",
      " [2] \u001b[1mgenerate_sr\u001b[22m\u001b[22m\u001b[1m(\u001b[22m\u001b[22m::Multilane.MLMDP{Multilane.MLState,Multilane.MLAction,Multilane.NoCrashIDMMOBILModel,Multilane.NoCrashRewardModel}, ::Multilane.MLState, ::Multilane.MLAction, ::MersenneTwister, ::Multilane.MLState\u001b[1m)\u001b[22m\u001b[22m at \u001b[1m/home/zhong/.julia/v0.6/Multilane/src/robust_mdp.jl:39\u001b[22m\u001b[22m",
      " [3] \u001b[1msimulate_cz\u001b[22m\u001b[22m\u001b[1m(\u001b[22m\u001b[22m::POMDPToolbox.HistoryRecorder, ::Multilane.MLMDP{Multilane.MLState,Multilane.MLAction,Multilane.NoCrashIDMMOBILModel,Multilane.NoCrashRewardModel}, ::Multilane.BehaviorPolicy, ::Multilane.MLState\u001b[1m)\u001b[22m\u001b[22m at \u001b[1m/home/zhong/.julia/v0.6/Multilane/src/relax.jl:91\u001b[22m\u001b[22m",
      " [4] \u001b[1m#relaxed_initial_state#108\u001b[22m\u001b[22m\u001b[1m(\u001b[22m\u001b[22m::Multilane.BehaviorSolver, ::Function, ::Multilane.MLMDP{Multilane.MLState,Multilane.MLAction,Multilane.NoCrashIDMMOBILModel,Multilane.NoCrashRewardModel}, ::Int64, ::MersenneTwister\u001b[1m)\u001b[22m\u001b[22m at \u001b[1m/home/zhong/.julia/v0.6/Multilane/src/relax.jl:10\u001b[22m\u001b[22m",
      " [5] \u001b[1mcollect\u001b[22m\u001b[22m\u001b[1m(\u001b[22m\u001b[22m::Base.Generator{UnitRange{Int64},Multilane.##94#95{MersenneTwister,Multilane.MLMDP{Multilane.MLState,Multilane.MLAction,Multilane.NoCrashIDMMOBILModel,Multilane.NoCrashRewardModel}}}\u001b[1m)\u001b[22m\u001b[22m at \u001b[1m./array.jl:475\u001b[22m\u001b[22m",
      " [6] \u001b[1m(::Multilane.#kw##gen_initial_physical)\u001b[22m\u001b[22m\u001b[1m(\u001b[22m\u001b[22m::Array{Any,1}, ::Multilane.#gen_initial_physical, ::Multilane.MLMDP{Multilane.MLState,Multilane.MLAction,Multilane.NoCrashIDMMOBILModel,Multilane.NoCrashRewardModel}, ::Int64\u001b[1m)\u001b[22m\u001b[22m at \u001b[1m./<missing>:0\u001b[22m\u001b[22m",
      " [7] \u001b[1m#add_initials!#96\u001b[22m\u001b[22m\u001b[1m(\u001b[22m\u001b[22m::Dict{String,Any}, ::MersenneTwister, ::Bool, ::Function, ::Dict{String,Any}, ::Multilane.TestSet\u001b[1m)\u001b[22m\u001b[22m at \u001b[1m/home/zhong/.julia/v0.6/Multilane/src/test_sets.jl:310\u001b[22m\u001b[22m",
      " [8] \u001b[1m(::Multilane.#kw##add_initials!)\u001b[22m\u001b[22m\u001b[1m(\u001b[22m\u001b[22m::Array{Any,1}, ::Multilane.#add_initials!, ::Dict{String,Any}, ::Multilane.TestSet\u001b[1m)\u001b[22m\u001b[22m at \u001b[1m./<missing>:0\u001b[22m\u001b[22m",
      " [9] \u001b[1m#gen_initials#87\u001b[22m\u001b[22m\u001b[1m(\u001b[22m\u001b[22m::Dict{String,Any}, ::Bool, ::MersenneTwister, ::Function, ::Array{Multilane.TestSet,1}, ::Dict{String,Any}\u001b[1m)\u001b[22m\u001b[22m at \u001b[1m/home/zhong/.julia/v0.6/Multilane/src/test_sets.jl:157\u001b[22m\u001b[22m",
      " [10] \u001b[1mgen_initials\u001b[22m\u001b[22m\u001b[1m(\u001b[22m\u001b[22m::Array{Multilane.TestSet,1}, ::Dict{String,Any}\u001b[1m)\u001b[22m\u001b[22m at \u001b[1m/home/zhong/.julia/v0.6/Multilane/src/test_sets.jl:155\u001b[22m\u001b[22m (repeats 2 times)",
      " [11] \u001b[1minclude_string\u001b[22m\u001b[22m\u001b[1m(\u001b[22m\u001b[22m::String, ::String\u001b[1m)\u001b[22m\u001b[22m at \u001b[1m./loading.jl:522\u001b[22m\u001b[22m"
     ]
    }
   ],
   "source": [
    "gen_initials(test)"
   ]
  },
  {
   "cell_type": "code",
   "execution_count": 10,
   "metadata": {},
   "outputs": [
    {
     "data": {
      "text/plain": [
       "true"
      ]
     },
     "execution_count": 10,
     "metadata": {},
     "output_type": "execute_result"
    }
   ],
   "source": [
    "typeof(test1) <: AbstractVector"
   ]
  },
  {
   "cell_type": "markdown",
   "metadata": {},
   "source": [
    "methods(actions)"
   ]
  },
  {
   "cell_type": "code",
   "execution_count": 8,
   "metadata": {},
   "outputs": [
    {
     "data": {
      "text/html": [
       "0 methods for generic function <b>Module</b>:<ul></ul>"
      ],
      "text/plain": [
       "# 0 methods for generic function \"(::Module)\":"
      ]
     },
     "execution_count": 8,
     "metadata": {},
     "output_type": "execute_result"
    }
   ],
   "source": [
    "methods(Iterators)"
   ]
  },
  {
   "cell_type": "code",
   "execution_count": null,
   "metadata": {},
   "outputs": [],
   "source": [
    "#Set up problem configuration\n",
    "nb_lanes = 4\n",
    "pp = PhysicalParam(nb_lanes,lane_length=100.) #2.=>col_length=8\n",
    "_discount = 1.0\n",
    "nb_cars=10\n",
    "\n",
    "rmodel = NoCrashRewardModel()\n",
    "\n",
    "dmodel = NoCrashIDMMOBILModel(nb_cars, pp)\n",
    "\n",
    "mdp = NoCrashMDP{NoCrashRewardModel}(dmodel, rmodel, _discount)\n",
    "\n",
    "rng = MersenneTwister(5)\n",
    "\n",
    "sim = test_run_cz(mdp,mdp,5)\n"
   ]
  },
  {
   "cell_type": "code",
   "execution_count": null,
   "metadata": {},
   "outputs": [],
   "source": [
    "function get_sim_t_state(t::Int)\n",
    "   s = sim.state_hist[t]\n",
    "   a = sim.action_hist[t]\n",
    "   sp = sim.state_hist[t+1]\n",
    "   idx = Nullable{Int}()\n",
    "end"
   ]
  },
  {
   "cell_type": "code",
   "execution_count": null,
   "metadata": {},
   "outputs": [],
   "source": [
    "get_sim_t_state(9)\n",
    "pp = mdp.dmodel.phys_param\n",
    "roadway = gen_straight_roadway(pp.nb_lanes,\n",
    "                               pp.lane_length,\n",
    "                               lane_width=pp.w_lane)\n",
    "\n",
    "\n",
    "\n",
    "\n",
    "cidol = CarIDOverlay()\n",
    "cvol = CarVelOverlay()\n",
    "\n",
    "idx = Nullable{Int}()\n"
   ]
  },
  {
   "cell_type": "code",
   "execution_count": null,
   "metadata": {},
   "outputs": [],
   "source": [
    "function drawsim(timet)\n",
    "    t = round(Int,rem(round(timet*10),9))\n",
    "    s = sim.state_hist[t]\n",
    "    a = sim.action_hist[t]\n",
    "    sp = sim.state_hist[t+1]\n",
    "    hbol = HardBrakeOverlay(pp, braking_ids(mdp, s, sp))\n",
    "    iol = InfoOverlay(pp, idx,\n",
    "                  s.cars[1].vel,\n",
    "                  max_braking(mdp, s, sp),\n",
    "                  is_crash(mdp, s, sp))\n",
    "    scene = Scene()\n",
    "    for cs in s.cars\n",
    "        push!(scene, Vehicle(VehicleState(VecSE2(cs.x, (cs.y-1.0)*pp.w_lane, 0.0), roadway, cs.vel),\n",
    "                                #VehicleDef(cs.id, AgentClass.CAR, pp.l_car, pp.w_car)))\n",
    "                                VehicleDef(AgentClass.CAR, pp.l_car, pp.w_car),cs.id))\n",
    "    end\n",
    "    \n",
    "    render(scene, roadway, cam=FitToContentCamera())\n",
    "end"
   ]
  },
  {
   "cell_type": "code",
   "execution_count": null,
   "metadata": {},
   "outputs": [],
   "source": [
    "framerate = 10\n",
    "ticks = fps(framerate)\n",
    "timestamps = map(_-> time(),ticks)"
   ]
  },
  {
   "cell_type": "code",
   "execution_count": null,
   "metadata": {},
   "outputs": [],
   "source": [
    "function get_round(timet)\n",
    "   return (round(Int,rem(round(timet*10),100))) \n",
    "end"
   ]
  },
  {
   "cell_type": "code",
   "execution_count": null,
   "metadata": {},
   "outputs": [],
   "source": [
    "map(get_round,timestamps)"
   ]
  },
  {
   "cell_type": "code",
   "execution_count": null,
   "metadata": {},
   "outputs": [],
   "source": [
    "map(drawsim,timestamps)"
   ]
  }
 ],
 "metadata": {
  "kernelspec": {
   "display_name": "Julia 0.6.2",
   "language": "julia",
   "name": "julia-0.6"
  },
  "language_info": {
   "file_extension": ".jl",
   "mimetype": "application/julia",
   "name": "julia",
   "version": "0.6.2"
  }
 },
 "nbformat": 4,
 "nbformat_minor": 2
}
