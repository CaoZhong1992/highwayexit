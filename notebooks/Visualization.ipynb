{
 "cells": [
  {
   "cell_type": "code",
   "execution_count": 1,
   "metadata": {},
   "outputs": [
    {
     "data": {
      "text/html": [
       "<div id=\"interact-js-shim\">\n",
       "    <script charset=\"utf-8\">\n",
       "(function (IPython, $, _, MathJax) {\n",
       "    $.event.special.destroyed = {\n",
       "\tremove: function(o) {\n",
       "\t    if (o.handler) {\n",
       "\t\to.handler.apply(this, arguments)\n",
       "\t    }\n",
       "\t}\n",
       "    }\n",
       "\n",
       "    var OutputArea = IPython.version >= \"4.0.0\" ? require(\"notebook/js/outputarea\").OutputArea : IPython.OutputArea;\n",
       "\n",
       "    var redrawValue = function (container, type, val) {\n",
       "\tvar selector = $(\"<div/>\");\n",
       "\tvar oa = new OutputArea(_.extend(selector, {\n",
       "\t    selector: selector,\n",
       "\t    prompt_area: true,\n",
       "\t    events: IPython.events,\n",
       "\t    keyboard_manager: IPython.keyboard_manager\n",
       "\t})); // Hack to work with IPython 2.1.0\n",
       "\n",
       "\tswitch (type) {\n",
       "\tcase \"image/png\":\n",
       "            var _src = 'data:' + type + ';base64,' + val;\n",
       "\t    $(container).find(\"img\").attr('src', _src);\n",
       "\t    break;\n",
       "\tcase \"text/latex\":\n",
       "\t\tif (MathJax){\n",
       "\t\t\tvar math = MathJax.Hub.getAllJax(container)[0];\n",
       "\t\t\tMathJax.Hub.Queue([\"Text\", math, val.replace(/^\\${1,2}|\\${1,2}$/g, '')]);\n",
       "\t\t\tbreak;\n",
       "\t\t}\n",
       "\tdefault:\n",
       "\t    var toinsert = OutputArea.append_map[type].apply(\n",
       "\t\toa, [val, {}, selector]\n",
       "\t    );\n",
       "\t    $(container).empty().append(toinsert.contents());\n",
       "\t    selector.remove();\n",
       "\t}\n",
       "    }\n",
       "\n",
       "\n",
       "    $(document).ready(function() {\n",
       "\tfunction initComm(evt, data) {\n",
       "\t    var comm_manager = data.kernel.comm_manager;\n",
       "        //_.extend(comm_manager.targets, require(\"widgets/js/widget\"))\n",
       "\t    comm_manager.register_target(\"Signal\", function (comm) {\n",
       "            comm.on_msg(function (msg) {\n",
       "                var val = msg.content.data.value;\n",
       "                $(\".signal-\" + comm.comm_id).each(function() {\n",
       "                var type = $(this).data(\"type\");\n",
       "                if (typeof(val[type]) !== \"undefined\" && val[type] !== null) {\n",
       "                    redrawValue(this, type, val[type], type);\n",
       "                }\n",
       "                });\n",
       "                delete val;\n",
       "                delete msg.content.data.value;\n",
       "            });\n",
       "\t    });\n",
       "\n",
       "\t    // coordingate with Comm and redraw Signals\n",
       "\t    // XXX: Test using Reactive here to improve performance\n",
       "\t    $([IPython.events]).on(\n",
       "\t\t'output_appended.OutputArea', function (event, type, value, md, toinsert) {\n",
       "\t\t    if (md && md.reactive) {\n",
       "                // console.log(md.comm_id);\n",
       "                toinsert.addClass(\"signal-\" + md.comm_id);\n",
       "                toinsert.data(\"type\", type);\n",
       "                // Signal back indicating the mimetype required\n",
       "                var comm_manager = IPython.notebook.kernel.comm_manager;\n",
       "                var comm = comm_manager.comms[md.comm_id];\n",
       "                comm.then(function (c) {\n",
       "                    c.send({action: \"subscribe_mime\",\n",
       "                       mime: type});\n",
       "                    toinsert.bind(\"destroyed\", function() {\n",
       "                        c.send({action: \"unsubscribe_mime\",\n",
       "                               mime: type});\n",
       "                    });\n",
       "                })\n",
       "\t\t    }\n",
       "\t    });\n",
       "\t}\n",
       "\n",
       "\ttry {\n",
       "\t    // try to initialize right away. otherwise, wait on the status_started event.\n",
       "\t    initComm(undefined, IPython.notebook);\n",
       "\t} catch (e) {\n",
       "\t    $([IPython.events]).on('kernel_created.Kernel kernel_created.Session', initComm);\n",
       "\t}\n",
       "    });\n",
       "})(IPython, jQuery, _, MathJax);\n",
       "</script>\n",
       "    <script>\n",
       "        window.interactLoadedFlag = true\n",
       "       $(\"#interact-js-shim\").bind(\"destroyed\", function () {\n",
       "           if (window.interactLoadedFlag) {\n",
       "               console.warn(\"JavaScript required by Interact will be removed if you remove this cell or run using Interact more than once.\")\n",
       "           }\n",
       "       })\n",
       "       $([IPython.events]).on(\"kernel_starting.Kernel kernel_restarting.Kernel\", function () { window.interactLoadedFlag = false })\n",
       "   </script>\n",
       "</div>"
      ]
     },
     "metadata": {},
     "output_type": "display_data"
    }
   ],
   "source": [
    "using Multilane\n",
    "using POMDPs\n",
    "using POMDPToolbox\n",
    "using MCTS\n",
    "using Distributions # for Normal\n",
    "using DataArrays\n",
    "using DataFrames\n",
    "using DataFramesMeta\n",
    "\n",
    "using Interact\n",
    "using Reactive\n",
    "#using Records\n",
    "using AutoViz\n",
    "using AutomotiveDrivingModels\n",
    "#using Cairo\n",
    "#using Reel\n",
    "#using GenerativeModels"
   ]
  },
  {
   "cell_type": "code",
   "execution_count": 2,
   "metadata": {
    "scrolled": true
   },
   "outputs": [
    {
     "data": {
      "text/plain": [
       "MersenneTwister(UInt32[0x00000005], Base.dSFMT.DSFMT_state(Int32[-85655800, 1072952617, -522203688, 1073721902, 1588056292, 1072823262, 1930843968, 1073164255, -719121749, 1073022455  …  647343590, 1073165527, 1405924594, 1072769931, 1969171087, 42945320, -226019479, -1469955508, 382, 0]), [0.0, 0.0, 0.0, 0.0, 0.0, 0.0, 0.0, 0.0, 0.0, 0.0  …  0.0, 0.0, 0.0, 0.0, 0.0, 0.0, 0.0, 0.0, 0.0, 0.0], 382)"
      ]
     },
     "execution_count": 2,
     "metadata": {},
     "output_type": "execute_result"
    }
   ],
   "source": [
    "#Set up problem configuration\n",
    "nb_lanes = 4\n",
    "pp = PhysicalParam(nb_lanes,lane_length=400.) #2.=>col_length=8\n",
    "_discount = 1.0\n",
    "nb_cars=30\n",
    "\n",
    "rmodel = NoCrashRewardModel()\n",
    "\n",
    "dmodel = NoCrashIDMMOBILModel(nb_cars, pp)\n",
    "\n",
    "mdp = NoCrashMDP{NoCrashRewardModel}(dmodel, rmodel, _discount)\n",
    "\n",
    "#mdp = MLMDP{MLState, MLAction, dmodel, rmodel, _discount}\n",
    "\n",
    "rng = MersenneTwister(5)\n",
    "\n",
    "\n",
    "#s = initial_state(mdp::NoCrashMDP, rng::AbstractRNG)\n",
    "#s = MLState(0.0, 0.0, CarState[CarState(pp.lane_length/2, 1.0, pp.v_med, 0.0, NORMAL, 1)])\n",
    "#s = initial_state_distribution(mdp)\n",
    "\n",
    "#sim = relaxed_initial_state_cz(mdp, 50, rng)\n",
    "#s = initial_state(mdp:MDP, rng::AbstractRNG)\n",
    "# @show s.env_cars[1]\n",
    "#visualize(mdp,s,MLAction(0,0))\n",
    "\n",
    "#policy = RandomPolicy(mdp)\n",
    "\n",
    "#sim = HistoryRecorder(rng=rng, max_steps=100) # initialize a random number generator\n",
    "\n",
    "#ss = get_initial_state(sim, mdp)\n",
    "\n",
    "#sim = simulate(sim, mdp, policy, s)"
   ]
  },
  {
   "cell_type": "code",
   "execution_count": 3,
   "metadata": {},
   "outputs": [
    {
     "name": "stderr",
     "output_type": "stream",
     "text": [
      "WARNING: both Interact and ProgressMeter export \"Progress\"; uses of it in module Multilane must be qualified\n"
     ]
    }
   ],
   "source": [
    "is = relaxed_initial_state(mdp,200);"
   ]
  },
  {
   "cell_type": "code",
   "execution_count": 4,
   "metadata": {},
   "outputs": [],
   "source": [
    "sim = relaxed_initial_state_cz2(mdp,is,200, rng);\n"
   ]
  },
  {
   "cell_type": "code",
   "execution_count": 5,
   "metadata": {},
   "outputs": [],
   "source": [
    "steps = 200;"
   ]
  },
  {
   "cell_type": "code",
   "execution_count": 6,
   "metadata": {},
   "outputs": [
    {
     "data": {
      "text/plain": [
       "get_sim_t_state (generic function with 1 method)"
      ]
     },
     "execution_count": 6,
     "metadata": {},
     "output_type": "execute_result"
    }
   ],
   "source": [
    "function get_sim_t_state(t::Int)\n",
    "   s = sim.state_hist[t]\n",
    "   a = sim.action_hist[t]\n",
    "   sp = sim.state_hist[t+1]\n",
    "   idx = Nullable{Int}()\n",
    "end"
   ]
  },
  {
   "cell_type": "code",
   "execution_count": 7,
   "metadata": {},
   "outputs": [
    {
     "data": {
      "text/plain": [
       "1.524618817519458e9"
      ]
     },
     "execution_count": 7,
     "metadata": {
      "comm_id": "07ae64bf-6131-4a88-a5a8-1d44044e0c35",
      "reactive": true
     },
     "output_type": "execute_result"
    }
   ],
   "source": [
    "get_sim_t_state(70)\n",
    "pp = mdp.dmodel.phys_param\n",
    "roadway = gen_straight_roadway(pp.nb_lanes,\n",
    "                               pp.lane_length,\n",
    "                               lane_width=pp.w_lane)\n",
    "\n",
    "\n",
    "\n",
    "\n",
    "cidol = CarIDOverlay()\n",
    "cvol = CarVelOverlay()\n",
    "\n",
    "idx = Nullable{Int}()\n",
    "\n",
    "framerate = 6\n",
    "ticks = fps(framerate)\n",
    "timestamps = map(_-> time(),ticks)"
   ]
  },
  {
   "cell_type": "code",
   "execution_count": 8,
   "metadata": {},
   "outputs": [
    {
     "data": {
      "text/plain": [
       "drawsim (generic function with 1 method)"
      ]
     },
     "execution_count": 8,
     "metadata": {},
     "output_type": "execute_result"
    }
   ],
   "source": [
    "function drawsim(timet)\n",
    "    t = round(Int,rem(round(timet*framerate),steps-1)+1)\n",
    "    s = sim.state_hist[t]\n",
    "    a = sim.action_hist[t]\n",
    "    sp = sim.state_hist[t+1]\n",
    "    hbol = HardBrakeOverlay(pp, braking_ids(mdp, s, sp))\n",
    "    iol = InfoOverlay(pp, idx,\n",
    "                  s.cars[1].vel,\n",
    "                  max_braking(mdp, s, sp),\n",
    "                  is_crash(mdp, s, sp))\n",
    "    scene = Scene()\n",
    "    egox = s.x\n",
    "    controls = s.Control_Signal\n",
    "    for cs in s.cars\n",
    "        push!(scene, Vehicle(VehicleState(VecSE2(cs.x, (cs.y-1.0)*pp.w_lane, 0.0), roadway, cs.vel, egox, controls),\n",
    "                                #VehicleDef(cs.id, AgentClass.CAR, pp.l_car, pp.w_car)))\n",
    "                                VehicleDef(AgentClass.CAR, pp.l_car, pp.w_car),cs.id))\n",
    "    end\n",
    "    \n",
    "    render(scene, roadway,[CarFollowingStatsOverlay(1)], cam=FitToContentCamera(),car_colors=carcolors,canvas_height=220)\n",
    "end"
   ]
  },
  {
   "cell_type": "code",
   "execution_count": 9,
   "metadata": {},
   "outputs": [
    {
     "data": {
      "image/svg+xml": [
       "<?xml version=\"1.0\" encoding=\"UTF-8\"?>\n",
       "<!DOCTYPE svg PUBLIC \"-//W3C//DTD SVG 1.1//EN\"\n",
       " \"http://www.w3.org/Graphics/SVG/1.1/DTD/svg11.dtd\">\n",
       "<svg xmlns=\"http://www.w3.org/2000/svg\" version=\"1.1\"\n",
       "     width=\"25mm\" height=\"25mm\" viewBox=\"0 0 1 1\">\n",
       "     <rect width=\"1\" height=\"1\"\n",
       "           fill=\"#008000\" stroke=\"none\"/>\n",
       "</svg>\n"
      ],
      "text/plain": [
       "RGB{N0f8}(0.0,0.502,0.0)"
      ]
     },
     "execution_count": 9,
     "metadata": {},
     "output_type": "execute_result"
    }
   ],
   "source": [
    "carcolors = Dict{Int,Colorant}()\n",
    "carcolors[1] = colorant\"green\""
   ]
  },
  {
   "cell_type": "code",
   "execution_count": 10,
   "metadata": {},
   "outputs": [
    {
     "name": "stderr",
     "output_type": "stream",
     "text": [
      "\u001b[1m\u001b[33mWARNING: \u001b[39m\u001b[22m\u001b[33mmax(x::AbstractArray{T1}, y::AbstractArray{T2}) where {T1 <: Real, T2 <: Real} is deprecated, use max.(x, y) instead.\u001b[39m\n",
      "Stacktrace:\n",
      " [1] \u001b[1mdepwarn\u001b[22m\u001b[22m\u001b[1m(\u001b[22m\u001b[22m::String, ::Symbol\u001b[1m)\u001b[22m\u001b[22m at \u001b[1m./deprecated.jl:70\u001b[22m\u001b[22m\n",
      " [2] \u001b[1mmax\u001b[22m\u001b[22m\u001b[1m(\u001b[22m\u001b[22m::Array{Float64,1}, ::Array{Float64,1}\u001b[1m)\u001b[22m\u001b[22m at \u001b[1m./deprecated.jl:57\u001b[22m\u001b[22m\n",
      " [3] \u001b[1mpoly_intersect\u001b[22m\u001b[22m\u001b[1m(\u001b[22m\u001b[22m::Array{Array{Float64,2},1}, ::Array{Array{Float64,2},1}\u001b[1m)\u001b[22m\u001b[22m at \u001b[1m/home/zhong/.julia/v0.6/Multilane/src/crash.jl:80\u001b[22m\u001b[22m\n",
      " [4] \u001b[1m#is_crash#5\u001b[22m\u001b[22m\u001b[1m(\u001b[22m\u001b[22m::Bool, ::Function, ::Multilane.MLMDP{Multilane.MLState,Multilane.MLAction,Multilane.NoCrashIDMMOBILModel,Multilane.NoCrashRewardModel}, ::Multilane.MLState, ::Multilane.MLState, ::Bool\u001b[1m)\u001b[22m\u001b[22m at \u001b[1m/home/zhong/.julia/v0.6/Multilane/src/crash.jl:199\u001b[22m\u001b[22m\n",
      " [5] \u001b[1mis_crash\u001b[22m\u001b[22m\u001b[1m(\u001b[22m\u001b[22m::Multilane.MLMDP{Multilane.MLState,Multilane.MLAction,Multilane.NoCrashIDMMOBILModel,Multilane.NoCrashRewardModel}, ::Multilane.MLState, ::Multilane.MLState\u001b[1m)\u001b[22m\u001b[22m at \u001b[1m/home/zhong/.julia/v0.6/Multilane/src/crash.jl:120\u001b[22m\u001b[22m\n",
      " [6] \u001b[1mdrawsim\u001b[22m\u001b[22m\u001b[1m(\u001b[22m\u001b[22m::Float64\u001b[1m)\u001b[22m\u001b[22m at \u001b[1m./In[8]:7\u001b[22m\u001b[22m\n",
      " [7] \u001b[1m(::Reactive.##33#34{#drawsim,Reactive.Signal{Cairo.CairoSurface{UInt32}},Tuple{Reactive.Signal{Float64}}})\u001b[22m\u001b[22m\u001b[1m(\u001b[22m\u001b[22m\u001b[1m)\u001b[22m\u001b[22m at \u001b[1m/home/zhong/.julia/v0.6/Reactive/src/operators.jl:39\u001b[22m\u001b[22m\n",
      " [8] \u001b[1mforeach\u001b[22m\u001b[22m\u001b[1m(\u001b[22m\u001b[22m::Reactive.#runaction, ::Array{Function,1}\u001b[1m)\u001b[22m\u001b[22m at \u001b[1m./abstractarray.jl:1733\u001b[22m\u001b[22m\n",
      " [9] \u001b[1mrun_node\u001b[22m\u001b[22m\u001b[1m(\u001b[22m\u001b[22m::Reactive.Signal{Cairo.CairoSurface{UInt32}}\u001b[1m)\u001b[22m\u001b[22m at \u001b[1m/home/zhong/.julia/v0.6/Reactive/src/core.jl:312\u001b[22m\u001b[22m\n",
      " [10] \u001b[1mrun_push\u001b[22m\u001b[22m\u001b[1m(\u001b[22m\u001b[22m::Reactive.Signal{Float64}, ::Float64, ::Reactive.#print_error, ::Bool\u001b[1m)\u001b[22m\u001b[22m at \u001b[1m/home/zhong/.julia/v0.6/Reactive/src/core.jl:330\u001b[22m\u001b[22m\n",
      " [11] \u001b[1mrun_push\u001b[22m\u001b[22m\u001b[1m(\u001b[22m\u001b[22m::Reactive.Signal{Float64}, ::Float64, ::Function\u001b[1m)\u001b[22m\u001b[22m at \u001b[1m/home/zhong/.julia/v0.6/Reactive/src/core.jl:317\u001b[22m\u001b[22m\n",
      " [12] \u001b[1mrun\u001b[22m\u001b[22m\u001b[1m(\u001b[22m\u001b[22m::Int64\u001b[1m)\u001b[22m\u001b[22m at \u001b[1m/home/zhong/.julia/v0.6/Reactive/src/core.jl:277\u001b[22m\u001b[22m\n",
      " [13] \u001b[1m(::Reactive.##27#29)\u001b[22m\u001b[22m\u001b[1m(\u001b[22m\u001b[22m\u001b[1m)\u001b[22m\u001b[22m at \u001b[1m./task.jl:335\u001b[22m\u001b[22m\n",
      "while loading /home/zhong/.julia/v0.6/IJulia/src/kernel.jl, in expression starting on line 31\n",
      "\u001b[1m\u001b[33mWARNING: \u001b[39m\u001b[22m\u001b[33mmin(x::AbstractArray{T1}, y::AbstractArray{T2}) where {T1 <: Real, T2 <: Real} is deprecated, use min.(x, y) instead.\u001b[39m\n",
      "Stacktrace:\n",
      " [1] \u001b[1mdepwarn\u001b[22m\u001b[22m\u001b[1m(\u001b[22m\u001b[22m::String, ::Symbol\u001b[1m)\u001b[22m\u001b[22m at \u001b[1m./deprecated.jl:70\u001b[22m\u001b[22m\n",
      " [2] \u001b[1mmin\u001b[22m\u001b[22m\u001b[1m(\u001b[22m\u001b[22m::Array{Float64,1}, ::Array{Float64,1}\u001b[1m)\u001b[22m\u001b[22m at \u001b[1m./deprecated.jl:57\u001b[22m\u001b[22m\n",
      " [3] \u001b[1mpoly_intersect\u001b[22m\u001b[22m\u001b[1m(\u001b[22m\u001b[22m::Array{Array{Float64,2},1}, ::Array{Array{Float64,2},1}\u001b[1m)\u001b[22m\u001b[22m at \u001b[1m/home/zhong/.julia/v0.6/Multilane/src/crash.jl:81\u001b[22m\u001b[22m\n",
      " [4] \u001b[1m#is_crash#5\u001b[22m\u001b[22m\u001b[1m(\u001b[22m\u001b[22m::Bool, ::Function, ::Multilane.MLMDP{Multilane.MLState,Multilane.MLAction,Multilane.NoCrashIDMMOBILModel,Multilane.NoCrashRewardModel}, ::Multilane.MLState, ::Multilane.MLState, ::Bool\u001b[1m)\u001b[22m\u001b[22m at \u001b[1m/home/zhong/.julia/v0.6/Multilane/src/crash.jl:199\u001b[22m\u001b[22m\n",
      " [5] \u001b[1mis_crash\u001b[22m\u001b[22m\u001b[1m(\u001b[22m\u001b[22m::Multilane.MLMDP{Multilane.MLState,Multilane.MLAction,Multilane.NoCrashIDMMOBILModel,Multilane.NoCrashRewardModel}, ::Multilane.MLState, ::Multilane.MLState\u001b[1m)\u001b[22m\u001b[22m at \u001b[1m/home/zhong/.julia/v0.6/Multilane/src/crash.jl:120\u001b[22m\u001b[22m\n",
      " [6] \u001b[1mdrawsim\u001b[22m\u001b[22m\u001b[1m(\u001b[22m\u001b[22m::Float64\u001b[1m)\u001b[22m\u001b[22m at \u001b[1m./In[8]:7\u001b[22m\u001b[22m\n",
      " [7] \u001b[1m(::Reactive.##33#34{#drawsim,Reactive.Signal{Cairo.CairoSurface{UInt32}},Tuple{Reactive.Signal{Float64}}})\u001b[22m\u001b[22m\u001b[1m(\u001b[22m\u001b[22m\u001b[1m)\u001b[22m\u001b[22m at \u001b[1m/home/zhong/.julia/v0.6/Reactive/src/operators.jl:39\u001b[22m\u001b[22m\n",
      " [8] \u001b[1mforeach\u001b[22m\u001b[22m\u001b[1m(\u001b[22m\u001b[22m::Reactive.#runaction, ::Array{Function,1}\u001b[1m)\u001b[22m\u001b[22m at \u001b[1m./abstractarray.jl:1733\u001b[22m\u001b[22m\n",
      " [9] \u001b[1mrun_node\u001b[22m\u001b[22m\u001b[1m(\u001b[22m\u001b[22m::Reactive.Signal{Cairo.CairoSurface{UInt32}}\u001b[1m)\u001b[22m\u001b[22m at \u001b[1m/home/zhong/.julia/v0.6/Reactive/src/core.jl:312\u001b[22m\u001b[22m\n",
      " [10] \u001b[1mrun_push\u001b[22m\u001b[22m\u001b[1m(\u001b[22m\u001b[22m::Reactive.Signal{Float64}, ::Float64, ::Reactive.#print_error, ::Bool\u001b[1m)\u001b[22m\u001b[22m at \u001b[1m/home/zhong/.julia/v0.6/Reactive/src/core.jl:330\u001b[22m\u001b[22m\n",
      " [11] \u001b[1mrun_push\u001b[22m\u001b[22m\u001b[1m(\u001b[22m\u001b[22m::Reactive.Signal{Float64}, ::Float64, ::Function\u001b[1m)\u001b[22m\u001b[22m at \u001b[1m/home/zhong/.julia/v0.6/Reactive/src/core.jl:317\u001b[22m\u001b[22m\n",
      " [12] \u001b[1mrun\u001b[22m\u001b[22m\u001b[1m(\u001b[22m\u001b[22m::Int64\u001b[1m)\u001b[22m\u001b[22m at \u001b[1m/home/zhong/.julia/v0.6/Reactive/src/core.jl:277\u001b[22m\u001b[22m\n",
      " [13] \u001b[1m(::Reactive.##27#29)\u001b[22m\u001b[22m\u001b[1m(\u001b[22m\u001b[22m\u001b[1m)\u001b[22m\u001b[22m at \u001b[1m./task.jl:335\u001b[22m\u001b[22m\n",
      "while loading /home/zhong/.julia/v0.6/IJulia/src/kernel.jl, in expression starting on line 31\n",
      "\u001b[1m\u001b[33mWARNING: \u001b[39m\u001b[22m\u001b[33mmax(x::AbstractArray{T1}, y::AbstractArray{T2}) where {T1 <: Real, T2 <: Real} is deprecated, use max.(x, y) instead.\u001b[39m\n",
      "Stacktrace:\n",
      " [1] \u001b[1mdepwarn\u001b[22m\u001b[22m\u001b[1m(\u001b[22m\u001b[22m::String, ::Symbol\u001b[1m)\u001b[22m\u001b[22m at \u001b[1m./deprecated.jl:70\u001b[22m\u001b[22m\n",
      " [2] \u001b[1mmax\u001b[22m\u001b[22m\u001b[1m(\u001b[22m\u001b[22m::Array{Float64,1}, ::Array{Float64,1}\u001b[1m)\u001b[22m\u001b[22m at \u001b[1m./deprecated.jl:57\u001b[22m\u001b[22m\n",
      " [3] \u001b[1mpoly_intersect\u001b[22m\u001b[22m\u001b[1m(\u001b[22m\u001b[22m::Array{Array{Float64,2},1}, ::Array{Array{Float64,2},1}\u001b[1m)\u001b[22m\u001b[22m at \u001b[1m/home/zhong/.julia/v0.6/Multilane/src/crash.jl:82\u001b[22m\u001b[22m\n",
      " [4] \u001b[1m#is_crash#5\u001b[22m\u001b[22m\u001b[1m(\u001b[22m\u001b[22m::Bool, ::Function, ::Multilane.MLMDP{Multilane.MLState,Multilane.MLAction,Multilane.NoCrashIDMMOBILModel,Multilane.NoCrashRewardModel}, ::Multilane.MLState, ::Multilane.MLState, ::Bool\u001b[1m)\u001b[22m\u001b[22m at \u001b[1m/home/zhong/.julia/v0.6/Multilane/src/crash.jl:199\u001b[22m\u001b[22m\n",
      " [5] \u001b[1mis_crash\u001b[22m\u001b[22m\u001b[1m(\u001b[22m\u001b[22m::Multilane.MLMDP{Multilane.MLState,Multilane.MLAction,Multilane.NoCrashIDMMOBILModel,Multilane.NoCrashRewardModel}, ::Multilane.MLState, ::Multilane.MLState\u001b[1m)\u001b[22m\u001b[22m at \u001b[1m/home/zhong/.julia/v0.6/Multilane/src/crash.jl:120\u001b[22m\u001b[22m\n",
      " [6] \u001b[1mdrawsim\u001b[22m\u001b[22m\u001b[1m(\u001b[22m\u001b[22m::Float64\u001b[1m)\u001b[22m\u001b[22m at \u001b[1m./In[8]:7\u001b[22m\u001b[22m\n",
      " [7] \u001b[1m(::Reactive.##33#34{#drawsim,Reactive.Signal{Cairo.CairoSurface{UInt32}},Tuple{Reactive.Signal{Float64}}})\u001b[22m\u001b[22m\u001b[1m(\u001b[22m\u001b[22m\u001b[1m)\u001b[22m\u001b[22m at \u001b[1m/home/zhong/.julia/v0.6/Reactive/src/operators.jl:39\u001b[22m\u001b[22m\n",
      " [8] \u001b[1mforeach\u001b[22m\u001b[22m\u001b[1m(\u001b[22m\u001b[22m::Reactive.#runaction, ::Array{Function,1}\u001b[1m)\u001b[22m\u001b[22m at \u001b[1m./abstractarray.jl:1733\u001b[22m\u001b[22m\n",
      " [9] \u001b[1mrun_node\u001b[22m\u001b[22m\u001b[1m(\u001b[22m\u001b[22m::Reactive.Signal{Cairo.CairoSurface{UInt32}}\u001b[1m)\u001b[22m\u001b[22m at \u001b[1m/home/zhong/.julia/v0.6/Reactive/src/core.jl:312\u001b[22m\u001b[22m\n",
      " [10] \u001b[1mrun_push\u001b[22m\u001b[22m\u001b[1m(\u001b[22m\u001b[22m::Reactive.Signal{Float64}, ::Float64, ::Reactive.#print_error, ::Bool\u001b[1m)\u001b[22m\u001b[22m at \u001b[1m/home/zhong/.julia/v0.6/Reactive/src/core.jl:330\u001b[22m\u001b[22m\n",
      " [11] \u001b[1mrun_push\u001b[22m\u001b[22m\u001b[1m(\u001b[22m\u001b[22m::Reactive.Signal{Float64}, ::Float64, ::Function\u001b[1m)\u001b[22m\u001b[22m at \u001b[1m/home/zhong/.julia/v0.6/Reactive/src/core.jl:317\u001b[22m\u001b[22m\n",
      " [12] \u001b[1mrun\u001b[22m\u001b[22m\u001b[1m(\u001b[22m\u001b[22m::Int64\u001b[1m)\u001b[22m\u001b[22m at \u001b[1m/home/zhong/.julia/v0.6/Reactive/src/core.jl:277\u001b[22m\u001b[22m\n",
      " [13] \u001b[1m(::Reactive.##27#29)\u001b[22m\u001b[22m\u001b[1m(\u001b[22m\u001b[22m\u001b[1m)\u001b[22m\u001b[22m at \u001b[1m./task.jl:335\u001b[22m\u001b[22m\n",
      "while loading /home/zhong/.julia/v0.6/IJulia/src/kernel.jl, in expression starting on line 31\n",
      "\u001b[1m\u001b[33mWARNING: \u001b[39m\u001b[22m\u001b[33mmin(x::AbstractArray{T1}, y::AbstractArray{T2}) where {T1 <: Real, T2 <: Real} is deprecated, use min.(x, y) instead.\u001b[39m\n",
      "Stacktrace:\n",
      " [1] \u001b[1mdepwarn\u001b[22m\u001b[22m\u001b[1m(\u001b[22m\u001b[22m::String, ::Symbol\u001b[1m)\u001b[22m\u001b[22m at \u001b[1m./deprecated.jl:70\u001b[22m\u001b[22m\n",
      " [2] \u001b[1mmin\u001b[22m\u001b[22m\u001b[1m(\u001b[22m\u001b[22m::Array{Float64,1}, ::Array{Float64,1}\u001b[1m)\u001b[22m\u001b[22m at \u001b[1m./deprecated.jl:57\u001b[22m\u001b[22m\n",
      " [3] \u001b[1mpoly_intersect\u001b[22m\u001b[22m\u001b[1m(\u001b[22m\u001b[22m::Array{Array{Float64,2},1}, ::Array{Array{Float64,2},1}\u001b[1m)\u001b[22m\u001b[22m at \u001b[1m/home/zhong/.julia/v0.6/Multilane/src/crash.jl:83\u001b[22m\u001b[22m\n",
      " [4] \u001b[1m#is_crash#5\u001b[22m\u001b[22m\u001b[1m(\u001b[22m\u001b[22m::Bool, ::Function, ::Multilane.MLMDP{Multilane.MLState,Multilane.MLAction,Multilane.NoCrashIDMMOBILModel,Multilane.NoCrashRewardModel}, ::Multilane.MLState, ::Multilane.MLState, ::Bool\u001b[1m)\u001b[22m\u001b[22m at \u001b[1m/home/zhong/.julia/v0.6/Multilane/src/crash.jl:199\u001b[22m\u001b[22m\n",
      " [5] \u001b[1mis_crash\u001b[22m\u001b[22m\u001b[1m(\u001b[22m\u001b[22m::Multilane.MLMDP{Multilane.MLState,Multilane.MLAction,Multilane.NoCrashIDMMOBILModel,Multilane.NoCrashRewardModel}, ::Multilane.MLState, ::Multilane.MLState\u001b[1m)\u001b[22m\u001b[22m at \u001b[1m/home/zhong/.julia/v0.6/Multilane/src/crash.jl:120\u001b[22m\u001b[22m\n",
      " [6] \u001b[1mdrawsim\u001b[22m\u001b[22m\u001b[1m(\u001b[22m\u001b[22m::Float64\u001b[1m)\u001b[22m\u001b[22m at \u001b[1m./In[8]:7\u001b[22m\u001b[22m\n",
      " [7] \u001b[1m(::Reactive.##33#34{#drawsim,Reactive.Signal{Cairo.CairoSurface{UInt32}},Tuple{Reactive.Signal{Float64}}})\u001b[22m\u001b[22m\u001b[1m(\u001b[22m\u001b[22m\u001b[1m)\u001b[22m\u001b[22m at \u001b[1m/home/zhong/.julia/v0.6/Reactive/src/operators.jl:39\u001b[22m\u001b[22m\n",
      " [8] \u001b[1mforeach\u001b[22m\u001b[22m\u001b[1m(\u001b[22m\u001b[22m::Reactive.#runaction, ::Array{Function,1}\u001b[1m)\u001b[22m\u001b[22m at \u001b[1m./abstractarray.jl:1733\u001b[22m\u001b[22m\n",
      " [9] \u001b[1mrun_node\u001b[22m\u001b[22m\u001b[1m(\u001b[22m\u001b[22m::Reactive.Signal{Cairo.CairoSurface{UInt32}}\u001b[1m)\u001b[22m\u001b[22m at \u001b[1m/home/zhong/.julia/v0.6/Reactive/src/core.jl:312\u001b[22m\u001b[22m\n",
      " [10] \u001b[1mrun_push\u001b[22m\u001b[22m\u001b[1m(\u001b[22m\u001b[22m::Reactive.Signal{Float64}, ::Float64, ::Reactive.#print_error, ::Bool\u001b[1m)\u001b[22m\u001b[22m at \u001b[1m/home/zhong/.julia/v0.6/Reactive/src/core.jl:330\u001b[22m\u001b[22m\n",
      " [11] \u001b[1mrun_push\u001b[22m\u001b[22m\u001b[1m(\u001b[22m\u001b[22m::Reactive.Signal{Float64}, ::Float64, ::Function\u001b[1m)\u001b[22m\u001b[22m at \u001b[1m/home/zhong/.julia/v0.6/Reactive/src/core.jl:317\u001b[22m\u001b[22m\n",
      " [12] \u001b[1mrun\u001b[22m\u001b[22m\u001b[1m(\u001b[22m\u001b[22m::Int64\u001b[1m)\u001b[22m\u001b[22m at \u001b[1m/home/zhong/.julia/v0.6/Reactive/src/core.jl:277\u001b[22m\u001b[22m\n",
      " [13] \u001b[1m(::Reactive.##27#29)\u001b[22m\u001b[22m\u001b[1m(\u001b[22m\u001b[22m\u001b[1m)\u001b[22m\u001b[22m at \u001b[1m./task.jl:335\u001b[22m\u001b[22m\n",
      "while loading /home/zhong/.julia/v0.6/IJulia/src/kernel.jl, in expression starting on line 31\n",
      "\u001b[1m\u001b[33mWARNING: \u001b[39m\u001b[22m\u001b[33mmax(x::AbstractArray{T1}, y::AbstractArray{T2}) where {T1 <: Real, T2 <: Real} is deprecated, use max.(x, y) instead.\u001b[39m\n",
      "Stacktrace:\n",
      " [1] \u001b[1mdepwarn\u001b[22m\u001b[22m\u001b[1m(\u001b[22m\u001b[22m::String, ::Symbol\u001b[1m)\u001b[22m\u001b[22m at \u001b[1m./deprecated.jl:70\u001b[22m\u001b[22m\n",
      " [2] \u001b[1mmax\u001b[22m\u001b[22m\u001b[1m(\u001b[22m\u001b[22m::Array{Float64,1}, ::Array{Float64,1}\u001b[1m)\u001b[22m\u001b[22m at \u001b[1m./deprecated.jl:57\u001b[22m\u001b[22m\n",
      " [3] \u001b[1mpoly_intersect\u001b[22m\u001b[22m\u001b[1m(\u001b[22m\u001b[22m::Array{Array{Float64,2},1}, ::Array{Array{Float64,2},1}\u001b[1m)\u001b[22m\u001b[22m at \u001b[1m/home/zhong/.julia/v0.6/Multilane/src/crash.jl:85\u001b[22m\u001b[22m\n",
      " [4] \u001b[1m#is_crash#5\u001b[22m\u001b[22m\u001b[1m(\u001b[22m\u001b[22m::Bool, ::Function, ::Multilane.MLMDP{Multilane.MLState,Multilane.MLAction,Multilane.NoCrashIDMMOBILModel,Multilane.NoCrashRewardModel}, ::Multilane.MLState, ::Multilane.MLState, ::Bool\u001b[1m)\u001b[22m\u001b[22m at \u001b[1m/home/zhong/.julia/v0.6/Multilane/src/crash.jl:199\u001b[22m\u001b[22m\n",
      " [5] \u001b[1mis_crash\u001b[22m\u001b[22m\u001b[1m(\u001b[22m\u001b[22m::Multilane.MLMDP{Multilane.MLState,Multilane.MLAction,Multilane.NoCrashIDMMOBILModel,Multilane.NoCrashRewardModel}, ::Multilane.MLState, ::Multilane.MLState\u001b[1m)\u001b[22m\u001b[22m at \u001b[1m/home/zhong/.julia/v0.6/Multilane/src/crash.jl:120\u001b[22m\u001b[22m\n",
      " [6] \u001b[1mdrawsim\u001b[22m\u001b[22m\u001b[1m(\u001b[22m\u001b[22m::Float64\u001b[1m)\u001b[22m\u001b[22m at \u001b[1m./In[8]:7\u001b[22m\u001b[22m\n",
      " [7] \u001b[1m(::Reactive.##33#34{#drawsim,Reactive.Signal{Cairo.CairoSurface{UInt32}},Tuple{Reactive.Signal{Float64}}})\u001b[22m\u001b[22m\u001b[1m(\u001b[22m\u001b[22m\u001b[1m)\u001b[22m\u001b[22m at \u001b[1m/home/zhong/.julia/v0.6/Reactive/src/operators.jl:39\u001b[22m\u001b[22m\n",
      " [8] \u001b[1mforeach\u001b[22m\u001b[22m\u001b[1m(\u001b[22m\u001b[22m::Reactive.#runaction, ::Array{Function,1}\u001b[1m)\u001b[22m\u001b[22m at \u001b[1m./abstractarray.jl:1733\u001b[22m\u001b[22m\n",
      " [9] \u001b[1mrun_node\u001b[22m\u001b[22m\u001b[1m(\u001b[22m\u001b[22m::Reactive.Signal{Cairo.CairoSurface{UInt32}}\u001b[1m)\u001b[22m\u001b[22m at \u001b[1m/home/zhong/.julia/v0.6/Reactive/src/core.jl:312\u001b[22m\u001b[22m\n",
      " [10] \u001b[1mrun_push\u001b[22m\u001b[22m\u001b[1m(\u001b[22m\u001b[22m::Reactive.Signal{Float64}, ::Float64, ::Reactive.#print_error, ::Bool\u001b[1m)\u001b[22m\u001b[22m at \u001b[1m/home/zhong/.julia/v0.6/Reactive/src/core.jl:330\u001b[22m\u001b[22m\n",
      " [11] \u001b[1mrun_push\u001b[22m\u001b[22m\u001b[1m(\u001b[22m\u001b[22m::Reactive.Signal{Float64}, ::Float64, ::Function\u001b[1m)\u001b[22m\u001b[22m at \u001b[1m/home/zhong/.julia/v0.6/Reactive/src/core.jl:317\u001b[22m\u001b[22m\n",
      " [12] \u001b[1mrun\u001b[22m\u001b[22m\u001b[1m(\u001b[22m\u001b[22m::Int64\u001b[1m)\u001b[22m\u001b[22m at \u001b[1m/home/zhong/.julia/v0.6/Reactive/src/core.jl:277\u001b[22m\u001b[22m\n",
      " [13] \u001b[1m(::Reactive.##27#29)\u001b[22m\u001b[22m\u001b[1m(\u001b[22m\u001b[22m\u001b[1m)\u001b[22m\u001b[22m at \u001b[1m./task.jl:335\u001b[22m\u001b[22m\n",
      "while loading /home/zhong/.julia/v0.6/IJulia/src/kernel.jl, in expression starting on line 31\n",
      "\u001b[1m\u001b[33mWARNING: \u001b[39m\u001b[22m\u001b[33mmin(x::AbstractArray{T1}, y::AbstractArray{T2}) where {T1 <: Real, T2 <: Real} is deprecated, use min.(x, y) instead.\u001b[39m\n",
      "Stacktrace:\n",
      " [1] \u001b[1mdepwarn\u001b[22m\u001b[22m\u001b[1m(\u001b[22m\u001b[22m::String, ::Symbol\u001b[1m)\u001b[22m\u001b[22m at \u001b[1m./deprecated.jl:70\u001b[22m\u001b[22m\n",
      " [2] \u001b[1mmin\u001b[22m\u001b[22m\u001b[1m(\u001b[22m\u001b[22m::Array{Float64,1}, ::Array{Float64,1}\u001b[1m)\u001b[22m\u001b[22m at \u001b[1m./deprecated.jl:57\u001b[22m\u001b[22m\n",
      " [3] \u001b[1mpoly_intersect\u001b[22m\u001b[22m\u001b[1m(\u001b[22m\u001b[22m::Array{Array{Float64,2},1}, ::Array{Array{Float64,2},1}\u001b[1m)\u001b[22m\u001b[22m at \u001b[1m/home/zhong/.julia/v0.6/Multilane/src/crash.jl:86\u001b[22m\u001b[22m\n",
      " [4] \u001b[1m#is_crash#5\u001b[22m\u001b[22m\u001b[1m(\u001b[22m\u001b[22m::Bool, ::Function, ::Multilane.MLMDP{Multilane.MLState,Multilane.MLAction,Multilane.NoCrashIDMMOBILModel,Multilane.NoCrashRewardModel}, ::Multilane.MLState, ::Multilane.MLState, ::Bool\u001b[1m)\u001b[22m\u001b[22m at \u001b[1m/home/zhong/.julia/v0.6/Multilane/src/crash.jl:199\u001b[22m\u001b[22m\n",
      " [5] \u001b[1mis_crash\u001b[22m\u001b[22m\u001b[1m(\u001b[22m\u001b[22m::Multilane.MLMDP{Multilane.MLState,Multilane.MLAction,Multilane.NoCrashIDMMOBILModel,Multilane.NoCrashRewardModel}, ::Multilane.MLState, ::Multilane.MLState\u001b[1m)\u001b[22m\u001b[22m at \u001b[1m/home/zhong/.julia/v0.6/Multilane/src/crash.jl:120\u001b[22m\u001b[22m\n",
      " [6] \u001b[1mdrawsim\u001b[22m\u001b[22m\u001b[1m(\u001b[22m\u001b[22m::Float64\u001b[1m)\u001b[22m\u001b[22m at \u001b[1m./In[8]:7\u001b[22m\u001b[22m\n",
      " [7] \u001b[1m(::Reactive.##33#34{#drawsim,Reactive.Signal{Cairo.CairoSurface{UInt32}},Tuple{Reactive.Signal{Float64}}})\u001b[22m\u001b[22m\u001b[1m(\u001b[22m\u001b[22m\u001b[1m)\u001b[22m\u001b[22m at \u001b[1m/home/zhong/.julia/v0.6/Reactive/src/operators.jl:39\u001b[22m\u001b[22m\n",
      " [8] \u001b[1mforeach\u001b[22m\u001b[22m\u001b[1m(\u001b[22m\u001b[22m::Reactive.#runaction, ::Array{Function,1}\u001b[1m)\u001b[22m\u001b[22m at \u001b[1m./abstractarray.jl:1733\u001b[22m\u001b[22m\n",
      " [9] \u001b[1mrun_node\u001b[22m\u001b[22m\u001b[1m(\u001b[22m\u001b[22m::Reactive.Signal{Cairo.CairoSurface{UInt32}}\u001b[1m)\u001b[22m\u001b[22m at \u001b[1m/home/zhong/.julia/v0.6/Reactive/src/core.jl:312\u001b[22m\u001b[22m\n",
      " [10] \u001b[1mrun_push\u001b[22m\u001b[22m\u001b[1m(\u001b[22m\u001b[22m::Reactive.Signal{Float64}, ::Float64, ::Reactive.#print_error, ::Bool\u001b[1m)\u001b[22m\u001b[22m at \u001b[1m/home/zhong/.julia/v0.6/Reactive/src/core.jl:330\u001b[22m\u001b[22m\n",
      " [11] \u001b[1mrun_push\u001b[22m\u001b[22m\u001b[1m(\u001b[22m\u001b[22m::Reactive.Signal{Float64}, ::Float64, ::Function\u001b[1m)\u001b[22m\u001b[22m at \u001b[1m/home/zhong/.julia/v0.6/Reactive/src/core.jl:317\u001b[22m\u001b[22m\n",
      " [12] \u001b[1mrun\u001b[22m\u001b[22m\u001b[1m(\u001b[22m\u001b[22m::Int64\u001b[1m)\u001b[22m\u001b[22m at \u001b[1m/home/zhong/.julia/v0.6/Reactive/src/core.jl:277\u001b[22m\u001b[22m\n",
      " [13] \u001b[1m(::Reactive.##27#29)\u001b[22m\u001b[22m\u001b[1m(\u001b[22m\u001b[22m\u001b[1m)\u001b[22m\u001b[22m at \u001b[1m./task.jl:335\u001b[22m\u001b[22m\n",
      "while loading /home/zhong/.julia/v0.6/IJulia/src/kernel.jl, in expression starting on line 31\n"
     ]
    },
    {
     "data": {
      "image/png": "[encoded data removed]",
      "text/plain": [
       "Cairo.CairoSurface{UInt32}(Ptr{Void} @0x0000000005832fc0, 1000.0, 220.0, #undef)"
      ]
     },
     "execution_count": 10,
     "metadata": {
      "comm_id": "23c4bb5c-2179-4610-8d20-4e04f5c8257f",
      "reactive": true
     },
     "output_type": "execute_result"
    },
    {
     "name": "stderr",
     "output_type": "stream",
     "text": [
      "\u001b[1m\u001b[33mWARNING: \u001b[39m\u001b[22m\u001b[33mmax(x::AbstractArray{T1}, y::AbstractArray{T2}) where {T1 <: Real, T2 <: Real} is deprecated, use max.(x, y) instead.\u001b[39m\n",
      "Stacktrace:\n",
      " [1] \u001b[1mdepwarn\u001b[22m\u001b[22m\u001b[1m(\u001b[22m\u001b[22m::String, ::Symbol\u001b[1m)\u001b[22m\u001b[22m at \u001b[1m./deprecated.jl:70\u001b[22m\u001b[22m\n",
      " [2] \u001b[1mmax\u001b[22m\u001b[22m\u001b[1m(\u001b[22m\u001b[22m::Array{Float64,1}, ::Array{Float64,1}\u001b[1m)\u001b[22m\u001b[22m at \u001b[1m./deprecated.jl:57\u001b[22m\u001b[22m\n",
      " [3] \u001b[1mpoly_intersect\u001b[22m\u001b[22m\u001b[1m(\u001b[22m\u001b[22m::Array{Array{Float64,2},1}, ::Array{Array{Float64,2},1}\u001b[1m)\u001b[22m\u001b[22m at \u001b[1m/home/zhong/.julia/v0.6/Multilane/src/crash.jl:89\u001b[22m\u001b[22m\n",
      " [4] \u001b[1m#is_crash#5\u001b[22m\u001b[22m\u001b[1m(\u001b[22m\u001b[22m::Bool, ::Function, ::Multilane.MLMDP{Multilane.MLState,Multilane.MLAction,Multilane.NoCrashIDMMOBILModel,Multilane.NoCrashRewardModel}, ::Multilane.MLState, ::Multilane.MLState, ::Bool\u001b[1m)\u001b[22m\u001b[22m at \u001b[1m/home/zhong/.julia/v0.6/Multilane/src/crash.jl:199\u001b[22m\u001b[22m\n",
      " [5] \u001b[1mis_crash\u001b[22m\u001b[22m\u001b[1m(\u001b[22m\u001b[22m::Multilane.MLMDP{Multilane.MLState,Multilane.MLAction,Multilane.NoCrashIDMMOBILModel,Multilane.NoCrashRewardModel}, ::Multilane.MLState, ::Multilane.MLState\u001b[1m)\u001b[22m\u001b[22m at \u001b[1m/home/zhong/.julia/v0.6/Multilane/src/crash.jl:120\u001b[22m\u001b[22m\n",
      " [6] \u001b[1mdrawsim\u001b[22m\u001b[22m\u001b[1m(\u001b[22m\u001b[22m::Float64\u001b[1m)\u001b[22m\u001b[22m at \u001b[1m./In[8]:7\u001b[22m\u001b[22m\n",
      " [7] \u001b[1m(::Reactive.##33#34{#drawsim,Reactive.Signal{Cairo.CairoSurface{UInt32}},Tuple{Reactive.Signal{Float64}}})\u001b[22m\u001b[22m\u001b[1m(\u001b[22m\u001b[22m\u001b[1m)\u001b[22m\u001b[22m at \u001b[1m/home/zhong/.julia/v0.6/Reactive/src/operators.jl:39\u001b[22m\u001b[22m\n",
      " [8] \u001b[1mforeach\u001b[22m\u001b[22m\u001b[1m(\u001b[22m\u001b[22m::Reactive.#runaction, ::Array{Function,1}\u001b[1m)\u001b[22m\u001b[22m at \u001b[1m./abstractarray.jl:1733\u001b[22m\u001b[22m\n",
      " [9] \u001b[1mrun_node\u001b[22m\u001b[22m\u001b[1m(\u001b[22m\u001b[22m::Reactive.Signal{Cairo.CairoSurface{UInt32}}\u001b[1m)\u001b[22m\u001b[22m at \u001b[1m/home/zhong/.julia/v0.6/Reactive/src/core.jl:312\u001b[22m\u001b[22m\n",
      " [10] \u001b[1mrun_push\u001b[22m\u001b[22m\u001b[1m(\u001b[22m\u001b[22m::Reactive.Signal{Float64}, ::Float64, ::Reactive.#print_error, ::Bool\u001b[1m)\u001b[22m\u001b[22m at \u001b[1m/home/zhong/.julia/v0.6/Reactive/src/core.jl:330\u001b[22m\u001b[22m\n",
      " [11] \u001b[1mrun_push\u001b[22m\u001b[22m\u001b[1m(\u001b[22m\u001b[22m::Reactive.Signal{Float64}, ::Float64, ::Function\u001b[1m)\u001b[22m\u001b[22m at \u001b[1m/home/zhong/.julia/v0.6/Reactive/src/core.jl:317\u001b[22m\u001b[22m\n",
      " [12] \u001b[1mrun\u001b[22m\u001b[22m\u001b[1m(\u001b[22m\u001b[22m::Int64\u001b[1m)\u001b[22m\u001b[22m at \u001b[1m/home/zhong/.julia/v0.6/Reactive/src/core.jl:277\u001b[22m\u001b[22m\n",
      " [13] \u001b[1m(::Reactive.##27#29)\u001b[22m\u001b[22m\u001b[1m(\u001b[22m\u001b[22m\u001b[1m)\u001b[22m\u001b[22m at \u001b[1m./task.jl:335\u001b[22m\u001b[22m\n",
      "while loading /home/zhong/.julia/v0.6/IJulia/src/kernel.jl, in expression starting on line 31\n",
      "\u001b[1m\u001b[33mWARNING: \u001b[39m\u001b[22m\u001b[33mmin(x::AbstractArray{T1}, y::AbstractArray{T2}) where {T1 <: Real, T2 <: Real} is deprecated, use min.(x, y) instead.\u001b[39m\n",
      "Stacktrace:\n",
      " [1] \u001b[1mdepwarn\u001b[22m\u001b[22m\u001b[1m(\u001b[22m\u001b[22m::String, ::Symbol\u001b[1m)\u001b[22m\u001b[22m at \u001b[1m./deprecated.jl:70\u001b[22m\u001b[22m\n",
      " [2] \u001b[1mmin\u001b[22m\u001b[22m\u001b[1m(\u001b[22m\u001b[22m::Array{Float64,1}, ::Array{Float64,1}\u001b[1m)\u001b[22m\u001b[22m at \u001b[1m./deprecated.jl:57\u001b[22m\u001b[22m\n",
      " [3] \u001b[1mpoly_intersect\u001b[22m\u001b[22m\u001b[1m(\u001b[22m\u001b[22m::Array{Array{Float64,2},1}, ::Array{Array{Float64,2},1}\u001b[1m)\u001b[22m\u001b[22m at \u001b[1m/home/zhong/.julia/v0.6/Multilane/src/crash.jl:90\u001b[22m\u001b[22m\n",
      " [4] \u001b[1m#is_crash#5\u001b[22m\u001b[22m\u001b[1m(\u001b[22m\u001b[22m::Bool, ::Function, ::Multilane.MLMDP{Multilane.MLState,Multilane.MLAction,Multilane.NoCrashIDMMOBILModel,Multilane.NoCrashRewardModel}, ::Multilane.MLState, ::Multilane.MLState, ::Bool\u001b[1m)\u001b[22m\u001b[22m at \u001b[1m/home/zhong/.julia/v0.6/Multilane/src/crash.jl:199\u001b[22m\u001b[22m\n",
      " [5] \u001b[1mis_crash\u001b[22m\u001b[22m\u001b[1m(\u001b[22m\u001b[22m::Multilane.MLMDP{Multilane.MLState,Multilane.MLAction,Multilane.NoCrashIDMMOBILModel,Multilane.NoCrashRewardModel}, ::Multilane.MLState, ::Multilane.MLState\u001b[1m)\u001b[22m\u001b[22m at \u001b[1m/home/zhong/.julia/v0.6/Multilane/src/crash.jl:120\u001b[22m\u001b[22m\n",
      " [6] \u001b[1mdrawsim\u001b[22m\u001b[22m\u001b[1m(\u001b[22m\u001b[22m::Float64\u001b[1m)\u001b[22m\u001b[22m at \u001b[1m./In[8]:7\u001b[22m\u001b[22m\n",
      " [7] \u001b[1m(::Reactive.##33#34{#drawsim,Reactive.Signal{Cairo.CairoSurface{UInt32}},Tuple{Reactive.Signal{Float64}}})\u001b[22m\u001b[22m\u001b[1m(\u001b[22m\u001b[22m\u001b[1m)\u001b[22m\u001b[22m at \u001b[1m/home/zhong/.julia/v0.6/Reactive/src/operators.jl:39\u001b[22m\u001b[22m\n",
      " [8] \u001b[1mforeach\u001b[22m\u001b[22m\u001b[1m(\u001b[22m\u001b[22m::Reactive.#runaction, ::Array{Function,1}\u001b[1m)\u001b[22m\u001b[22m at \u001b[1m./abstractarray.jl:1733\u001b[22m\u001b[22m\n",
      " [9] \u001b[1mrun_node\u001b[22m\u001b[22m\u001b[1m(\u001b[22m\u001b[22m::Reactive.Signal{Cairo.CairoSurface{UInt32}}\u001b[1m)\u001b[22m\u001b[22m at \u001b[1m/home/zhong/.julia/v0.6/Reactive/src/core.jl:312\u001b[22m\u001b[22m\n",
      " [10] \u001b[1mrun_push\u001b[22m\u001b[22m\u001b[1m(\u001b[22m\u001b[22m::Reactive.Signal{Float64}, ::Float64, ::Reactive.#print_error, ::Bool\u001b[1m)\u001b[22m\u001b[22m at \u001b[1m/home/zhong/.julia/v0.6/Reactive/src/core.jl:330\u001b[22m\u001b[22m\n",
      " [11] \u001b[1mrun_push\u001b[22m\u001b[22m\u001b[1m(\u001b[22m\u001b[22m::Reactive.Signal{Float64}, ::Float64, ::Function\u001b[1m)\u001b[22m\u001b[22m at \u001b[1m/home/zhong/.julia/v0.6/Reactive/src/core.jl:317\u001b[22m\u001b[22m\n",
      " [12] \u001b[1mrun\u001b[22m\u001b[22m\u001b[1m(\u001b[22m\u001b[22m::Int64\u001b[1m)\u001b[22m\u001b[22m at \u001b[1m/home/zhong/.julia/v0.6/Reactive/src/core.jl:277\u001b[22m\u001b[22m\n",
      " [13] \u001b[1m(::Reactive.##27#29)\u001b[22m\u001b[22m\u001b[1m(\u001b[22m\u001b[22m\u001b[1m)\u001b[22m\u001b[22m at \u001b[1m./task.jl:335\u001b[22m\u001b[22m\n",
      "while loading /home/zhong/.julia/v0.6/IJulia/src/kernel.jl, in expression starting on line 31\n"
     ]
    }
   ],
   "source": [
    "map(drawsim,timestamps)"
   ]
  },
  {
   "cell_type": "markdown",
   "metadata": {},
   "source": [
    "methods(DataArray)"
   ]
  }
 ],
 "metadata": {
  "anaconda-cloud": {},
  "kernelspec": {
   "display_name": "Julia 0.6.2",
   "language": "julia",
   "name": "julia-0.6"
  },
  "language_info": {
   "file_extension": ".jl",
   "mimetype": "application/julia",
   "name": "julia",
   "version": "0.6.2"
  }
 },
 "nbformat": 4,
 "nbformat_minor": 1
}
