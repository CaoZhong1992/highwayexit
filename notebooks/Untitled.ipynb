{
 "cells": [
  {
   "cell_type": "code",
   "execution_count": 1,
   "metadata": {},
   "outputs": [],
   "source": [
    "abstract type AbstractMLRewardModel end\n",
    "abstract type AbstractMLDynamicsModel end"
   ]
  },
  {
   "cell_type": "code",
   "execution_count": 2,
   "metadata": {},
   "outputs": [],
   "source": [
    "struct MLMDP{DModel<:AbstractMLDynamicsModel, RModel<:AbstractMLRewardModel}\n",
    "    dmodel::DModel\n",
    "    rmodel::RModel\n",
    "    discount::Float64\n",
    "end"
   ]
  },
  {
   "cell_type": "code",
   "execution_count": 3,
   "metadata": {},
   "outputs": [],
   "source": [
    "struct NoCrashRewardModel <: AbstractMLRewardModel\n",
    "    cost_dangerous_brake::Float64 # POSITIVE NUMBER\n",
    "    reward_in_target_lane::Float64 # POSITIVE NUMBER\n",
    "\n",
    "    brake_penalty_thresh::Float64 # (POSITIVE NUMBER) if the deceleration is greater than this cost_dangerous_brake will be accured\n",
    "    target_lane::Int\n",
    "end"
   ]
  },
  {
   "cell_type": "code",
   "execution_count": 4,
   "metadata": {},
   "outputs": [
    {
     "data": {
      "text/plain": [
       "NoCrashRewardModel"
      ]
     },
     "execution_count": 4,
     "metadata": {},
     "output_type": "execute_result"
    }
   ],
   "source": [
    "NoCrashRewardModel() = NoCrashRewardModel(100.,10.,2.5,4)"
   ]
  },
  {
   "cell_type": "code",
   "execution_count": 5,
   "metadata": {},
   "outputs": [],
   "source": [
    "struct NoCrashIDMMOBILModel <: AbstractMLDynamicsModel\n",
    "    brake_terminate_thresh::Float64 # terminate simulation if braking is above this (always positive)\n",
    "    max_dist::Float64 # terminate simulation if distance becomes greater than this\n",
    "end"
   ]
  },
  {
   "cell_type": "code",
   "execution_count": 6,
   "metadata": {},
   "outputs": [
    {
     "data": {
      "text/plain": [
       "MLMDP{NoCrashIDMMOBILModel,R} where R<:AbstractMLRewardModel"
      ]
     },
     "execution_count": 6,
     "metadata": {},
     "output_type": "execute_result"
    }
   ],
   "source": [
    "const NoCrashMDP{R<:AbstractMLRewardModel} = MLMDP{NoCrashIDMMOBILModel, R} where R<:AbstractMLRewardModel"
   ]
  },
  {
   "cell_type": "code",
   "execution_count": 7,
   "metadata": {},
   "outputs": [
    {
     "data": {
      "text/plain": [
       "NoCrashRewardModel(100.0, 10.0, 2.5, 4)"
      ]
     },
     "execution_count": 7,
     "metadata": {},
     "output_type": "execute_result"
    }
   ],
   "source": [
    "rmodel = NoCrashRewardModel()"
   ]
  },
  {
   "cell_type": "code",
   "execution_count": 8,
   "metadata": {},
   "outputs": [
    {
     "data": {
      "text/plain": [
       "NoCrashIDMMOBILModel(0.5, 0.5)"
      ]
     },
     "execution_count": 8,
     "metadata": {},
     "output_type": "execute_result"
    }
   ],
   "source": [
    "dmodel = NoCrashIDMMOBILModel(0.5,0.5)"
   ]
  },
  {
   "cell_type": "code",
   "execution_count": 9,
   "metadata": {},
   "outputs": [
    {
     "data": {
      "text/plain": [
       "MLMDP{NoCrashIDMMOBILModel,NoCrashRewardModel}(NoCrashIDMMOBILModel(0.5, 0.5), NoCrashRewardModel(100.0, 10.0, 2.5, 4), 0.1)"
      ]
     },
     "execution_count": 9,
     "metadata": {},
     "output_type": "execute_result"
    }
   ],
   "source": [
    "mdp = MLMDP(dmodel, rmodel, 0.1)"
   ]
  },
  {
   "cell_type": "code",
   "execution_count": 12,
   "metadata": {},
   "outputs": [
    {
     "data": {
      "text/plain": [
       "MLMDP{NoCrashIDMMOBILModel,NoCrashRewardModel}(NoCrashIDMMOBILModel(0.5, 0.5), NoCrashRewardModel(100.0, 10.0, 2.5, 4), 0.1)"
      ]
     },
     "execution_count": 12,
     "metadata": {},
     "output_type": "execute_result"
    }
   ],
   "source": [
    "mdp = NoCrashMDP{NoCrashRewardModel}(dmodel, rmodel, 0.1)"
   ]
  },
  {
   "cell_type": "code",
   "execution_count": 11,
   "metadata": {},
   "outputs": [
    {
     "data": {
      "text/plain": [
       "MLMDP{NoCrashIDMMOBILModel,R} where R<:AbstractMLRewardModel"
      ]
     },
     "execution_count": 11,
     "metadata": {},
     "output_type": "execute_result"
    }
   ],
   "source": [
    "NoCrashMDP"
   ]
  },
  {
   "cell_type": "code",
   "execution_count": null,
   "metadata": {},
   "outputs": [],
   "source": []
  }
 ],
 "metadata": {
  "kernelspec": {
   "display_name": "Julia 0.6.2",
   "language": "julia",
   "name": "julia-0.6"
  },
  "language_info": {
   "file_extension": ".jl",
   "mimetype": "application/julia",
   "name": "julia",
   "version": "0.6.2"
  }
 },
 "nbformat": 4,
 "nbformat_minor": 2
}
