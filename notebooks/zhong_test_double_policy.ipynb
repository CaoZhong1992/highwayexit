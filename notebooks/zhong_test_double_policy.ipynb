{
 "cells": [
  {
   "cell_type": "code",
   "execution_count": 1,
   "metadata": {
    "scrolled": true
   },
   "outputs": [
    {
     "name": "stderr",
     "output_type": "stream",
     "text": [
      "\u001b[1m\u001b[36mINFO: \u001b[39m\u001b[22m\u001b[36mRecompiling stale cache file /home/zhong/.julia/lib/v0.6/Multilane.ji for module Multilane.\n",
      "\u001b[39m\n",
      "WARNING: deprecated syntax \"function .*(...)\".\n",
      "Use \"function Base.broadcast(::typeof(*), ...)\" instead.\n",
      "\n",
      "WARNING: deprecated syntax \"function .^(...)\".\n",
      "Use \"function Base.broadcast(::typeof(^), ...)\" instead.\n",
      "\n",
      "WARNING: deprecated syntax \"function .*(...)\".\n",
      "Use \"function Base.broadcast(::typeof(*), ...)\" instead.\n",
      "\n",
      "WARNING: deprecated syntax \"function .^(...)\".\n",
      "Use \"function Base.broadcast(::typeof(^), ...)\" instead.\n",
      "\n",
      "WARNING: deprecated syntax \"function .*(...)\".\n",
      "Use \"function Base.broadcast(::typeof(*), ...)\" instead.\n",
      "\n",
      "WARNING: deprecated syntax \"function .*(...)\".\n",
      "Use \"function Base.broadcast(::typeof(*), ...)\" instead.\n",
      "\n",
      "WARNING: deprecated syntax \"function .^(...)\".\n",
      "Use \"function Base.broadcast(::typeof(^), ...)\" instead.\n",
      "\n",
      "WARNING: deprecated syntax \"function .-(...)\".\n",
      "Use \"function Base.broadcast(::typeof(-), ...)\" instead.\n",
      "WARNING: import of POMDPs.generate_s into Multilane conflicts with an existing identifier; ignored.\n",
      "WARNING: imported binding for Policy overwritten in module Multilane\n"
     ]
    },
    {
     "name": "stdout",
     "output_type": "stream",
     "text": [
      "Automatically loading visualization components.\n"
     ]
    },
    {
     "name": "stderr",
     "output_type": "stream",
     "text": [
      "WARNING: using Cairo.clip in module Multilane conflicts with an existing identifier.\n"
     ]
    },
    {
     "data": {
      "text/html": [
       "<div id=\"interact-js-shim\">\n",
       "    <script charset=\"utf-8\">\n",
       "(function (IPython, $, _, MathJax) {\n",
       "    $.event.special.destroyed = {\n",
       "\tremove: function(o) {\n",
       "\t    if (o.handler) {\n",
       "\t\to.handler.apply(this, arguments)\n",
       "\t    }\n",
       "\t}\n",
       "    }\n",
       "\n",
       "    var OutputArea = IPython.version >= \"4.0.0\" ? require(\"notebook/js/outputarea\").OutputArea : IPython.OutputArea;\n",
       "\n",
       "    var redrawValue = function (container, type, val) {\n",
       "\tvar selector = $(\"<div/>\");\n",
       "\tvar oa = new OutputArea(_.extend(selector, {\n",
       "\t    selector: selector,\n",
       "\t    prompt_area: true,\n",
       "\t    events: IPython.events,\n",
       "\t    keyboard_manager: IPython.keyboard_manager\n",
       "\t})); // Hack to work with IPython 2.1.0\n",
       "\n",
       "\tswitch (type) {\n",
       "\tcase \"image/png\":\n",
       "            var _src = 'data:' + type + ';base64,' + val;\n",
       "\t    $(container).find(\"img\").attr('src', _src);\n",
       "\t    break;\n",
       "\tcase \"text/latex\":\n",
       "\t\tif (MathJax){\n",
       "\t\t\tvar math = MathJax.Hub.getAllJax(container)[0];\n",
       "\t\t\tMathJax.Hub.Queue([\"Text\", math, val.replace(/^\\${1,2}|\\${1,2}$/g, '')]);\n",
       "\t\t\tbreak;\n",
       "\t\t}\n",
       "\tdefault:\n",
       "\t    var toinsert = OutputArea.append_map[type].apply(\n",
       "\t\toa, [val, {}, selector]\n",
       "\t    );\n",
       "\t    $(container).empty().append(toinsert.contents());\n",
       "\t    selector.remove();\n",
       "\t}\n",
       "    }\n",
       "\n",
       "\n",
       "    $(document).ready(function() {\n",
       "\tfunction initComm(evt, data) {\n",
       "\t    var comm_manager = data.kernel.comm_manager;\n",
       "        //_.extend(comm_manager.targets, require(\"widgets/js/widget\"))\n",
       "\t    comm_manager.register_target(\"Signal\", function (comm) {\n",
       "            comm.on_msg(function (msg) {\n",
       "                var val = msg.content.data.value;\n",
       "                $(\".signal-\" + comm.comm_id).each(function() {\n",
       "                var type = $(this).data(\"type\");\n",
       "                if (typeof(val[type]) !== \"undefined\" && val[type] !== null) {\n",
       "                    redrawValue(this, type, val[type], type);\n",
       "                }\n",
       "                });\n",
       "                delete val;\n",
       "                delete msg.content.data.value;\n",
       "            });\n",
       "\t    });\n",
       "\n",
       "\t    // coordingate with Comm and redraw Signals\n",
       "\t    // XXX: Test using Reactive here to improve performance\n",
       "\t    $([IPython.events]).on(\n",
       "\t\t'output_appended.OutputArea', function (event, type, value, md, toinsert) {\n",
       "\t\t    if (md && md.reactive) {\n",
       "                // console.log(md.comm_id);\n",
       "                toinsert.addClass(\"signal-\" + md.comm_id);\n",
       "                toinsert.data(\"type\", type);\n",
       "                // Signal back indicating the mimetype required\n",
       "                var comm_manager = IPython.notebook.kernel.comm_manager;\n",
       "                var comm = comm_manager.comms[md.comm_id];\n",
       "                comm.then(function (c) {\n",
       "                    c.send({action: \"subscribe_mime\",\n",
       "                       mime: type});\n",
       "                    toinsert.bind(\"destroyed\", function() {\n",
       "                        c.send({action: \"unsubscribe_mime\",\n",
       "                               mime: type});\n",
       "                    });\n",
       "                })\n",
       "\t\t    }\n",
       "\t    });\n",
       "\t}\n",
       "\n",
       "\ttry {\n",
       "\t    // try to initialize right away. otherwise, wait on the status_started event.\n",
       "\t    initComm(undefined, IPython.notebook);\n",
       "\t} catch (e) {\n",
       "\t    $([IPython.events]).on('kernel_created.Kernel kernel_created.Session', initComm);\n",
       "\t}\n",
       "    });\n",
       "})(IPython, jQuery, _, MathJax);\n",
       "</script>\n",
       "    <script>\n",
       "        window.interactLoadedFlag = true\n",
       "       $(\"#interact-js-shim\").bind(\"destroyed\", function () {\n",
       "           if (window.interactLoadedFlag) {\n",
       "               console.warn(\"JavaScript required by Interact will be removed if you remove this cell or run using Interact more than once.\")\n",
       "           }\n",
       "       })\n",
       "       $([IPython.events]).on(\"kernel_starting.Kernel kernel_restarting.Kernel\", function () { window.interactLoadedFlag = false })\n",
       "   </script>\n",
       "</div>"
      ]
     },
     "metadata": {},
     "output_type": "display_data"
    }
   ],
   "source": [
    "using Multilane\n",
    "using POMDPs\n",
    "using POMDPToolbox\n",
    "using MCTS\n",
    "using Distributions # for Normal\n",
    "using DataArrays\n",
    "using DataFrames\n",
    "using DataFramesMeta\n",
    "\n",
    "#using Interact\n",
    "using Interact\n",
    "using Reactive\n",
    "#using Records\n",
    "using AutoViz\n",
    "using AutomotiveDrivingModels\n",
    "using JLD\n",
    "#using Cairo\n",
    "#using Reel\n",
    "#using GenerativeModels"
   ]
  },
  {
   "cell_type": "code",
   "execution_count": 2,
   "metadata": {},
   "outputs": [],
   "source": [
    "#Set up problem configuration\n",
    "nb_lanes = 4\n",
    "pp = PhysicalParam(nb_lanes,lane_length=100.) #2.=>col_length=8\n",
    "_discount = 1\n",
    "nb_cars=10\n",
    "\n",
    "#rmodel = NoCrashRewardModel()\n",
    "rmodel  = NoCrashRewardModel(100.,0,2.5,4,100.,1,2500,3000)\n",
    "\n",
    "#be = standard_uniform()\n",
    "#dmodel = NoCrashIDMMOBILModel(nb_cars, pp, behaviors = be)\n",
    "dmodel = NoCrashIDMMOBILModel(nb_cars, pp)\n",
    "\n",
    "mdp = NoCrashMDP{NoCrashRewardModel}(dmodel, rmodel, _discount)\n",
    "\n",
    "rng = MersenneTwister(5);"
   ]
  },
  {
   "cell_type": "code",
   "execution_count": 3,
   "metadata": {},
   "outputs": [],
   "source": [
    "rmodel_after  = NoCrashRewardModel(100.,10.,2.5,4,0,1,2500,3000)\n",
    "\n",
    "mdp_after = NoCrashMDP{NoCrashRewardModel}(dmodel, rmodel_after, _discount);"
   ]
  },
  {
   "cell_type": "code",
   "execution_count": 4,
   "metadata": {},
   "outputs": [],
   "source": [
    "solver = DPWSolver(depth=30,\n",
    "                    exploration_constant=10.0,\n",
    "                    n_iterations=2000);"
   ]
  },
  {
   "cell_type": "code",
   "execution_count": 5,
   "metadata": {},
   "outputs": [],
   "source": [
    "planner = solve(solver, mdp);"
   ]
  },
  {
   "cell_type": "code",
   "execution_count": 6,
   "metadata": {},
   "outputs": [],
   "source": [
    "planner_after = solve(solver, mdp_after);"
   ]
  },
  {
   "cell_type": "code",
   "execution_count": 7,
   "metadata": {},
   "outputs": [
    {
     "name": "stdout",
     "output_type": "stream",
     "text": [
      "simulate done\n"
     ]
    },
    {
     "name": "stderr",
     "output_type": "stream",
     "text": [
      "WARNING: both Interact and ProgressMeter export \"Progress\"; uses of it in module Multilane must be qualified\n"
     ]
    }
   ],
   "source": [
    "is = relaxed_initial_state(mdp);"
   ]
  },
  {
   "cell_type": "code",
   "execution_count": 8,
   "metadata": {
    "scrolled": true
   },
   "outputs": [
    {
     "name": "stdout",
     "output_type": "stream",
     "text": [
      "WARNING: POMDPs.jl: Could not find or synthesize generate_sr(::MLMDP, ::MLState, ::Void, ::MersenneTwister). Either implement it directly, or, to automatically synthesize it, implement the following methods from the explicit interface:\n",
      "\n",
      "\u001b[31m  [X] transition(::MLMDP, ::MLState, ::Void)\u001b[39m\n",
      "\u001b[31m  [X] reward(::MLMDP, ::MLState, ::Void, ::MLState)\u001b[39m\n",
      "\n",
      "    \n",
      "OR implement the following methods from the generative interface:\n",
      "\n",
      "\u001b[31m  [X] generate_s(::MLMDP, ::MLState, ::Void, ::AbstractRNG)\u001b[39m\n",
      "\u001b[31m  [X] reward(::MLMDP, ::MLState, ::Void, ::MLState)\u001b[39m\n",
      "\n",
      "                     \n",
      "([✔] = already implemented correctly; [X] = missing)\n"
     ]
    }
   ],
   "source": [
    "is.x = 0;\n",
    "is.t = 0;\n",
    "steps = 200;\n",
    "sim = relaxed_initial_state_cz(mdp,is,planner,steps);"
   ]
  },
  {
   "cell_type": "code",
   "execution_count": 9,
   "metadata": {},
   "outputs": [],
   "source": [
    "is.x = 0;\n",
    "is.t = 0;\n",
    "steps = 200;\n",
    "sim_after = relaxed_initial_state_cz(mdp_after,is,planner_after,steps);"
   ]
  },
  {
   "cell_type": "code",
   "execution_count": 10,
   "metadata": {},
   "outputs": [
    {
     "data": {
      "text/plain": [
       "get_sim_t_state (generic function with 1 method)"
      ]
     },
     "execution_count": 10,
     "metadata": {},
     "output_type": "execute_result"
    }
   ],
   "source": [
    "function get_sim_t_state(t::Int)\n",
    "   s = sim.state_hist[t]\n",
    "   a = sim.action_hist[t]\n",
    "   sp = sim.state_hist[t+1]\n",
    "   idx = Nullable{Int}()\n",
    "end"
   ]
  },
  {
   "cell_type": "code",
   "execution_count": 11,
   "metadata": {},
   "outputs": [
    {
     "data": {
      "text/plain": [
       "1.519938478877524e9"
      ]
     },
     "execution_count": 11,
     "metadata": {
      "comm_id": "539f9dc0-3a95-46ab-9c4b-a794bb526a63",
      "reactive": true
     },
     "output_type": "execute_result"
    }
   ],
   "source": [
    "get_sim_t_state(70)\n",
    "pp = mdp.dmodel.phys_param\n",
    "roadway = gen_straight_roadway(pp.nb_lanes,\n",
    "                               pp.lane_length,\n",
    "                               lane_width=pp.w_lane)\n",
    "\n",
    "\n",
    "\n",
    "\n",
    "cidol = CarIDOverlay()\n",
    "cvol = CarVelOverlay()\n",
    "\n",
    "idx = Nullable{Int}()\n",
    "\n",
    "framerate = 6\n",
    "ticks = fps(framerate)\n",
    "timestamps = map(_-> time(),ticks)"
   ]
  },
  {
   "cell_type": "code",
   "execution_count": 12,
   "metadata": {},
   "outputs": [
    {
     "data": {
      "text/plain": [
       "drawsim (generic function with 1 method)"
      ]
     },
     "execution_count": 12,
     "metadata": {},
     "output_type": "execute_result"
    }
   ],
   "source": [
    "function drawsim(timet)\n",
    "    t = round(Int,rem(round(timet*framerate),steps-1)+1)\n",
    "    s = sim.state_hist[t]\n",
    "    a = sim.action_hist[t]\n",
    "    sp = sim.state_hist[t+1]\n",
    "    hbol = HardBrakeOverlay(pp, braking_ids(mdp, s, sp))\n",
    "    iol = InfoOverlay(pp, idx,\n",
    "                  s.cars[1].vel,\n",
    "                  max_braking(mdp, s, sp),\n",
    "                  is_crash(mdp, s, sp))\n",
    "    scene = Scene()\n",
    "    egox = s.x\n",
    "    for cs in s.cars\n",
    "        push!(scene, Vehicle(VehicleState(VecSE2(cs.x, (cs.y-1.0)*pp.w_lane, 0.0), roadway, cs.vel, egox),\n",
    "                                #VehicleDef(cs.id, AgentClass.CAR, pp.l_car, pp.w_car)))\n",
    "                                VehicleDef(AgentClass.CAR, pp.l_car, pp.w_car),cs.id))\n",
    "    end\n",
    "    \n",
    "    render(scene, roadway,[RampStatsOverlay(1)], cam=FitToContentCamera(),car_colors=carcolors,canvas_height=220)\n",
    "end"
   ]
  },
  {
   "cell_type": "code",
   "execution_count": 13,
   "metadata": {},
   "outputs": [
    {
     "data": {
      "text/plain": [
       "drawsim_after (generic function with 1 method)"
      ]
     },
     "execution_count": 13,
     "metadata": {},
     "output_type": "execute_result"
    }
   ],
   "source": [
    "function drawsim_after(timet)\n",
    "    t = round(Int,rem(round(timet*framerate),steps-1)+1)\n",
    "    s = sim_after.state_hist[t]\n",
    "    a = sim_after.action_hist[t]\n",
    "    sp = sim_after.state_hist[t+1]\n",
    "    hbol = HardBrakeOverlay(pp, braking_ids(mdp, s, sp))\n",
    "    iol = InfoOverlay(pp, idx,\n",
    "                  s.cars[1].vel,\n",
    "                  max_braking(mdp_after, s, sp),\n",
    "                  is_crash(mdp_after, s, sp))\n",
    "    scene = Scene()\n",
    "    egox = s.x\n",
    "    for cs in s.cars\n",
    "        push!(scene, Vehicle(VehicleState(VecSE2(cs.x, (cs.y-1.0)*pp.w_lane, 0.0), roadway, cs.vel, egox),\n",
    "                                #VehicleDef(cs.id, AgentClass.CAR, pp.l_car, pp.w_car)))\n",
    "                                VehicleDef(AgentClass.CAR, pp.l_car, pp.w_car),cs.id))\n",
    "    end\n",
    "    \n",
    "    render(scene, roadway,[RampStatsOverlay(1)], cam=FitToContentCamera(),car_colors=carcolors,canvas_height=220)\n",
    "end"
   ]
  },
  {
   "cell_type": "code",
   "execution_count": 14,
   "metadata": {},
   "outputs": [
    {
     "data": {
      "text/plain": [
       "get_round (generic function with 1 method)"
      ]
     },
     "execution_count": 14,
     "metadata": {},
     "output_type": "execute_result"
    }
   ],
   "source": [
    "function get_round(timet)\n",
    "   return (round(Int,rem(round(timet*framerate),steps))) \n",
    "end"
   ]
  },
  {
   "cell_type": "code",
   "execution_count": 15,
   "metadata": {},
   "outputs": [
    {
     "data": {
      "text/plain": [
       "78"
      ]
     },
     "execution_count": 15,
     "metadata": {
      "comm_id": "6c12b075-7820-4c47-872b-8e1b4f057ce9",
      "reactive": true
     },
     "output_type": "execute_result"
    }
   ],
   "source": [
    "map(get_round,timestamps)"
   ]
  },
  {
   "cell_type": "code",
   "execution_count": 16,
   "metadata": {},
   "outputs": [
    {
     "data": {
      "image/svg+xml": [
       "<?xml version=\"1.0\" encoding=\"UTF-8\"?>\n",
       "<!DOCTYPE svg PUBLIC \"-//W3C//DTD SVG 1.1//EN\"\n",
       " \"http://www.w3.org/Graphics/SVG/1.1/DTD/svg11.dtd\">\n",
       "<svg xmlns=\"http://www.w3.org/2000/svg\" version=\"1.1\"\n",
       "     width=\"25mm\" height=\"25mm\" viewBox=\"0 0 1 1\">\n",
       "     <rect width=\"1\" height=\"1\"\n",
       "           fill=\"#008000\" stroke=\"none\"/>\n",
       "</svg>\n"
      ],
      "text/plain": [
       "RGB{N0f8}(0.0,0.502,0.0)"
      ]
     },
     "execution_count": 16,
     "metadata": {},
     "output_type": "execute_result"
    }
   ],
   "source": [
    "carcolors = Dict{Int,Colorant}()\n",
    "carcolors[1] = colorant\"green\""
   ]
  },
  {
   "cell_type": "code",
   "execution_count": 23,
   "metadata": {
    "scrolled": true
   },
   "outputs": [
    {
     "data": {
      "image/png": "[encoded data removed]",
      "text/plain": [
       "Cairo.CairoSurface{UInt32}(Ptr{Void} @0x0000000008fa9840, 1000.0, 220.0, #undef)"
      ]
     },
     "execution_count": 23,
     "metadata": {
      "comm_id": "543d13a9-451e-4c49-91e9-6818577dc397",
      "reactive": true
     },
     "output_type": "execute_result"
    }
   ],
   "source": [
    "map(drawsim,timestamps)"
   ]
  },
  {
   "cell_type": "code",
   "execution_count": 18,
   "metadata": {
    "scrolled": true
   },
   "outputs": [
    {
     "data": {
      "image/png": "[encoded data removed]",
      "text/plain": [
       "Cairo.CairoSurface{UInt32}(Ptr{Void} @0x0000000007171b20, 1000.0, 220.0, #undef)"
      ]
     },
     "execution_count": 18,
     "metadata": {
      "comm_id": "ffdfe369-fa54-4300-a2c4-6e1ee29011a1",
      "reactive": true
     },
     "output_type": "execute_result"
    }
   ],
   "source": [
    "map(drawsim_after,timestamps)"
   ]
  },
  {
   "cell_type": "code",
   "execution_count": 19,
   "metadata": {},
   "outputs": [],
   "source": [
    "#JLD.save(\"wait_to_change1.jld\",\"sim\",sim,\"policy\",planner)"
   ]
  },
  {
   "cell_type": "code",
   "execution_count": 20,
   "metadata": {},
   "outputs": [
    {
     "data": {
      "image/png": "[encoded data removed]",
      "text/plain": [
       "PyPlot.Figure(PyObject <matplotlib.figure.Figure object at 0x7f5a876d79d0>)"
      ]
     },
     "metadata": {},
     "output_type": "display_data"
    },
    {
     "data": {
      "text/plain": [
       "1-element Array{PyCall.PyObject,1}:\n",
       " PyObject <matplotlib.lines.Line2D object at 0x7f5a87442910>"
      ]
     },
     "execution_count": 20,
     "metadata": {},
     "output_type": "execute_result"
    },
    {
     "name": "stderr",
     "output_type": "stream",
     "text": [
      "\u001b[1m\u001b[33mWARNING: \u001b[39m\u001b[22m\u001b[33mmax(x::AbstractArray{T1}, y::AbstractArray{T2}) where {T1 <: Real, T2 <: Real} is deprecated, use max.(x, y) instead.\u001b[39m\n",
      "Stacktrace:\n",
      " [1] \u001b[1mdepwarn\u001b[22m\u001b[22m\u001b[1m(\u001b[22m\u001b[22m::String, ::Symbol\u001b[1m)\u001b[22m\u001b[22m at \u001b[1m./deprecated.jl:70\u001b[22m\u001b[22m\n",
      " [2] \u001b[1mmax\u001b[22m\u001b[22m\u001b[1m(\u001b[22m\u001b[22m::Array{Float64,1}, ::Array{Float64,1}\u001b[1m)\u001b[22m\u001b[22m at \u001b[1m./deprecated.jl:57\u001b[22m\u001b[22m\n",
      " [3] \u001b[1mpoly_intersect\u001b[22m\u001b[22m\u001b[1m(\u001b[22m\u001b[22m::Array{Array{Float64,2},1}, ::Array{Array{Float64,2},1}\u001b[1m)\u001b[22m\u001b[22m at \u001b[1m/home/zhong/.julia/v0.6/Multilane/src/crash.jl:80\u001b[22m\u001b[22m\n",
      " [4] \u001b[1m#is_crash#5\u001b[22m\u001b[22m\u001b[1m(\u001b[22m\u001b[22m::Bool, ::Function, ::Multilane.MLMDP{Multilane.MLState,Multilane.MLAction,Multilane.NoCrashIDMMOBILModel,Multilane.NoCrashRewardModel}, ::Multilane.MLState, ::Multilane.MLState, ::Bool\u001b[1m)\u001b[22m\u001b[22m at \u001b[1m/home/zhong/.julia/v0.6/Multilane/src/crash.jl:199\u001b[22m\u001b[22m\n",
      " [5] \u001b[1mis_crash\u001b[22m\u001b[22m\u001b[1m(\u001b[22m\u001b[22m::Multilane.MLMDP{Multilane.MLState,Multilane.MLAction,Multilane.NoCrashIDMMOBILModel,Multilane.NoCrashRewardModel}, ::Multilane.MLState, ::Multilane.MLState\u001b[1m)\u001b[22m\u001b[22m at \u001b[1m/home/zhong/.julia/v0.6/Multilane/src/crash.jl:120\u001b[22m\u001b[22m\n",
      " [6] \u001b[1mdrawsim\u001b[22m\u001b[22m\u001b[1m(\u001b[22m\u001b[22m::Float64\u001b[1m)\u001b[22m\u001b[22m at \u001b[1m./In[12]:7\u001b[22m\u001b[22m\n",
      " [7] \u001b[1m(::Reactive.##33#34{#drawsim,Reactive.Signal{Cairo.CairoSurface{UInt32}},Tuple{Reactive.Signal{Float64}}})\u001b[22m\u001b[22m\u001b[1m(\u001b[22m\u001b[22m\u001b[1m)\u001b[22m\u001b[22m at \u001b[1m/home/zhong/.julia/v0.6/Reactive/src/operators.jl:39\u001b[22m\u001b[22m\n",
      " [8] \u001b[1mforeach\u001b[22m\u001b[22m\u001b[1m(\u001b[22m\u001b[22m::Reactive.#runaction, ::Array{Function,1}\u001b[1m)\u001b[22m\u001b[22m at \u001b[1m./abstractarray.jl:1733\u001b[22m\u001b[22m\n",
      " [9] \u001b[1mrun_node\u001b[22m\u001b[22m\u001b[1m(\u001b[22m\u001b[22m::Reactive.Signal{Cairo.CairoSurface{UInt32}}\u001b[1m)\u001b[22m\u001b[22m at \u001b[1m/home/zhong/.julia/v0.6/Reactive/src/core.jl:312\u001b[22m\u001b[22m\n",
      " [10] \u001b[1mrun_push\u001b[22m\u001b[22m\u001b[1m(\u001b[22m\u001b[22m::Reactive.Signal{Float64}, ::Float64, ::Reactive.#print_error, ::Bool\u001b[1m)\u001b[22m\u001b[22m at \u001b[1m/home/zhong/.julia/v0.6/Reactive/src/core.jl:330\u001b[22m\u001b[22m\n",
      " [11] \u001b[1mrun_push\u001b[22m\u001b[22m\u001b[1m(\u001b[22m\u001b[22m::Reactive.Signal{Float64}, ::Float64, ::Function\u001b[1m)\u001b[22m\u001b[22m at \u001b[1m/home/zhong/.julia/v0.6/Reactive/src/core.jl:317\u001b[22m\u001b[22m\n",
      " [12] \u001b[1mrun\u001b[22m\u001b[22m\u001b[1m(\u001b[22m\u001b[22m::Int64\u001b[1m)\u001b[22m\u001b[22m at \u001b[1m/home/zhong/.julia/v0.6/Reactive/src/core.jl:277\u001b[22m\u001b[22m\n",
      " [13] \u001b[1m(::Reactive.##27#29)\u001b[22m\u001b[22m\u001b[1m(\u001b[22m\u001b[22m\u001b[1m)\u001b[22m\u001b[22m at \u001b[1m./task.jl:335\u001b[22m\u001b[22m\n",
      "while loading /home/zhong/.julia/v0.6/IJulia/src/kernel.jl, in expression starting on line 31\n",
      "\u001b[1m\u001b[33mWARNING: \u001b[39m\u001b[22m\u001b[33mmin(x::AbstractArray{T1}, y::AbstractArray{T2}) where {T1 <: Real, T2 <: Real} is deprecated, use min.(x, y) instead.\u001b[39m\n",
      "Stacktrace:\n",
      " [1] \u001b[1mdepwarn\u001b[22m\u001b[22m\u001b[1m(\u001b[22m\u001b[22m::String, ::Symbol\u001b[1m)\u001b[22m\u001b[22m at \u001b[1m./deprecated.jl:70\u001b[22m\u001b[22m\n",
      " [2] \u001b[1mmin\u001b[22m\u001b[22m\u001b[1m(\u001b[22m\u001b[22m::Array{Float64,1}, ::Array{Float64,1}\u001b[1m)\u001b[22m\u001b[22m at \u001b[1m./deprecated.jl:57\u001b[22m\u001b[22m\n",
      " [3] \u001b[1mpoly_intersect\u001b[22m\u001b[22m\u001b[1m(\u001b[22m\u001b[22m::Array{Array{Float64,2},1}, ::Array{Array{Float64,2},1}\u001b[1m)\u001b[22m\u001b[22m at \u001b[1m/home/zhong/.julia/v0.6/Multilane/src/crash.jl:81\u001b[22m\u001b[22m\n",
      " [4] \u001b[1m#is_crash#5\u001b[22m\u001b[22m\u001b[1m(\u001b[22m\u001b[22m::Bool, ::Function, ::Multilane.MLMDP{Multilane.MLState,Multilane.MLAction,Multilane.NoCrashIDMMOBILModel,Multilane.NoCrashRewardModel}, ::Multilane.MLState, ::Multilane.MLState, ::Bool\u001b[1m)\u001b[22m\u001b[22m at \u001b[1m/home/zhong/.julia/v0.6/Multilane/src/crash.jl:199\u001b[22m\u001b[22m\n",
      " [5] \u001b[1mis_crash\u001b[22m\u001b[22m\u001b[1m(\u001b[22m\u001b[22m::Multilane.MLMDP{Multilane.MLState,Multilane.MLAction,Multilane.NoCrashIDMMOBILModel,Multilane.NoCrashRewardModel}, ::Multilane.MLState, ::Multilane.MLState\u001b[1m)\u001b[22m\u001b[22m at \u001b[1m/home/zhong/.julia/v0.6/Multilane/src/crash.jl:120\u001b[22m\u001b[22m\n",
      " [6] \u001b[1mdrawsim\u001b[22m\u001b[22m\u001b[1m(\u001b[22m\u001b[22m::Float64\u001b[1m)\u001b[22m\u001b[22m at \u001b[1m./In[12]:7\u001b[22m\u001b[22m\n",
      " [7] \u001b[1m(::Reactive.##33#34{#drawsim,Reactive.Signal{Cairo.CairoSurface{UInt32}},Tuple{Reactive.Signal{Float64}}})\u001b[22m\u001b[22m\u001b[1m(\u001b[22m\u001b[22m\u001b[1m)\u001b[22m\u001b[22m at \u001b[1m/home/zhong/.julia/v0.6/Reactive/src/operators.jl:39\u001b[22m\u001b[22m\n",
      " [8] \u001b[1mforeach\u001b[22m\u001b[22m\u001b[1m(\u001b[22m\u001b[22m::Reactive.#runaction, ::Array{Function,1}\u001b[1m)\u001b[22m\u001b[22m at \u001b[1m./abstractarray.jl:1733\u001b[22m\u001b[22m\n",
      " [9] \u001b[1mrun_node\u001b[22m\u001b[22m\u001b[1m(\u001b[22m\u001b[22m::Reactive.Signal{Cairo.CairoSurface{UInt32}}\u001b[1m)\u001b[22m\u001b[22m at \u001b[1m/home/zhong/.julia/v0.6/Reactive/src/core.jl:312\u001b[22m\u001b[22m\n",
      " [10] \u001b[1mrun_push\u001b[22m\u001b[22m\u001b[1m(\u001b[22m\u001b[22m::Reactive.Signal{Float64}, ::Float64, ::Reactive.#print_error, ::Bool\u001b[1m)\u001b[22m\u001b[22m at \u001b[1m/home/zhong/.julia/v0.6/Reactive/src/core.jl:330\u001b[22m\u001b[22m\n",
      " [11] \u001b[1mrun_push\u001b[22m\u001b[22m\u001b[1m(\u001b[22m\u001b[22m::Reactive.Signal{Float64}, ::Float64, ::Function\u001b[1m)\u001b[22m\u001b[22m at \u001b[1m/home/zhong/.julia/v0.6/Reactive/src/core.jl:317\u001b[22m\u001b[22m\n",
      " [12] \u001b[1mrun\u001b[22m\u001b[22m\u001b[1m(\u001b[22m\u001b[22m::Int64\u001b[1m)\u001b[22m\u001b[22m at \u001b[1m/home/zhong/.julia/v0.6/Reactive/src/core.jl:277\u001b[22m\u001b[22m\n",
      " [13] \u001b[1m(::Reactive.##27#29)\u001b[22m\u001b[22m\u001b[1m(\u001b[22m\u001b[22m\u001b[1m)\u001b[22m\u001b[22m at \u001b[1m./task.jl:335\u001b[22m\u001b[22m\n",
      "while loading /home/zhong/.julia/v0.6/IJulia/src/kernel.jl, in expression starting on line 31\n",
      "\u001b[1m\u001b[33mWARNING: \u001b[39m\u001b[22m\u001b[33mmax(x::AbstractArray{T1}, y::AbstractArray{T2}) where {T1 <: Real, T2 <: Real} is deprecated, use max.(x, y) instead.\u001b[39m\n",
      "Stacktrace:\n",
      " [1] \u001b[1mdepwarn\u001b[22m\u001b[22m\u001b[1m(\u001b[22m\u001b[22m::String, ::Symbol\u001b[1m)\u001b[22m\u001b[22m at \u001b[1m./deprecated.jl:70\u001b[22m\u001b[22m\n",
      " [2] \u001b[1mmax\u001b[22m\u001b[22m\u001b[1m(\u001b[22m\u001b[22m::Array{Float64,1}, ::Array{Float64,1}\u001b[1m)\u001b[22m\u001b[22m at \u001b[1m./deprecated.jl:57\u001b[22m\u001b[22m\n",
      " [3] \u001b[1mpoly_intersect\u001b[22m\u001b[22m\u001b[1m(\u001b[22m\u001b[22m::Array{Array{Float64,2},1}, ::Array{Array{Float64,2},1}\u001b[1m)\u001b[22m\u001b[22m at \u001b[1m/home/zhong/.julia/v0.6/Multilane/src/crash.jl:82\u001b[22m\u001b[22m\n",
      " [4] \u001b[1m#is_crash#5\u001b[22m\u001b[22m\u001b[1m(\u001b[22m\u001b[22m::Bool, ::Function, ::Multilane.MLMDP{Multilane.MLState,Multilane.MLAction,Multilane.NoCrashIDMMOBILModel,Multilane.NoCrashRewardModel}, ::Multilane.MLState, ::Multilane.MLState, ::Bool\u001b[1m)\u001b[22m\u001b[22m at \u001b[1m/home/zhong/.julia/v0.6/Multilane/src/crash.jl:199\u001b[22m\u001b[22m\n",
      " [5] \u001b[1mis_crash\u001b[22m\u001b[22m\u001b[1m(\u001b[22m\u001b[22m::Multilane.MLMDP{Multilane.MLState,Multilane.MLAction,Multilane.NoCrashIDMMOBILModel,Multilane.NoCrashRewardModel}, ::Multilane.MLState, ::Multilane.MLState\u001b[1m)\u001b[22m\u001b[22m at \u001b[1m/home/zhong/.julia/v0.6/Multilane/src/crash.jl:120\u001b[22m\u001b[22m\n",
      " [6] \u001b[1mdrawsim\u001b[22m\u001b[22m\u001b[1m(\u001b[22m\u001b[22m::Float64\u001b[1m)\u001b[22m\u001b[22m at \u001b[1m./In[12]:7\u001b[22m\u001b[22m\n",
      " [7] \u001b[1m(::Reactive.##33#34{#drawsim,Reactive.Signal{Cairo.CairoSurface{UInt32}},Tuple{Reactive.Signal{Float64}}})\u001b[22m\u001b[22m\u001b[1m(\u001b[22m\u001b[22m\u001b[1m)\u001b[22m\u001b[22m at \u001b[1m/home/zhong/.julia/v0.6/Reactive/src/operators.jl:39\u001b[22m\u001b[22m\n",
      " [8] \u001b[1mforeach\u001b[22m\u001b[22m\u001b[1m(\u001b[22m\u001b[22m::Reactive.#runaction, ::Array{Function,1}\u001b[1m)\u001b[22m\u001b[22m at \u001b[1m./abstractarray.jl:1733\u001b[22m\u001b[22m\n",
      " [9] \u001b[1mrun_node\u001b[22m\u001b[22m\u001b[1m(\u001b[22m\u001b[22m::Reactive.Signal{Cairo.CairoSurface{UInt32}}\u001b[1m)\u001b[22m\u001b[22m at \u001b[1m/home/zhong/.julia/v0.6/Reactive/src/core.jl:312\u001b[22m\u001b[22m\n",
      " [10] \u001b[1mrun_push\u001b[22m\u001b[22m\u001b[1m(\u001b[22m\u001b[22m::Reactive.Signal{Float64}, ::Float64, ::Reactive.#print_error, ::Bool\u001b[1m)\u001b[22m\u001b[22m at \u001b[1m/home/zhong/.julia/v0.6/Reactive/src/core.jl:330\u001b[22m\u001b[22m\n",
      " [11] \u001b[1mrun_push\u001b[22m\u001b[22m\u001b[1m(\u001b[22m\u001b[22m::Reactive.Signal{Float64}, ::Float64, ::Function\u001b[1m)\u001b[22m\u001b[22m at \u001b[1m/home/zhong/.julia/v0.6/Reactive/src/core.jl:317\u001b[22m\u001b[22m\n",
      " [12] \u001b[1mrun\u001b[22m\u001b[22m\u001b[1m(\u001b[22m\u001b[22m::Int64\u001b[1m)\u001b[22m\u001b[22m at \u001b[1m/home/zhong/.julia/v0.6/Reactive/src/core.jl:277\u001b[22m\u001b[22m\n",
      " [13] \u001b[1m(::Reactive.##27#29)\u001b[22m\u001b[22m\u001b[1m(\u001b[22m\u001b[22m\u001b[1m)\u001b[22m\u001b[22m at \u001b[1m./task.jl:335\u001b[22m\u001b[22m\n",
      "while loading /home/zhong/.julia/v0.6/IJulia/src/kernel.jl, in expression starting on line 31\n",
      "\u001b[1m\u001b[33mWARNING: \u001b[39m\u001b[22m\u001b[33mmin(x::AbstractArray{T1}, y::AbstractArray{T2}) where {T1 <: Real, T2 <: Real} is deprecated, use min.(x, y) instead.\u001b[39m\n",
      "Stacktrace:\n",
      " [1] \u001b[1mdepwarn\u001b[22m\u001b[22m\u001b[1m(\u001b[22m\u001b[22m::String, ::Symbol\u001b[1m)\u001b[22m\u001b[22m at \u001b[1m./deprecated.jl:70\u001b[22m\u001b[22m\n",
      " [2] \u001b[1mmin\u001b[22m\u001b[22m\u001b[1m(\u001b[22m\u001b[22m::Array{Float64,1}, ::Array{Float64,1}\u001b[1m)\u001b[22m\u001b[22m at \u001b[1m./deprecated.jl:57\u001b[22m\u001b[22m\n",
      " [3] \u001b[1mpoly_intersect\u001b[22m\u001b[22m\u001b[1m(\u001b[22m\u001b[22m::Array{Array{Float64,2},1}, ::Array{Array{Float64,2},1}\u001b[1m)\u001b[22m\u001b[22m at \u001b[1m/home/zhong/.julia/v0.6/Multilane/src/crash.jl:83\u001b[22m\u001b[22m\n",
      " [4] \u001b[1m#is_crash#5\u001b[22m\u001b[22m\u001b[1m(\u001b[22m\u001b[22m::Bool, ::Function, ::Multilane.MLMDP{Multilane.MLState,Multilane.MLAction,Multilane.NoCrashIDMMOBILModel,Multilane.NoCrashRewardModel}, ::Multilane.MLState, ::Multilane.MLState, ::Bool\u001b[1m)\u001b[22m\u001b[22m at \u001b[1m/home/zhong/.julia/v0.6/Multilane/src/crash.jl:199\u001b[22m\u001b[22m\n",
      " [5] \u001b[1mis_crash\u001b[22m\u001b[22m\u001b[1m(\u001b[22m\u001b[22m::Multilane.MLMDP{Multilane.MLState,Multilane.MLAction,Multilane.NoCrashIDMMOBILModel,Multilane.NoCrashRewardModel}, ::Multilane.MLState, ::Multilane.MLState\u001b[1m)\u001b[22m\u001b[22m at \u001b[1m/home/zhong/.julia/v0.6/Multilane/src/crash.jl:120\u001b[22m\u001b[22m\n",
      " [6] \u001b[1mdrawsim\u001b[22m\u001b[22m\u001b[1m(\u001b[22m\u001b[22m::Float64\u001b[1m)\u001b[22m\u001b[22m at \u001b[1m./In[12]:7\u001b[22m\u001b[22m\n",
      " [7] \u001b[1m(::Reactive.##33#34{#drawsim,Reactive.Signal{Cairo.CairoSurface{UInt32}},Tuple{Reactive.Signal{Float64}}})\u001b[22m\u001b[22m\u001b[1m(\u001b[22m\u001b[22m\u001b[1m)\u001b[22m\u001b[22m at \u001b[1m/home/zhong/.julia/v0.6/Reactive/src/operators.jl:39\u001b[22m\u001b[22m\n",
      " [8] \u001b[1mforeach\u001b[22m\u001b[22m\u001b[1m(\u001b[22m\u001b[22m::Reactive.#runaction, ::Array{Function,1}\u001b[1m)\u001b[22m\u001b[22m at \u001b[1m./abstractarray.jl:1733\u001b[22m\u001b[22m\n",
      " [9] \u001b[1mrun_node\u001b[22m\u001b[22m\u001b[1m(\u001b[22m\u001b[22m::Reactive.Signal{Cairo.CairoSurface{UInt32}}\u001b[1m)\u001b[22m\u001b[22m at \u001b[1m/home/zhong/.julia/v0.6/Reactive/src/core.jl:312\u001b[22m\u001b[22m\n",
      " [10] \u001b[1mrun_push\u001b[22m\u001b[22m\u001b[1m(\u001b[22m\u001b[22m::Reactive.Signal{Float64}, ::Float64, ::Reactive.#print_error, ::Bool\u001b[1m)\u001b[22m\u001b[22m at \u001b[1m/home/zhong/.julia/v0.6/Reactive/src/core.jl:330\u001b[22m\u001b[22m\n",
      " [11] \u001b[1mrun_push\u001b[22m\u001b[22m\u001b[1m(\u001b[22m\u001b[22m::Reactive.Signal{Float64}, ::Float64, ::Function\u001b[1m)\u001b[22m\u001b[22m at \u001b[1m/home/zhong/.julia/v0.6/Reactive/src/core.jl:317\u001b[22m\u001b[22m\n",
      " [12] \u001b[1mrun\u001b[22m\u001b[22m\u001b[1m(\u001b[22m\u001b[22m::Int64\u001b[1m)\u001b[22m\u001b[22m at \u001b[1m/home/zhong/.julia/v0.6/Reactive/src/core.jl:277\u001b[22m\u001b[22m\n",
      " [13] \u001b[1m(::Reactive.##27#29)\u001b[22m\u001b[22m\u001b[1m(\u001b[22m\u001b[22m\u001b[1m)\u001b[22m\u001b[22m at \u001b[1m./task.jl:335\u001b[22m\u001b[22m\n",
      "while loading /home/zhong/.julia/v0.6/IJulia/src/kernel.jl, in expression starting on line 31\n",
      "\u001b[1m\u001b[33mWARNING: \u001b[39m\u001b[22m\u001b[33mmax(x::AbstractArray{T1}, y::AbstractArray{T2}) where {T1 <: Real, T2 <: Real} is deprecated, use max.(x, y) instead.\u001b[39m\n",
      "Stacktrace:\n",
      " [1] \u001b[1mdepwarn\u001b[22m\u001b[22m\u001b[1m(\u001b[22m\u001b[22m::String, ::Symbol\u001b[1m)\u001b[22m\u001b[22m at \u001b[1m./deprecated.jl:70\u001b[22m\u001b[22m\n",
      " [2] \u001b[1mmax\u001b[22m\u001b[22m\u001b[1m(\u001b[22m\u001b[22m::Array{Float64,1}, ::Array{Float64,1}\u001b[1m)\u001b[22m\u001b[22m at \u001b[1m./deprecated.jl:57\u001b[22m\u001b[22m\n",
      " [3] \u001b[1mpoly_intersect\u001b[22m\u001b[22m\u001b[1m(\u001b[22m\u001b[22m::Array{Array{Float64,2},1}, ::Array{Array{Float64,2},1}\u001b[1m)\u001b[22m\u001b[22m at \u001b[1m/home/zhong/.julia/v0.6/Multilane/src/crash.jl:85\u001b[22m\u001b[22m\n",
      " [4] \u001b[1m#is_crash#5\u001b[22m\u001b[22m\u001b[1m(\u001b[22m\u001b[22m::Bool, ::Function, ::Multilane.MLMDP{Multilane.MLState,Multilane.MLAction,Multilane.NoCrashIDMMOBILModel,Multilane.NoCrashRewardModel}, ::Multilane.MLState, ::Multilane.MLState, ::Bool\u001b[1m)\u001b[22m\u001b[22m at \u001b[1m/home/zhong/.julia/v0.6/Multilane/src/crash.jl:199\u001b[22m\u001b[22m\n",
      " [5] \u001b[1mis_crash\u001b[22m\u001b[22m\u001b[1m(\u001b[22m\u001b[22m::Multilane.MLMDP{Multilane.MLState,Multilane.MLAction,Multilane.NoCrashIDMMOBILModel,Multilane.NoCrashRewardModel}, ::Multilane.MLState, ::Multilane.MLState\u001b[1m)\u001b[22m\u001b[22m at \u001b[1m/home/zhong/.julia/v0.6/Multilane/src/crash.jl:120\u001b[22m\u001b[22m\n",
      " [6] \u001b[1mdrawsim\u001b[22m\u001b[22m\u001b[1m(\u001b[22m\u001b[22m::Float64\u001b[1m)\u001b[22m\u001b[22m at \u001b[1m./In[12]:7\u001b[22m\u001b[22m\n",
      " [7] \u001b[1m(::Reactive.##33#34{#drawsim,Reactive.Signal{Cairo.CairoSurface{UInt32}},Tuple{Reactive.Signal{Float64}}})\u001b[22m\u001b[22m\u001b[1m(\u001b[22m\u001b[22m\u001b[1m)\u001b[22m\u001b[22m at \u001b[1m/home/zhong/.julia/v0.6/Reactive/src/operators.jl:39\u001b[22m\u001b[22m\n",
      " [8] \u001b[1mforeach\u001b[22m\u001b[22m\u001b[1m(\u001b[22m\u001b[22m::Reactive.#runaction, ::Array{Function,1}\u001b[1m)\u001b[22m\u001b[22m at \u001b[1m./abstractarray.jl:1733\u001b[22m\u001b[22m\n",
      " [9] \u001b[1mrun_node\u001b[22m\u001b[22m\u001b[1m(\u001b[22m\u001b[22m::Reactive.Signal{Cairo.CairoSurface{UInt32}}\u001b[1m)\u001b[22m\u001b[22m at \u001b[1m/home/zhong/.julia/v0.6/Reactive/src/core.jl:312\u001b[22m\u001b[22m\n",
      " [10] \u001b[1mrun_push\u001b[22m\u001b[22m\u001b[1m(\u001b[22m\u001b[22m::Reactive.Signal{Float64}, ::Float64, ::Reactive.#print_error, ::Bool\u001b[1m)\u001b[22m\u001b[22m at \u001b[1m/home/zhong/.julia/v0.6/Reactive/src/core.jl:330\u001b[22m\u001b[22m\n",
      " [11] \u001b[1mrun_push\u001b[22m\u001b[22m\u001b[1m(\u001b[22m\u001b[22m::Reactive.Signal{Float64}, ::Float64, ::Function\u001b[1m)\u001b[22m\u001b[22m at \u001b[1m/home/zhong/.julia/v0.6/Reactive/src/core.jl:317\u001b[22m\u001b[22m\n",
      " [12] \u001b[1mrun\u001b[22m\u001b[22m\u001b[1m(\u001b[22m\u001b[22m::Int64\u001b[1m)\u001b[22m\u001b[22m at \u001b[1m/home/zhong/.julia/v0.6/Reactive/src/core.jl:277\u001b[22m\u001b[22m\n",
      " [13] \u001b[1m(::Reactive.##27#29)\u001b[22m\u001b[22m\u001b[1m(\u001b[22m\u001b[22m\u001b[1m)\u001b[22m\u001b[22m at \u001b[1m./task.jl:335\u001b[22m\u001b[22m\n",
      "while loading /home/zhong/.julia/v0.6/IJulia/src/kernel.jl, in expression starting on line 31\n",
      "\u001b[1m\u001b[33mWARNING: \u001b[39m\u001b[22m\u001b[33mmin(x::AbstractArray{T1}, y::AbstractArray{T2}) where {T1 <: Real, T2 <: Real} is deprecated, use min.(x, y) instead.\u001b[39m\n",
      "Stacktrace:\n",
      " [1] \u001b[1mdepwarn\u001b[22m\u001b[22m\u001b[1m(\u001b[22m\u001b[22m::String, ::Symbol\u001b[1m)\u001b[22m\u001b[22m at \u001b[1m./deprecated.jl:70\u001b[22m\u001b[22m\n",
      " [2] \u001b[1mmin\u001b[22m\u001b[22m\u001b[1m(\u001b[22m\u001b[22m::Array{Float64,1}, ::Array{Float64,1}\u001b[1m)\u001b[22m\u001b[22m at \u001b[1m./deprecated.jl:57\u001b[22m\u001b[22m\n",
      " [3] \u001b[1mpoly_intersect\u001b[22m\u001b[22m\u001b[1m(\u001b[22m\u001b[22m::Array{Array{Float64,2},1}, ::Array{Array{Float64,2},1}\u001b[1m)\u001b[22m\u001b[22m at \u001b[1m/home/zhong/.julia/v0.6/Multilane/src/crash.jl:86\u001b[22m\u001b[22m\n",
      " [4] \u001b[1m#is_crash#5\u001b[22m\u001b[22m\u001b[1m(\u001b[22m\u001b[22m::Bool, ::Function, ::Multilane.MLMDP{Multilane.MLState,Multilane.MLAction,Multilane.NoCrashIDMMOBILModel,Multilane.NoCrashRewardModel}, ::Multilane.MLState, ::Multilane.MLState, ::Bool\u001b[1m)\u001b[22m\u001b[22m at \u001b[1m/home/zhong/.julia/v0.6/Multilane/src/crash.jl:199\u001b[22m\u001b[22m\n",
      " [5] \u001b[1mis_crash\u001b[22m\u001b[22m\u001b[1m(\u001b[22m\u001b[22m::Multilane.MLMDP{Multilane.MLState,Multilane.MLAction,Multilane.NoCrashIDMMOBILModel,Multilane.NoCrashRewardModel}, ::Multilane.MLState, ::Multilane.MLState\u001b[1m)\u001b[22m\u001b[22m at \u001b[1m/home/zhong/.julia/v0.6/Multilane/src/crash.jl:120\u001b[22m\u001b[22m\n",
      " [6] \u001b[1mdrawsim\u001b[22m\u001b[22m\u001b[1m(\u001b[22m\u001b[22m::Float64\u001b[1m)\u001b[22m\u001b[22m at \u001b[1m./In[12]:7\u001b[22m\u001b[22m\n",
      " [7] \u001b[1m(::Reactive.##33#34{#drawsim,Reactive.Signal{Cairo.CairoSurface{UInt32}},Tuple{Reactive.Signal{Float64}}})\u001b[22m\u001b[22m\u001b[1m(\u001b[22m\u001b[22m\u001b[1m)\u001b[22m\u001b[22m at \u001b[1m/home/zhong/.julia/v0.6/Reactive/src/operators.jl:39\u001b[22m\u001b[22m\n",
      " [8] \u001b[1mforeach\u001b[22m\u001b[22m\u001b[1m(\u001b[22m\u001b[22m::Reactive.#runaction, ::Array{Function,1}\u001b[1m)\u001b[22m\u001b[22m at \u001b[1m./abstractarray.jl:1733\u001b[22m\u001b[22m\n",
      " [9] \u001b[1mrun_node\u001b[22m\u001b[22m\u001b[1m(\u001b[22m\u001b[22m::Reactive.Signal{Cairo.CairoSurface{UInt32}}\u001b[1m)\u001b[22m\u001b[22m at \u001b[1m/home/zhong/.julia/v0.6/Reactive/src/core.jl:312\u001b[22m\u001b[22m\n",
      " [10] \u001b[1mrun_push\u001b[22m\u001b[22m\u001b[1m(\u001b[22m\u001b[22m::Reactive.Signal{Float64}, ::Float64, ::Reactive.#print_error, ::Bool\u001b[1m)\u001b[22m\u001b[22m at \u001b[1m/home/zhong/.julia/v0.6/Reactive/src/core.jl:330\u001b[22m\u001b[22m\n",
      " [11] \u001b[1mrun_push\u001b[22m\u001b[22m\u001b[1m(\u001b[22m\u001b[22m::Reactive.Signal{Float64}, ::Float64, ::Function\u001b[1m)\u001b[22m\u001b[22m at \u001b[1m/home/zhong/.julia/v0.6/Reactive/src/core.jl:317\u001b[22m\u001b[22m\n",
      " [12] \u001b[1mrun\u001b[22m\u001b[22m\u001b[1m(\u001b[22m\u001b[22m::Int64\u001b[1m)\u001b[22m\u001b[22m at \u001b[1m/home/zhong/.julia/v0.6/Reactive/src/core.jl:277\u001b[22m\u001b[22m\n",
      " [13] \u001b[1m(::Reactive.##27#29)\u001b[22m\u001b[22m\u001b[1m(\u001b[22m\u001b[22m\u001b[1m)\u001b[22m\u001b[22m at \u001b[1m./task.jl:335\u001b[22m\u001b[22m\n",
      "while loading /home/zhong/.julia/v0.6/IJulia/src/kernel.jl, in expression starting on line 31\n",
      "\u001b[1m\u001b[33mWARNING: \u001b[39m\u001b[22m\u001b[33mmax(x::AbstractArray{T1}, y::AbstractArray{T2}) where {T1 <: Real, T2 <: Real} is deprecated, use max.(x, y) instead.\u001b[39m\n",
      "Stacktrace:\n",
      " [1] \u001b[1mdepwarn\u001b[22m\u001b[22m\u001b[1m(\u001b[22m\u001b[22m::String, ::Symbol\u001b[1m)\u001b[22m\u001b[22m at \u001b[1m./deprecated.jl:70\u001b[22m\u001b[22m\n",
      " [2] \u001b[1mmax\u001b[22m\u001b[22m\u001b[1m(\u001b[22m\u001b[22m::Array{Float64,1}, ::Array{Float64,1}\u001b[1m)\u001b[22m\u001b[22m at \u001b[1m./deprecated.jl:57\u001b[22m\u001b[22m\n",
      " [3] \u001b[1mpoly_intersect\u001b[22m\u001b[22m\u001b[1m(\u001b[22m\u001b[22m::Array{Array{Float64,2},1}, ::Array{Array{Float64,2},1}\u001b[1m)\u001b[22m\u001b[22m at \u001b[1m/home/zhong/.julia/v0.6/Multilane/src/crash.jl:89\u001b[22m\u001b[22m\n",
      " [4] \u001b[1m#is_crash#5\u001b[22m\u001b[22m\u001b[1m(\u001b[22m\u001b[22m::Bool, ::Function, ::Multilane.MLMDP{Multilane.MLState,Multilane.MLAction,Multilane.NoCrashIDMMOBILModel,Multilane.NoCrashRewardModel}, ::Multilane.MLState, ::Multilane.MLState, ::Bool\u001b[1m)\u001b[22m\u001b[22m at \u001b[1m/home/zhong/.julia/v0.6/Multilane/src/crash.jl:199\u001b[22m\u001b[22m\n",
      " [5] \u001b[1mis_crash\u001b[22m\u001b[22m\u001b[1m(\u001b[22m\u001b[22m::Multilane.MLMDP{Multilane.MLState,Multilane.MLAction,Multilane.NoCrashIDMMOBILModel,Multilane.NoCrashRewardModel}, ::Multilane.MLState, ::Multilane.MLState\u001b[1m)\u001b[22m\u001b[22m at \u001b[1m/home/zhong/.julia/v0.6/Multilane/src/crash.jl:120\u001b[22m\u001b[22m\n",
      " [6] \u001b[1mdrawsim\u001b[22m\u001b[22m\u001b[1m(\u001b[22m\u001b[22m::Float64\u001b[1m)\u001b[22m\u001b[22m at \u001b[1m./In[12]:7\u001b[22m\u001b[22m\n",
      " [7] \u001b[1m(::Reactive.##33#34{#drawsim,Reactive.Signal{Cairo.CairoSurface{UInt32}},Tuple{Reactive.Signal{Float64}}})\u001b[22m\u001b[22m\u001b[1m(\u001b[22m\u001b[22m\u001b[1m)\u001b[22m\u001b[22m at \u001b[1m/home/zhong/.julia/v0.6/Reactive/src/operators.jl:39\u001b[22m\u001b[22m\n",
      " [8] \u001b[1mforeach\u001b[22m\u001b[22m\u001b[1m(\u001b[22m\u001b[22m::Reactive.#runaction, ::Array{Function,1}\u001b[1m)\u001b[22m\u001b[22m at \u001b[1m./abstractarray.jl:1733\u001b[22m\u001b[22m\n",
      " [9] \u001b[1mrun_node\u001b[22m\u001b[22m\u001b[1m(\u001b[22m\u001b[22m::Reactive.Signal{Cairo.CairoSurface{UInt32}}\u001b[1m)\u001b[22m\u001b[22m at \u001b[1m/home/zhong/.julia/v0.6/Reactive/src/core.jl:312\u001b[22m\u001b[22m\n",
      " [10] \u001b[1mrun_push\u001b[22m\u001b[22m\u001b[1m(\u001b[22m\u001b[22m::Reactive.Signal{Float64}, ::Float64, ::Reactive.#print_error, ::Bool\u001b[1m)\u001b[22m\u001b[22m at \u001b[1m/home/zhong/.julia/v0.6/Reactive/src/core.jl:330\u001b[22m\u001b[22m\n",
      " [11] \u001b[1mrun_push\u001b[22m\u001b[22m\u001b[1m(\u001b[22m\u001b[22m::Reactive.Signal{Float64}, ::Float64, ::Function\u001b[1m)\u001b[22m\u001b[22m at \u001b[1m/home/zhong/.julia/v0.6/Reactive/src/core.jl:317\u001b[22m\u001b[22m\n",
      " [12] \u001b[1mrun\u001b[22m\u001b[22m\u001b[1m(\u001b[22m\u001b[22m::Int64\u001b[1m)\u001b[22m\u001b[22m at \u001b[1m/home/zhong/.julia/v0.6/Reactive/src/core.jl:277\u001b[22m\u001b[22m\n",
      " [13] \u001b[1m(::Reactive.##27#29)\u001b[22m\u001b[22m\u001b[1m(\u001b[22m\u001b[22m\u001b[1m)\u001b[22m\u001b[22m at \u001b[1m./task.jl:335\u001b[22m\u001b[22m\n",
      "while loading /home/zhong/.julia/v0.6/IJulia/src/kernel.jl, in expression starting on line 31\n",
      "\u001b[1m\u001b[33mWARNING: \u001b[39m\u001b[22m\u001b[33mmin(x::AbstractArray{T1}, y::AbstractArray{T2}) where {T1 <: Real, T2 <: Real} is deprecated, use min.(x, y) instead.\u001b[39m\n",
      "Stacktrace:\n",
      " [1] \u001b[1mdepwarn\u001b[22m\u001b[22m\u001b[1m(\u001b[22m\u001b[22m::String, ::Symbol\u001b[1m)\u001b[22m\u001b[22m at \u001b[1m./deprecated.jl:70\u001b[22m\u001b[22m\n",
      " [2] \u001b[1mmin\u001b[22m\u001b[22m\u001b[1m(\u001b[22m\u001b[22m::Array{Float64,1}, ::Array{Float64,1}\u001b[1m)\u001b[22m\u001b[22m at \u001b[1m./deprecated.jl:57\u001b[22m\u001b[22m\n",
      " [3] \u001b[1mpoly_intersect\u001b[22m\u001b[22m\u001b[1m(\u001b[22m\u001b[22m::Array{Array{Float64,2},1}, ::Array{Array{Float64,2},1}\u001b[1m)\u001b[22m\u001b[22m at \u001b[1m/home/zhong/.julia/v0.6/Multilane/src/crash.jl:90\u001b[22m\u001b[22m\n",
      " [4] \u001b[1m#is_crash#5\u001b[22m\u001b[22m\u001b[1m(\u001b[22m\u001b[22m::Bool, ::Function, ::Multilane.MLMDP{Multilane.MLState,Multilane.MLAction,Multilane.NoCrashIDMMOBILModel,Multilane.NoCrashRewardModel}, ::Multilane.MLState, ::Multilane.MLState, ::Bool\u001b[1m)\u001b[22m\u001b[22m at \u001b[1m/home/zhong/.julia/v0.6/Multilane/src/crash.jl:199\u001b[22m\u001b[22m\n",
      " [5] \u001b[1mis_crash\u001b[22m\u001b[22m\u001b[1m(\u001b[22m\u001b[22m::Multilane.MLMDP{Multilane.MLState,Multilane.MLAction,Multilane.NoCrashIDMMOBILModel,Multilane.NoCrashRewardModel}, ::Multilane.MLState, ::Multilane.MLState\u001b[1m)\u001b[22m\u001b[22m at \u001b[1m/home/zhong/.julia/v0.6/Multilane/src/crash.jl:120\u001b[22m\u001b[22m\n",
      " [6] \u001b[1mdrawsim\u001b[22m\u001b[22m\u001b[1m(\u001b[22m\u001b[22m::Float64\u001b[1m)\u001b[22m\u001b[22m at \u001b[1m./In[12]:7\u001b[22m\u001b[22m\n",
      " [7] \u001b[1m(::Reactive.##33#34{#drawsim,Reactive.Signal{Cairo.CairoSurface{UInt32}},Tuple{Reactive.Signal{Float64}}})\u001b[22m\u001b[22m\u001b[1m(\u001b[22m\u001b[22m\u001b[1m)\u001b[22m\u001b[22m at \u001b[1m/home/zhong/.julia/v0.6/Reactive/src/operators.jl:39\u001b[22m\u001b[22m\n",
      " [8] \u001b[1mforeach\u001b[22m\u001b[22m\u001b[1m(\u001b[22m\u001b[22m::Reactive.#runaction, ::Array{Function,1}\u001b[1m)\u001b[22m\u001b[22m at \u001b[1m./abstractarray.jl:1733\u001b[22m\u001b[22m\n",
      " [9] \u001b[1mrun_node\u001b[22m\u001b[22m\u001b[1m(\u001b[22m\u001b[22m::Reactive.Signal{Cairo.CairoSurface{UInt32}}\u001b[1m)\u001b[22m\u001b[22m at \u001b[1m/home/zhong/.julia/v0.6/Reactive/src/core.jl:312\u001b[22m\u001b[22m\n",
      " [10] \u001b[1mrun_push\u001b[22m\u001b[22m\u001b[1m(\u001b[22m\u001b[22m::Reactive.Signal{Float64}, ::Float64, ::Reactive.#print_error, ::Bool\u001b[1m)\u001b[22m\u001b[22m at \u001b[1m/home/zhong/.julia/v0.6/Reactive/src/core.jl:330\u001b[22m\u001b[22m\n",
      " [11] \u001b[1mrun_push\u001b[22m\u001b[22m\u001b[1m(\u001b[22m\u001b[22m::Reactive.Signal{Float64}, ::Float64, ::Function\u001b[1m)\u001b[22m\u001b[22m at \u001b[1m/home/zhong/.julia/v0.6/Reactive/src/core.jl:317\u001b[22m\u001b[22m\n",
      " [12] \u001b[1mrun\u001b[22m\u001b[22m\u001b[1m(\u001b[22m\u001b[22m::Int64\u001b[1m)\u001b[22m\u001b[22m at \u001b[1m/home/zhong/.julia/v0.6/Reactive/src/core.jl:277\u001b[22m\u001b[22m\n",
      " [13] \u001b[1m(::Reactive.##27#29)\u001b[22m\u001b[22m\u001b[1m(\u001b[22m\u001b[22m\u001b[1m)\u001b[22m\u001b[22m at \u001b[1m./task.jl:335\u001b[22m\u001b[22m\n",
      "while loading /home/zhong/.julia/v0.6/IJulia/src/kernel.jl, in expression starting on line 31\n"
     ]
    }
   ],
   "source": [
    "using PyPlot\n",
    "state = deepcopy(sim.state_hist);\n",
    "ex = []\n",
    "for i = 1:length(state)\n",
    "    push!(ex,state[i].x)\n",
    "end\n",
    "plot(ex)"
   ]
  },
  {
   "cell_type": "code",
   "execution_count": 21,
   "metadata": {},
   "outputs": [
    {
     "data": {
      "image/png": "[encoded data removed]",
      "text/plain": [
       "PyPlot.Figure(PyObject <matplotlib.figure.Figure object at 0x7f5a8749cd10>)"
      ]
     },
     "metadata": {},
     "output_type": "display_data"
    },
    {
     "data": {
      "text/plain": [
       "1-element Array{PyCall.PyObject,1}:\n",
       " PyObject <matplotlib.lines.Line2D object at 0x7f5a873704d0>"
      ]
     },
     "execution_count": 21,
     "metadata": {},
     "output_type": "execute_result"
    }
   ],
   "source": [
    "ego_vel = []\n",
    "for i = 1:length(state)\n",
    "    push!(ego_vel,state[i].cars[1].vel)\n",
    "end\n",
    "plot(ego_vel)"
   ]
  },
  {
   "cell_type": "code",
   "execution_count": 22,
   "metadata": {},
   "outputs": [
    {
     "data": {
      "image/png": "[encoded data removed]",
      "text/plain": [
       "PyPlot.Figure(PyObject <matplotlib.figure.Figure object at 0x7f5a8731bf50>)"
      ]
     },
     "metadata": {},
     "output_type": "display_data"
    },
    {
     "data": {
      "text/plain": [
       "1-element Array{PyCall.PyObject,1}:\n",
       " PyObject <matplotlib.lines.Line2D object at 0x7f5a872b4b10>"
      ]
     },
     "execution_count": 22,
     "metadata": {},
     "output_type": "execute_result"
    }
   ],
   "source": [
    "tt = []\n",
    "for i = 1:length(state)\n",
    "    push!(tt,state[i].t)\n",
    "end\n",
    "plot(tt)"
   ]
  }
 ],
 "metadata": {
  "kernelspec": {
   "display_name": "Julia 0.6.2",
   "language": "julia",
   "name": "julia-0.6"
  },
  "language_info": {
   "file_extension": ".jl",
   "mimetype": "application/julia",
   "name": "julia",
   "version": "0.6.2"
  }
 },
 "nbformat": 4,
 "nbformat_minor": 2
}
