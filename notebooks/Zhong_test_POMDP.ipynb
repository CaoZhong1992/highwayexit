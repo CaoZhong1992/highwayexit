{
 "cells": [
  {
   "cell_type": "code",
   "execution_count": 1,
   "metadata": {},
   "outputs": [
    {
     "data": {
      "text/html": [
       "<div id=\"interact-js-shim\">\n",
       "    <script charset=\"utf-8\">\n",
       "(function (IPython, $, _, MathJax) {\n",
       "    $.event.special.destroyed = {\n",
       "\tremove: function(o) {\n",
       "\t    if (o.handler) {\n",
       "\t\to.handler.apply(this, arguments)\n",
       "\t    }\n",
       "\t}\n",
       "    }\n",
       "\n",
       "    var OutputArea = IPython.version >= \"4.0.0\" ? require(\"notebook/js/outputarea\").OutputArea : IPython.OutputArea;\n",
       "\n",
       "    var redrawValue = function (container, type, val) {\n",
       "\tvar selector = $(\"<div/>\");\n",
       "\tvar oa = new OutputArea(_.extend(selector, {\n",
       "\t    selector: selector,\n",
       "\t    prompt_area: true,\n",
       "\t    events: IPython.events,\n",
       "\t    keyboard_manager: IPython.keyboard_manager\n",
       "\t})); // Hack to work with IPython 2.1.0\n",
       "\n",
       "\tswitch (type) {\n",
       "\tcase \"image/png\":\n",
       "            var _src = 'data:' + type + ';base64,' + val;\n",
       "\t    $(container).find(\"img\").attr('src', _src);\n",
       "\t    break;\n",
       "\tcase \"text/latex\":\n",
       "\t\tif (MathJax){\n",
       "\t\t\tvar math = MathJax.Hub.getAllJax(container)[0];\n",
       "\t\t\tMathJax.Hub.Queue([\"Text\", math, val.replace(/^\\${1,2}|\\${1,2}$/g, '')]);\n",
       "\t\t\tbreak;\n",
       "\t\t}\n",
       "\tdefault:\n",
       "\t    var toinsert = OutputArea.append_map[type].apply(\n",
       "\t\toa, [val, {}, selector]\n",
       "\t    );\n",
       "\t    $(container).empty().append(toinsert.contents());\n",
       "\t    selector.remove();\n",
       "\t}\n",
       "    }\n",
       "\n",
       "\n",
       "    $(document).ready(function() {\n",
       "\tfunction initComm(evt, data) {\n",
       "\t    var comm_manager = data.kernel.comm_manager;\n",
       "        //_.extend(comm_manager.targets, require(\"widgets/js/widget\"))\n",
       "\t    comm_manager.register_target(\"Signal\", function (comm) {\n",
       "            comm.on_msg(function (msg) {\n",
       "                var val = msg.content.data.value;\n",
       "                $(\".signal-\" + comm.comm_id).each(function() {\n",
       "                var type = $(this).data(\"type\");\n",
       "                if (typeof(val[type]) !== \"undefined\" && val[type] !== null) {\n",
       "                    redrawValue(this, type, val[type], type);\n",
       "                }\n",
       "                });\n",
       "                delete val;\n",
       "                delete msg.content.data.value;\n",
       "            });\n",
       "\t    });\n",
       "\n",
       "\t    // coordingate with Comm and redraw Signals\n",
       "\t    // XXX: Test using Reactive here to improve performance\n",
       "\t    $([IPython.events]).on(\n",
       "\t\t'output_appended.OutputArea', function (event, type, value, md, toinsert) {\n",
       "\t\t    if (md && md.reactive) {\n",
       "                // console.log(md.comm_id);\n",
       "                toinsert.addClass(\"signal-\" + md.comm_id);\n",
       "                toinsert.data(\"type\", type);\n",
       "                // Signal back indicating the mimetype required\n",
       "                var comm_manager = IPython.notebook.kernel.comm_manager;\n",
       "                var comm = comm_manager.comms[md.comm_id];\n",
       "                comm.then(function (c) {\n",
       "                    c.send({action: \"subscribe_mime\",\n",
       "                       mime: type});\n",
       "                    toinsert.bind(\"destroyed\", function() {\n",
       "                        c.send({action: \"unsubscribe_mime\",\n",
       "                               mime: type});\n",
       "                    });\n",
       "                })\n",
       "\t\t    }\n",
       "\t    });\n",
       "\t}\n",
       "\n",
       "\ttry {\n",
       "\t    // try to initialize right away. otherwise, wait on the status_started event.\n",
       "\t    initComm(undefined, IPython.notebook);\n",
       "\t} catch (e) {\n",
       "\t    $([IPython.events]).on('kernel_created.Kernel kernel_created.Session', initComm);\n",
       "\t}\n",
       "    });\n",
       "})(IPython, jQuery, _, MathJax);\n",
       "</script>\n",
       "    <script>\n",
       "        window.interactLoadedFlag = true\n",
       "       $(\"#interact-js-shim\").bind(\"destroyed\", function () {\n",
       "           if (window.interactLoadedFlag) {\n",
       "               console.warn(\"JavaScript required by Interact will be removed if you remove this cell or run using Interact more than once.\")\n",
       "           }\n",
       "       })\n",
       "       $([IPython.events]).on(\"kernel_starting.Kernel kernel_restarting.Kernel\", function () { window.interactLoadedFlag = false })\n",
       "   </script>\n",
       "</div>"
      ]
     },
     "metadata": {},
     "output_type": "display_data"
    }
   ],
   "source": [
    "using Multilane\n",
    "using POMDPs\n",
    "using POMDPToolbox\n",
    "using MCTS\n",
    "using Distributions # for Normal\n",
    "using DataArrays\n",
    "using DataFrames\n",
    "using DataFramesMeta\n",
    "\n",
    "using ParticleFilters\n",
    "using BasicPOMCP\n",
    "#using Interact\n",
    "using Interact\n",
    "using Reactive\n",
    "#using Records\n",
    "using AutoViz\n",
    "using AutomotiveDrivingModels\n",
    "using JLD\n",
    "#using Cairo\n",
    "#using Reel\n",
    "#using GenerativeModels"
   ]
  },
  {
   "cell_type": "code",
   "execution_count": 2,
   "metadata": {},
   "outputs": [
    {
     "name": "stderr",
     "output_type": "stream",
     "text": [
      "WARNING: StatsBase.WeightVec is deprecated, use StatsBase.Weights{#1#S, #2#T, #3#V} where #3#V<:AbstractArray{#2#T, 1} where #2#T<:Real where #1#S<:Real instead.\n",
      "  likely near In[2]:11\n",
      "WARNING: StatsBase.WeightVec is deprecated, use StatsBase.Weights{#1#S, #2#T, #3#V} where #3#V<:AbstractArray{#2#T, 1} where #2#T<:Real where #1#S<:Real instead.\n",
      "  likely near In[2]:11\n",
      "WARNING: StatsBase.WeightVec is deprecated, use StatsBase.Weights{#1#S, #2#T, #3#V} where #3#V<:AbstractArray{#2#T, 1} where #2#T<:Real where #1#S<:Real instead.\n",
      "  likely near In[2]:11\n",
      "WARNING: StatsBase.WeightVec is deprecated, use StatsBase.Weights{#1#S, #2#T, #3#V} where #3#V<:AbstractArray{#2#T, 1} where #2#T<:Real where #1#S<:Real instead.\n",
      "  likely near In[2]:11\n"
     ]
    }
   ],
   "source": [
    "#Set up problem configuration\n",
    "nb_lanes = 4\n",
    "pp = PhysicalParam(nb_lanes,lane_length=100.) #2.=>col_length=8\n",
    "_discount = 0.9\n",
    "nb_cars=10\n",
    "\n",
    "#rmodel = NoCrashRewardModel()\n",
    "rmodel  = NoCrashRewardModel(100.,10.,2.5,4,1.,1,2500,3000)\n",
    "\n",
    "be = standard_uniform()\n",
    "dmodel = NoCrashIDMMOBILModel(nb_cars, pp, behaviors = be)\n",
    "#dmodel = NoCrashIDMMOBILModel(nb_cars, pp)\n",
    "\n",
    "mdp = NoCrashMDP{NoCrashRewardModel}(dmodel, rmodel, _discount)\n",
    "pomdp = NoCrashPOMDP{NoCrashRewardModel}(dmodel, rmodel, _discount)\n",
    "\n",
    "rng = MersenneTwister(5);"
   ]
  },
  {
   "cell_type": "code",
   "execution_count": 28,
   "metadata": {},
   "outputs": [
    {
     "name": "stdout",
     "output_type": "stream",
     "text": [
      "simulate done\n"
     ]
    }
   ],
   "source": [
    "is = relaxed_initial_state(mdp);"
   ]
  },
  {
   "cell_type": "code",
   "execution_count": 4,
   "metadata": {},
   "outputs": [],
   "source": [
    "nb_sims = 500;\n",
    "p_resample_noise = 0.1;\n",
    "resample_noise_factor = 10;\n",
    "params = WeightUpdateParams(0.02,0.01);\n",
    "\n",
    "updater = AggressivenessUpdater(mdp,\n",
    "                           nb_sims,\n",
    "                           p_resample_noise,\n",
    "                           resample_noise_factor,\n",
    "                           params,\n",
    "                           rng);"
   ]
  },
  {
   "cell_type": "code",
   "execution_count": 5,
   "metadata": {},
   "outputs": [],
   "source": [
    "solver = MLMPCSolver(DPWSolver(depth=20,\n",
    "                    exploration_constant=5.0,\n",
    "                    n_iterations=500),updater);"
   ]
  },
  {
   "cell_type": "code",
   "execution_count": 6,
   "metadata": {},
   "outputs": [],
   "source": [
    "agent = solve(solver,mdp);"
   ]
  },
  {
   "cell_type": "code",
   "execution_count": 23,
   "metadata": {},
   "outputs": [],
   "source": [
    "agent3 = deepcopy(agent);"
   ]
  },
  {
   "cell_type": "code",
   "execution_count": 20,
   "metadata": {},
   "outputs": [],
   "source": [
    "agent2 = deepcopy(agent);"
   ]
  },
  {
   "cell_type": "code",
   "execution_count": 24,
   "metadata": {},
   "outputs": [
    {
     "data": {
      "text/plain": [
       "false"
      ]
     },
     "execution_count": 24,
     "metadata": {},
     "output_type": "execute_result"
    }
   ],
   "source": [
    "agent3 == agent2"
   ]
  },
  {
   "cell_type": "code",
   "execution_count": 29,
   "metadata": {
    "scrolled": false
   },
   "outputs": [
    {
     "name": "stderr",
     "output_type": "stream",
     "text": [
      "\u001b[1m\u001b[33mWARNING: \u001b[39m\u001b[22m\u001b[33mmax(x::AbstractArray{T1}, y::Real) where T1 <: Real is deprecated, use max.(x, y) instead.\u001b[39m\n",
      "Stacktrace:\n",
      " [1] \u001b[1mdepwarn\u001b[22m\u001b[22m\u001b[1m(\u001b[22m\u001b[22m::String, ::Symbol\u001b[1m)\u001b[22m\u001b[22m at \u001b[1m./deprecated.jl:70\u001b[22m\u001b[22m\n",
      " [2] \u001b[1mmax\u001b[22m\u001b[22m\u001b[1m(\u001b[22m\u001b[22m::Array{Float64,1}, ::Float64\u001b[1m)\u001b[22m\u001b[22m at \u001b[1m./deprecated.jl:57\u001b[22m\u001b[22m\n",
      " [3] \u001b[1mupdate\u001b[22m\u001b[22m\u001b[1m(\u001b[22m\u001b[22m::Multilane.AggressivenessUpdater, ::Multilane.AggressivenessBelief, ::Multilane.MLAction, ::Multilane.MLPhysicalState, ::Multilane.AggressivenessBelief\u001b[1m)\u001b[22m\u001b[22m at \u001b[1m/home/zhong/.julia/v0.6/Multilane/src/aggressiveness_particle_filter.jl:150\u001b[22m\u001b[22m\n",
      " [4] \u001b[1mupdate\u001b[22m\u001b[22m\u001b[1m(\u001b[22m\u001b[22m::Multilane.AggressivenessUpdater, ::Multilane.AggressivenessBelief, ::Multilane.MLAction, ::Multilane.MLPhysicalState\u001b[1m)\u001b[22m\u001b[22m at \u001b[1m/home/zhong/.julia/v0.6/Multilane/src/aggressiveness_particle_filter.jl:149\u001b[22m\u001b[22m\n",
      " [5] \u001b[1maction\u001b[22m\u001b[22m\u001b[1m(\u001b[22m\u001b[22m::Multilane.MLMPCAgent, ::Multilane.MLState\u001b[1m)\u001b[22m\u001b[22m at \u001b[1m/home/zhong/.julia/v0.6/Multilane/src/most_likely_mpc.jl:40\u001b[22m\u001b[22m\n",
      " [6] \u001b[1msimulate_cz\u001b[22m\u001b[22m\u001b[1m(\u001b[22m\u001b[22m::POMDPToolbox.HistoryRecorder, ::Multilane.MLMDP{Multilane.MLState,Multilane.MLAction,Multilane.NoCrashIDMMOBILModel,Multilane.NoCrashRewardModel}, ::Multilane.MLMPCAgent, ::Multilane.MLState\u001b[1m)\u001b[22m\u001b[22m at \u001b[1m/home/zhong/.julia/v0.6/Multilane/src/relax.jl:91\u001b[22m\u001b[22m\n",
      " [7] \u001b[1mrelaxed_initial_state_cz\u001b[22m\u001b[22m\u001b[1m(\u001b[22m\u001b[22m::Multilane.MLMDP{Multilane.MLState,Multilane.MLAction,Multilane.NoCrashIDMMOBILModel,Multilane.NoCrashRewardModel}, ::Multilane.MLState, ::Multilane.MLMPCAgent, ::Int64\u001b[1m)\u001b[22m\u001b[22m at \u001b[1m/home/zhong/.julia/v0.6/Multilane/src/relax.jl:34\u001b[22m\u001b[22m\n",
      " [8] \u001b[1minclude_string\u001b[22m\u001b[22m\u001b[1m(\u001b[22m\u001b[22m::String, ::String\u001b[1m)\u001b[22m\u001b[22m at \u001b[1m./loading.jl:522\u001b[22m\u001b[22m\n",
      " [9] \u001b[1minclude_string\u001b[22m\u001b[22m\u001b[1m(\u001b[22m\u001b[22m::Module, ::String, ::String\u001b[1m)\u001b[22m\u001b[22m at \u001b[1m/home/zhong/.julia/v0.6/Compat/src/Compat.jl:174\u001b[22m\u001b[22m\n",
      " [10] \u001b[1mexecute_request\u001b[22m\u001b[22m\u001b[1m(\u001b[22m\u001b[22m::ZMQ.Socket, ::IJulia.Msg\u001b[1m)\u001b[22m\u001b[22m at \u001b[1m/home/zhong/.julia/v0.6/IJulia/src/execute_request.jl:154\u001b[22m\u001b[22m\n",
      " [11] \u001b[1m(::Compat.#inner#16{Array{Any,1},IJulia.#execute_request,Tuple{ZMQ.Socket,IJulia.Msg}})\u001b[22m\u001b[22m\u001b[1m(\u001b[22m\u001b[22m\u001b[1m)\u001b[22m\u001b[22m at \u001b[1m/home/zhong/.julia/v0.6/Compat/src/Compat.jl:496\u001b[22m\u001b[22m\n",
      " [12] \u001b[1meventloop\u001b[22m\u001b[22m\u001b[1m(\u001b[22m\u001b[22m::ZMQ.Socket\u001b[1m)\u001b[22m\u001b[22m at \u001b[1m/home/zhong/.julia/v0.6/IJulia/src/eventloop.jl:8\u001b[22m\u001b[22m\n",
      " [13] \u001b[1m(::IJulia.##14#17)\u001b[22m\u001b[22m\u001b[1m(\u001b[22m\u001b[22m\u001b[1m)\u001b[22m\u001b[22m at \u001b[1m./task.jl:335\u001b[22m\u001b[22m\n",
      "while loading In[29], in expression starting on line 4\n",
      "\u001b[1m\u001b[33mWARNING: \u001b[39m\u001b[22m\u001b[33mCar nudged because noise would cause a crash.\u001b[39m\n",
      "\u001b[1m\u001b[33mWARNING: \u001b[39m\u001b[22m\u001b[33mCar nudged because noise would cause a crash.\u001b[39m\n",
      "\u001b[1m\u001b[33mWARNING: \u001b[39m\u001b[22m\u001b[33mCar nudged because noise would cause a crash.\u001b[39m\n",
      "\u001b[1m\u001b[33mWARNING: \u001b[39m\u001b[22m\u001b[33mCar nudged because noise would cause a crash.\u001b[39m\n",
      "\u001b[1m\u001b[33mWARNING: \u001b[39m\u001b[22m\u001b[33mCar nudged because noise would cause a crash.\u001b[39m\n",
      "\u001b[1m\u001b[33mWARNING: \u001b[39m\u001b[22m\u001b[33mCar nudged because noise would cause a crash.\u001b[39m\n"
     ]
    }
   ],
   "source": [
    "is.x = 0;\n",
    "is.t = 0;\n",
    "steps = 200;\n",
    "sim = relaxed_initial_state_cz(mdp,is,agent,steps);"
   ]
  },
  {
   "cell_type": "code",
   "execution_count": 8,
   "metadata": {},
   "outputs": [
    {
     "data": {
      "text/plain": [
       "get_sim_t_state (generic function with 1 method)"
      ]
     },
     "execution_count": 8,
     "metadata": {},
     "output_type": "execute_result"
    }
   ],
   "source": [
    "function get_sim_t_state(t::Int)\n",
    "   s = sim.state_hist[t]\n",
    "   a = sim.action_hist[t]\n",
    "   sp = sim.state_hist[t+1]\n",
    "   idx = Nullable{Int}()\n",
    "end"
   ]
  },
  {
   "cell_type": "code",
   "execution_count": 9,
   "metadata": {},
   "outputs": [
    {
     "data": {
      "text/plain": [
       "1.519841835885988e9"
      ]
     },
     "execution_count": 9,
     "metadata": {
      "comm_id": "5fcd071c-031c-4146-965b-e1eb0d490010",
      "reactive": true
     },
     "output_type": "execute_result"
    }
   ],
   "source": [
    "get_sim_t_state(70)\n",
    "pp = mdp.dmodel.phys_param\n",
    "roadway = gen_straight_roadway(pp.nb_lanes,\n",
    "                               pp.lane_length,\n",
    "                               lane_width=pp.w_lane)\n",
    "\n",
    "\n",
    "\n",
    "\n",
    "cidol = CarIDOverlay()\n",
    "cvol = CarVelOverlay()\n",
    "\n",
    "idx = Nullable{Int}()\n",
    "\n",
    "framerate = 6\n",
    "ticks = fps(framerate)\n",
    "timestamps = map(_-> time(),ticks)"
   ]
  },
  {
   "cell_type": "code",
   "execution_count": 10,
   "metadata": {},
   "outputs": [
    {
     "data": {
      "text/plain": [
       "drawsim (generic function with 1 method)"
      ]
     },
     "execution_count": 10,
     "metadata": {},
     "output_type": "execute_result"
    }
   ],
   "source": [
    "function drawsim(timet)\n",
    "    t = round(Int,rem(round(timet*framerate),steps-1)+1)\n",
    "    s = sim.state_hist[t]\n",
    "    a = sim.action_hist[t]\n",
    "    sp = sim.state_hist[t+1]\n",
    "    hbol = HardBrakeOverlay(pp, braking_ids(mdp, s, sp))\n",
    "    iol = InfoOverlay(pp, idx,\n",
    "                  s.cars[1].vel,\n",
    "                  max_braking(mdp, s, sp),\n",
    "                  is_crash(mdp, s, sp))\n",
    "    scene = Scene()\n",
    "    for cs in s.cars\n",
    "        push!(scene, Vehicle(VehicleState(VecSE2(cs.x, (cs.y-1.0)*pp.w_lane, 0.0), roadway, cs.vel),\n",
    "                                #VehicleDef(cs.id, AgentClass.CAR, pp.l_car, pp.w_car)))\n",
    "                                VehicleDef(AgentClass.CAR, pp.l_car, pp.w_car),cs.id))\n",
    "    end\n",
    "    \n",
    "    render(scene, roadway, cam=FitToContentCamera(),car_colors=carcolors)\n",
    "end"
   ]
  },
  {
   "cell_type": "code",
   "execution_count": 11,
   "metadata": {},
   "outputs": [
    {
     "data": {
      "text/plain": [
       "get_round (generic function with 1 method)"
      ]
     },
     "execution_count": 11,
     "metadata": {},
     "output_type": "execute_result"
    }
   ],
   "source": [
    "function get_round(timet)\n",
    "   return (round(Int,rem(round(timet*framerate),steps))) \n",
    "end"
   ]
  },
  {
   "cell_type": "code",
   "execution_count": 12,
   "metadata": {},
   "outputs": [
    {
     "data": {
      "text/plain": [
       "20"
      ]
     },
     "execution_count": 12,
     "metadata": {
      "comm_id": "b27065e4-eb3d-4745-b7e8-e3e4b468bb28",
      "reactive": true
     },
     "output_type": "execute_result"
    }
   ],
   "source": [
    "map(get_round,timestamps)"
   ]
  },
  {
   "cell_type": "code",
   "execution_count": 13,
   "metadata": {},
   "outputs": [
    {
     "data": {
      "image/svg+xml": [
       "<?xml version=\"1.0\" encoding=\"UTF-8\"?>\n",
       "<!DOCTYPE svg PUBLIC \"-//W3C//DTD SVG 1.1//EN\"\n",
       " \"http://www.w3.org/Graphics/SVG/1.1/DTD/svg11.dtd\">\n",
       "<svg xmlns=\"http://www.w3.org/2000/svg\" version=\"1.1\"\n",
       "     width=\"25mm\" height=\"25mm\" viewBox=\"0 0 1 1\">\n",
       "     <rect width=\"1\" height=\"1\"\n",
       "           fill=\"#008000\" stroke=\"none\"/>\n",
       "</svg>\n"
      ],
      "text/plain": [
       "RGB{N0f8}(0.0,0.502,0.0)"
      ]
     },
     "execution_count": 13,
     "metadata": {},
     "output_type": "execute_result"
    }
   ],
   "source": [
    "carcolors = Dict{Int,Colorant}()\n",
    "carcolors[1] = colorant\"green\""
   ]
  },
  {
   "cell_type": "code",
   "execution_count": 30,
   "metadata": {},
   "outputs": [
    {
     "data": {
      "image/png": "[encoded data removed]",
      "text/plain": [
       "Cairo.CairoSurface{UInt32}(Ptr{Void} @0x000000000ae28ef0, 1000.0, 600.0, #undef)"
      ]
     },
     "execution_count": 30,
     "metadata": {
      "comm_id": "b5daee26-2a15-4e08-a037-2c32229b2916",
      "reactive": true
     },
     "output_type": "execute_result"
    },
    {
     "name": "stderr",
     "output_type": "stream",
     "text": [
      "\u001b[91mERROR (unhandled task failure): \u001b[91mInterruptException:\u001b[39m\n",
      "Stacktrace:\n",
      " [1] \u001b[1mprocess_events\u001b[22m\u001b[22m at \u001b[1m./libuv.jl:82\u001b[22m\u001b[22m [inlined]\n",
      " [2] \u001b[1mwait\u001b[22m\u001b[22m\u001b[1m(\u001b[22m\u001b[22m\u001b[1m)\u001b[22m\u001b[22m at \u001b[1m./event.jl:216\u001b[22m\u001b[22m\n",
      " [3] \u001b[1mwait\u001b[22m\u001b[22m\u001b[1m(\u001b[22m\u001b[22m::Condition\u001b[1m)\u001b[22m\u001b[22m at \u001b[1m./event.jl:27\u001b[22m\u001b[22m\n",
      " [4] \u001b[1mstream_wait\u001b[22m\u001b[22m\u001b[1m(\u001b[22m\u001b[22m::Timer, ::Condition, ::Vararg{Condition,N} where N\u001b[1m)\u001b[22m\u001b[22m at \u001b[1m./stream.jl:42\u001b[22m\u001b[22m\n",
      " [5] \u001b[1mwait\u001b[22m\u001b[22m\u001b[1m(\u001b[22m\u001b[22m::Timer\u001b[1m)\u001b[22m\u001b[22m at \u001b[1m./event.jl:357\u001b[22m\u001b[22m\n",
      " [6] \u001b[1m(::Base.##300#301{IJulia.#send_stderr,Timer})\u001b[22m\u001b[22m\u001b[1m(\u001b[22m\u001b[22m\u001b[1m)\u001b[22m\u001b[22m at \u001b[1m./event.jl:430\u001b[22m\u001b[22m\n",
      "\u001b[39m\u001b[1m\u001b[36mINFO: \u001b[39m\u001b[22m\u001b[36mReactive event loop was inturrupted.\n",
      "\u001b[39m\u001b[91mERROR (unhandled task failure): \u001b[91mInterruptException:\u001b[39m\n",
      "\u001b[39m"
     ]
    }
   ],
   "source": [
    "map(drawsim,timestamps)"
   ]
  },
  {
   "cell_type": "code",
   "execution_count": 26,
   "metadata": {},
   "outputs": [
    {
     "data": {
      "image/png": "[encoded data removed]",
      "text/plain": [
       "PyPlot.Figure(PyObject <matplotlib.figure.Figure object at 0x7f1a224aac90>)"
      ]
     },
     "metadata": {},
     "output_type": "display_data"
    },
    {
     "data": {
      "text/plain": [
       "1-element Array{PyCall.PyObject,1}:\n",
       " PyObject <matplotlib.lines.Line2D object at 0x7f1a22444110>"
      ]
     },
     "execution_count": 26,
     "metadata": {},
     "output_type": "execute_result"
    }
   ],
   "source": [
    "using PyPlot\n",
    "state = deepcopy(sim.state_hist);\n",
    "ex = []\n",
    "for i = 1:length(state)\n",
    "    push!(ex,state[i].x)\n",
    "end\n",
    "plot(ex)"
   ]
  },
  {
   "cell_type": "code",
   "execution_count": 27,
   "metadata": {},
   "outputs": [
    {
     "data": {
      "image/png": "[encoded data removed]",
      "text/plain": [
       "PyPlot.Figure(PyObject <matplotlib.figure.Figure object at 0x7f1a22481050>)"
      ]
     },
     "metadata": {},
     "output_type": "display_data"
    },
    {
     "data": {
      "text/plain": [
       "1-element Array{PyCall.PyObject,1}:\n",
       " PyObject <matplotlib.lines.Line2D object at 0x7f1a2236bd90>"
      ]
     },
     "execution_count": 27,
     "metadata": {},
     "output_type": "execute_result"
    }
   ],
   "source": [
    "ego_vel = []\n",
    "for i = 1:length(state)\n",
    "    push!(ego_vel,state[i].cars[1].vel)\n",
    "end\n",
    "plot(ego_vel)"
   ]
  },
  {
   "cell_type": "code",
   "execution_count": null,
   "metadata": {},
   "outputs": [],
   "source": []
  }
 ],
 "metadata": {
  "kernelspec": {
   "display_name": "Julia 0.6.2",
   "language": "julia",
   "name": "julia-0.6"
  },
  "language_info": {
   "file_extension": ".jl",
   "mimetype": "application/julia",
   "name": "julia",
   "version": "0.6.2"
  }
 },
 "nbformat": 4,
 "nbformat_minor": 2
}
