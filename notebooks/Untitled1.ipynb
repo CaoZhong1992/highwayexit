{
 "cells": [
  {
   "cell_type": "code",
   "execution_count": 1,
   "metadata": {},
   "outputs": [],
   "source": [
    "importall POMDPs\n",
    "using Distributions # for Normal\n",
    "srand(1);"
   ]
  },
  {
   "cell_type": "code",
   "execution_count": null,
   "metadata": {},
   "outputs": [],
   "source": []
  },
  {
   "cell_type": "code",
   "execution_count": 2,
   "metadata": {},
   "outputs": [],
   "source": [
    "type LightDark1D <: POMDPs.POMDP{Float64,Int,Int}\n",
    "    discount_factor::Float64\n",
    "    correct_r::Float64\n",
    "    incorrect_r::Float64\n",
    "    step_size::Int\n",
    "    movement_cost::Float64\n",
    "end\n",
    "LightDark1D() = LightDark1D(0.9, 10, -10, 1, 0)\n",
    "discount(p::LightDark1D) = p.discount_factor\n",
    "isterminal(::LightDark1D, s::Float64) = isnan(s);"
   ]
  },
  {
   "cell_type": "code",
   "execution_count": 3,
   "metadata": {},
   "outputs": [],
   "source": [
    "noise(x) = ceil(Int, abs(x - 5)/sqrt(2) + 1e-2)\n",
    "\n",
    "function generate_o(p::LightDark1D, s::Float64, a::Int, sp::Float64, rng::AbstractRNG)\n",
    "    if isnan(sp)\n",
    "        return 0\n",
    "    else\n",
    "        n = noise(sp)\n",
    "        return round(Int, sp) + rand(rng, -n:n)\n",
    "    end\n",
    "end\n",
    "\n",
    "function generate_s(p::LightDark1D, s::Float64, a::Int, rng::AbstractRNG)\n",
    "    if a == 0\n",
    "        return NaN\n",
    "    else\n",
    "        return s+a\n",
    "    end\n",
    "end\n",
    "\n",
    "function reward(p::LightDark1D, s::Float64, a::Int, sp::Float64)\n",
    "    if a == 0\n",
    "        if abs(s) < 1\n",
    "            return p.correct_r\n",
    "        else\n",
    "            return p.incorrect_r\n",
    "        end\n",
    "    else\n",
    "        return 0.0\n",
    "    end \n",
    "end;"
   ]
  },
  {
   "cell_type": "code",
   "execution_count": 4,
   "metadata": {},
   "outputs": [],
   "source": [
    "\n",
    "\n",
    "function initial_state_distribution(pomdp::LightDark1D)\n",
    "    return Normal(2.0, 3.0)\n",
    "end;"
   ]
  },
  {
   "cell_type": "code",
   "execution_count": 4,
   "metadata": {},
   "outputs": [
    {
     "data": {
      "text/plain": [
       "n_actions (generic function with 1 method)"
      ]
     },
     "execution_count": 4,
     "metadata": {},
     "output_type": "execute_result"
    }
   ],
   "source": [
    "actions(::LightDark1D) = [-1, 0, 1] # Left Stop Right\n",
    "n_actions(::LightDark1D) = 3"
   ]
  },
  {
   "cell_type": "code",
   "execution_count": 1,
   "metadata": {},
   "outputs": [],
   "source": [
    "using BasicPOMCP\n",
    "using POMDPToolbox"
   ]
  },
  {
   "cell_type": "code",
   "execution_count": null,
   "metadata": {},
   "outputs": [],
   "source": []
  },
  {
   "cell_type": "code",
   "execution_count": 4,
   "metadata": {},
   "outputs": [],
   "source": [
    "solver = POMCPSolver(tree_queries=10000, c=10)\n",
    "pomdp = LightDark1D()\n",
    "planner = solve(solver, pomdp);"
   ]
  },
  {
   "cell_type": "code",
   "execution_count": 5,
   "metadata": {},
   "outputs": [
    {
     "ename": "LoadError",
     "evalue": "\u001b[91mMethodError: no method matching initial_state_distribution(::LightDark1D)\u001b[39m",
     "output_type": "error",
     "traceback": [
      "\u001b[91mMethodError: no method matching initial_state_distribution(::LightDark1D)\u001b[39m",
      "",
      "Stacktrace:",
      " [1] \u001b[1minclude_string\u001b[22m\u001b[22m\u001b[1m(\u001b[22m\u001b[22m::String, ::String\u001b[1m)\u001b[22m\u001b[22m at \u001b[1m./loading.jl:522\u001b[22m\u001b[22m"
     ]
    }
   ],
   "source": [
    "b = initial_state_distribution(pomdp)\n",
    "a = action(planner, b)\n",
    "println(\"\"\"\n",
    "    POMCP Recommends action $a for belief $b.\n",
    "\n",
    "    (this may be a bad choice because the POMCP Parameters are set to their defaults.)\n",
    "\"\"\")"
   ]
  },
  {
   "cell_type": "code",
   "execution_count": null,
   "metadata": {},
   "outputs": [],
   "source": [
    "for (s,a,r,sp,o) in stepthrough(pomdp, planner, \"sarspo\")\n",
    "    @show (s,a,r,sp,o)\n",
    "end"
   ]
  },
  {
   "cell_type": "code",
   "execution_count": null,
   "metadata": {},
   "outputs": [],
   "source": []
  }
 ],
 "metadata": {
  "kernelspec": {
   "display_name": "Julia 0.6.2",
   "language": "julia",
   "name": "julia-0.6"
  },
  "language_info": {
   "file_extension": ".jl",
   "mimetype": "application/julia",
   "name": "julia",
   "version": "0.6.2"
  }
 },
 "nbformat": 4,
 "nbformat_minor": 2
}
