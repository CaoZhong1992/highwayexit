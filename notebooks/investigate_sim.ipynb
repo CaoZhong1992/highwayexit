{
 "cells": [
  {
   "cell_type": "code",
   "execution_count": 1,
   "metadata": {},
   "outputs": [
    {
     "name": "stderr",
     "output_type": "stream",
     "text": [
      "\u001b[1m\u001b[36mINFO: \u001b[39m\u001b[22m\u001b[36mRecompiling stale cache file /home/zhong/.julia/lib/v0.6/AutoViz.ji for module AutoViz.\n",
      "\u001b[39m\u001b[1m\u001b[36mINFO: \u001b[39m\u001b[22m\u001b[36mRecompiling stale cache file /home/zhong/.julia/lib/v0.6/Multilane.ji for module Multilane.\n",
      "\u001b[39mWARNING: Method definition rand(Base.Random.AbstractRNG, Distributions.TriangularDist{T} where T<:Real) in module Distributions at /home/zhong/.julia/v0.6/Distributions/src/univariate/continuous/triangular.jl:150 overwritten in module Multilane at /home/zhong/.julia/v0.6/Multilane/src/triangular.jl:8.\n",
      "\n",
      "WARNING: deprecated syntax \"function .*(...)\".\n",
      "Use \"function Base.broadcast(::typeof(*), ...)\" instead.\n",
      "\n",
      "WARNING: deprecated syntax \"function .^(...)\".\n",
      "Use \"function Base.broadcast(::typeof(^), ...)\" instead.\n",
      "\n",
      "WARNING: deprecated syntax \"function .*(...)\".\n",
      "Use \"function Base.broadcast(::typeof(*), ...)\" instead.\n",
      "\n",
      "WARNING: deprecated syntax \"function .^(...)\".\n",
      "Use \"function Base.broadcast(::typeof(^), ...)\" instead.\n",
      "\n",
      "WARNING: deprecated syntax \"function .*(...)\".\n",
      "Use \"function Base.broadcast(::typeof(*), ...)\" instead.\n",
      "\n",
      "WARNING: deprecated syntax \"function .*(...)\".\n",
      "Use \"function Base.broadcast(::typeof(*), ...)\" instead.\n",
      "\n",
      "WARNING: deprecated syntax \"function .^(...)\".\n",
      "Use \"function Base.broadcast(::typeof(^), ...)\" instead.\n",
      "\n",
      "WARNING: deprecated syntax \"function .-(...)\".\n",
      "Use \"function Base.broadcast(::typeof(-), ...)\" instead.\n",
      "WARNING: StatsBase.WeightVec is deprecated, use StatsBase.Weights{#1#S, #2#T, #3#V} where #3#V<:AbstractArray{#2#T, 1} where #2#T<:Real where #1#S<:Real instead.\n",
      "  likely near /home/zhong/.julia/v0.6/Multilane/src/behavior_gen.jl:4\n",
      "WARNING: StatsBase.WeightVec is deprecated, use StatsBase.Weights{#1#S, #2#T, #3#V} where #3#V<:AbstractArray{#2#T, 1} where #2#T<:Real where #1#S<:Real instead.\n",
      "  likely near /home/zhong/.julia/v0.6/Multilane/src/behavior_gen.jl:4\n",
      "\n",
      "WARNING: deprecated syntax \"abstract SimMetric\" at /home/zhong/.julia/v0.6/Multilane/src/metrics.jl:2.\n",
      "Use \"abstract type SimMetric end\" instead.\n",
      "WARNING: StatsBase.WeightVec is deprecated, use StatsBase.Weights{#1#S, #2#T, #3#V} where #3#V<:AbstractArray{#2#T, 1} where #2#T<:Real where #1#S<:Real instead.\n",
      "  likely near /home/zhong/.julia/v0.6/Multilane/src/test_sets.jl:40\n",
      "WARNING: StatsBase.WeightVec is deprecated, use StatsBase.Weights{#1#S, #2#T, #3#V} where #3#V<:AbstractArray{#2#T, 1} where #2#T<:Real where #1#S<:Real instead.\n",
      "  likely near /home/zhong/.julia/v0.6/Multilane/src/test_sets.jl:40\n",
      "WARNING: StatsBase.WeightVec is deprecated, use StatsBase.Weights{#1#S, #2#T, #3#V} where #3#V<:AbstractArray{#2#T, 1} where #2#T<:Real where #1#S<:Real instead.\n",
      "  likely near /home/zhong/.julia/v0.6/Multilane/src/test_sets.jl:40\n",
      "WARNING: StatsBase.WeightVec is deprecated, use StatsBase.Weights{#1#S, #2#T, #3#V} where #3#V<:AbstractArray{#2#T, 1} where #2#T<:Real where #1#S<:Real instead.\n",
      "  likely near /home/zhong/.julia/v0.6/Multilane/src/test_sets.jl:40\n",
      "WARNING: StatsBase.WeightVec is deprecated, use StatsBase.Weights{#1#S, #2#T, #3#V} where #3#V<:AbstractArray{#2#T, 1} where #2#T<:Real where #1#S<:Real instead.\n",
      "  likely near /home/zhong/.julia/v0.6/Multilane/src/test_sets.jl:40\n"
     ]
    },
    {
     "name": "stdout",
     "output_type": "stream",
     "text": [
      "Automatically loading visualization components.\n"
     ]
    },
    {
     "name": "stderr",
     "output_type": "stream",
     "text": [
      "WARNING: imported binding for Policy overwritten in module Multilane\n",
      "WARNING: using Cairo.clip in module Multilane conflicts with an existing identifier.\n"
     ]
    },
    {
     "data": {
      "text/html": [
       "<div id=\"interact-js-shim\">\n",
       "    <script charset=\"utf-8\">\n",
       "(function (IPython, $, _, MathJax) {\n",
       "    $.event.special.destroyed = {\n",
       "\tremove: function(o) {\n",
       "\t    if (o.handler) {\n",
       "\t\to.handler.apply(this, arguments)\n",
       "\t    }\n",
       "\t}\n",
       "    }\n",
       "\n",
       "    var OutputArea = IPython.version >= \"4.0.0\" ? require(\"notebook/js/outputarea\").OutputArea : IPython.OutputArea;\n",
       "\n",
       "    var redrawValue = function (container, type, val) {\n",
       "\tvar selector = $(\"<div/>\");\n",
       "\tvar oa = new OutputArea(_.extend(selector, {\n",
       "\t    selector: selector,\n",
       "\t    prompt_area: true,\n",
       "\t    events: IPython.events,\n",
       "\t    keyboard_manager: IPython.keyboard_manager\n",
       "\t})); // Hack to work with IPython 2.1.0\n",
       "\n",
       "\tswitch (type) {\n",
       "\tcase \"image/png\":\n",
       "            var _src = 'data:' + type + ';base64,' + val;\n",
       "\t    $(container).find(\"img\").attr('src', _src);\n",
       "\t    break;\n",
       "\tcase \"text/latex\":\n",
       "\t\tif (MathJax){\n",
       "\t\t\tvar math = MathJax.Hub.getAllJax(container)[0];\n",
       "\t\t\tMathJax.Hub.Queue([\"Text\", math, val.replace(/^\\${1,2}|\\${1,2}$/g, '')]);\n",
       "\t\t\tbreak;\n",
       "\t\t}\n",
       "\tdefault:\n",
       "\t    var toinsert = OutputArea.append_map[type].apply(\n",
       "\t\toa, [val, {}, selector]\n",
       "\t    );\n",
       "\t    $(container).empty().append(toinsert.contents());\n",
       "\t    selector.remove();\n",
       "\t}\n",
       "    }\n",
       "\n",
       "\n",
       "    $(document).ready(function() {\n",
       "\tfunction initComm(evt, data) {\n",
       "\t    var comm_manager = data.kernel.comm_manager;\n",
       "        //_.extend(comm_manager.targets, require(\"widgets/js/widget\"))\n",
       "\t    comm_manager.register_target(\"Signal\", function (comm) {\n",
       "            comm.on_msg(function (msg) {\n",
       "                var val = msg.content.data.value;\n",
       "                $(\".signal-\" + comm.comm_id).each(function() {\n",
       "                var type = $(this).data(\"type\");\n",
       "                if (typeof(val[type]) !== \"undefined\" && val[type] !== null) {\n",
       "                    redrawValue(this, type, val[type], type);\n",
       "                }\n",
       "                });\n",
       "                delete val;\n",
       "                delete msg.content.data.value;\n",
       "            });\n",
       "\t    });\n",
       "\n",
       "\t    // coordingate with Comm and redraw Signals\n",
       "\t    // XXX: Test using Reactive here to improve performance\n",
       "\t    $([IPython.events]).on(\n",
       "\t\t'output_appended.OutputArea', function (event, type, value, md, toinsert) {\n",
       "\t\t    if (md && md.reactive) {\n",
       "                // console.log(md.comm_id);\n",
       "                toinsert.addClass(\"signal-\" + md.comm_id);\n",
       "                toinsert.data(\"type\", type);\n",
       "                // Signal back indicating the mimetype required\n",
       "                var comm_manager = IPython.notebook.kernel.comm_manager;\n",
       "                var comm = comm_manager.comms[md.comm_id];\n",
       "                comm.then(function (c) {\n",
       "                    c.send({action: \"subscribe_mime\",\n",
       "                       mime: type});\n",
       "                    toinsert.bind(\"destroyed\", function() {\n",
       "                        c.send({action: \"unsubscribe_mime\",\n",
       "                               mime: type});\n",
       "                    });\n",
       "                })\n",
       "\t\t    }\n",
       "\t    });\n",
       "\t}\n",
       "\n",
       "\ttry {\n",
       "\t    // try to initialize right away. otherwise, wait on the status_started event.\n",
       "\t    initComm(undefined, IPython.notebook);\n",
       "\t} catch (e) {\n",
       "\t    $([IPython.events]).on('kernel_created.Kernel kernel_created.Session', initComm);\n",
       "\t}\n",
       "    });\n",
       "})(IPython, jQuery, _, MathJax);\n",
       "</script>\n",
       "    <script>\n",
       "        window.interactLoadedFlag = true\n",
       "       $(\"#interact-js-shim\").bind(\"destroyed\", function () {\n",
       "           if (window.interactLoadedFlag) {\n",
       "               console.warn(\"JavaScript required by Interact will be removed if you remove this cell or run using Interact more than once.\")\n",
       "           }\n",
       "       })\n",
       "       $([IPython.events]).on(\"kernel_starting.Kernel kernel_restarting.Kernel\", function () { window.interactLoadedFlag = false })\n",
       "   </script>\n",
       "</div>"
      ]
     },
     "metadata": {},
     "output_type": "display_data"
    },
    {
     "name": "stderr",
     "output_type": "stream",
     "text": [
      "WARNING: Method definition rand(Base.Random.AbstractRNG, Distributions.TriangularDist{T} where T<:Real) in module Distributions at /home/zhong/.julia/v0.6/Distributions/src/univariate/continuous/triangular.jl:150 overwritten in module Multilane at /home/zhong/.julia/v0.6/Multilane/src/triangular.jl:8.\n"
     ]
    }
   ],
   "source": [
    "using JLD\n",
    "using Multilane\n",
    "using POMDPs\n",
    "using MCTS\n",
    "using DataFrames\n",
    "using DataFramesMeta"
   ]
  },
  {
   "cell_type": "code",
   "execution_count": 6,
   "metadata": {
    "scrolled": true
   },
   "outputs": [
    {
     "ename": "LoadError",
     "evalue": "\u001b[91mFile ../data/random_periods.jld cannot be found\u001b[39m",
     "output_type": "error",
     "traceback": [
      "\u001b[91mFile ../data/random_periods.jld cannot be found\u001b[39m",
      "",
      "Stacktrace:",
      " [1] \u001b[1m#jldopen#9\u001b[22m\u001b[22m\u001b[1m(\u001b[22m\u001b[22m::Bool, ::Bool, ::Bool, ::Function, ::String, ::Bool, ::Bool, ::Bool, ::Bool, ::Bool\u001b[1m)\u001b[22m\u001b[22m at \u001b[1m/home/zhong/.julia/v0.6/JLD/src/JLD.jl:153\u001b[22m\u001b[22m",
      " [2] \u001b[1m(::JLD.#kw##jldopen)\u001b[22m\u001b[22m\u001b[1m(\u001b[22m\u001b[22m::Array{Any,1}, ::JLD.#jldopen, ::String, ::Bool, ::Bool, ::Bool, ::Bool, ::Bool\u001b[1m)\u001b[22m\u001b[22m at \u001b[1m./<missing>:0\u001b[22m\u001b[22m",
      " [3] \u001b[1m#jldopen#10\u001b[22m\u001b[22m\u001b[1m(\u001b[22m\u001b[22m::Bool, ::Bool, ::Bool, ::Function, ::String, ::String\u001b[1m)\u001b[22m\u001b[22m at \u001b[1m/home/zhong/.julia/v0.6/JLD/src/JLD.jl:231\u001b[22m\u001b[22m",
      " [4] \u001b[1mjldopen\u001b[22m\u001b[22m\u001b[1m(\u001b[22m\u001b[22m::String, ::String\u001b[1m)\u001b[22m\u001b[22m at \u001b[1m/home/zhong/.julia/v0.6/JLD/src/JLD.jl:231\u001b[22m\u001b[22m",
      " [5] \u001b[1m#jldopen#11\u001b[22m\u001b[22m\u001b[1m(\u001b[22m\u001b[22m::Array{Any,1}, ::Function, ::JLD.##37#39, ::String, ::Vararg{String,N} where N\u001b[1m)\u001b[22m\u001b[22m at \u001b[1m/home/zhong/.julia/v0.6/JLD/src/JLD.jl:241\u001b[22m\u001b[22m",
      " [6] \u001b[1mload\u001b[22m\u001b[22m\u001b[1m(\u001b[22m\u001b[22m::FileIO.File{FileIO.DataFormat{:JLD}}\u001b[1m)\u001b[22m\u001b[22m at \u001b[1m/home/zhong/.julia/v0.6/JLD/src/JLD.jl:1234\u001b[22m\u001b[22m",
      " [7] \u001b[1m#load#13\u001b[22m\u001b[22m\u001b[1m(\u001b[22m\u001b[22m::Array{Any,1}, ::Function, ::String\u001b[1m)\u001b[22m\u001b[22m at \u001b[1m/home/zhong/.julia/v0.6/FileIO/src/loadsave.jl:52\u001b[22m\u001b[22m",
      " [8] \u001b[1mload\u001b[22m\u001b[22m\u001b[1m(\u001b[22m\u001b[22m::String\u001b[1m)\u001b[22m\u001b[22m at \u001b[1m/home/zhong/.julia/v0.6/FileIO/src/loadsave.jl:52\u001b[22m\u001b[22m",
      " [9] \u001b[1minclude_string\u001b[22m\u001b[22m\u001b[1m(\u001b[22m\u001b[22m::String, ::String\u001b[1m)\u001b[22m\u001b[22m at \u001b[1m./loading.jl:522\u001b[22m\u001b[22m"
     ]
    }
   ],
   "source": [
    "results = load(\"../data/random_periods.jld\")\n",
    "@where(results[\"stats\"], :time_to_lane .== 138.0)"
   ]
  },
  {
   "cell_type": "code",
   "execution_count": 7,
   "metadata": {},
   "outputs": [
    {
     "ename": "LoadError",
     "evalue": "\u001b[91mUndefVarError: results not defined\u001b[39m",
     "output_type": "error",
     "traceback": [
      "\u001b[91mUndefVarError: results not defined\u001b[39m",
      "",
      "Stacktrace:",
      " [1] \u001b[1minclude_string\u001b[22m\u001b[22m\u001b[1m(\u001b[22m\u001b[22m::String, ::String\u001b[1m)\u001b[22m\u001b[22m at \u001b[1m./loading.jl:522\u001b[22m\u001b[22m"
     ]
    }
   ],
   "source": [
    "problem, sim, policy = rerun(results, 30);"
   ]
  },
  {
   "cell_type": "code",
   "execution_count": 8,
   "metadata": {},
   "outputs": [
    {
     "ename": "LoadError",
     "evalue": "\u001b[91mUndefVarError: display_sim not defined\u001b[39m",
     "output_type": "error",
     "traceback": [
      "\u001b[91mUndefVarError: display_sim not defined\u001b[39m",
      "",
      "Stacktrace:",
      " [1] \u001b[1minclude_string\u001b[22m\u001b[22m\u001b[1m(\u001b[22m\u001b[22m::String, ::String\u001b[1m)\u001b[22m\u001b[22m at \u001b[1m./loading.jl:522\u001b[22m\u001b[22m"
     ]
    }
   ],
   "source": [
    "display_sim(problem, sim)\n",
    "# filename = write_tmp_gif(problem, sim)\n",
    "# run(`gifview $filename`)"
   ]
  },
  {
   "cell_type": "code",
   "execution_count": 5,
   "metadata": {},
   "outputs": [
    {
     "name": "stderr",
     "output_type": "stream",
     "text": [
      "WARNING: imported binding for step overwritten in module Main\n"
     ]
    },
    {
     "data": {
      "text/plain": [
       "1"
      ]
     },
     "execution_count": 5,
     "metadata": {},
     "output_type": "execute_result"
    }
   ],
   "source": [
    "step = 1"
   ]
  },
  {
   "cell_type": "code",
   "execution_count": 6,
   "metadata": {
    "scrolled": true
   },
   "outputs": [
    {
     "data": {
      "image/png": "[encoded data removed]",
      "text/plain": [
       "PyPlot.Figure(PyObject <matplotlib.figure.Figure object at 0x7f15918d3e90>)"
      ]
     },
     "metadata": {},
     "output_type": "display_data"
    }
   ],
   "source": [
    "visualize(problem, sim.state_hist[step], sim.action_hist[step], sim.state_hist[step+1]);"
   ]
  },
  {
   "cell_type": "code",
   "execution_count": null,
   "metadata": {
    "collapsed": true
   },
   "outputs": [],
   "source": []
  }
 ],
 "metadata": {
  "kernelspec": {
   "display_name": "Julia 0.6.2",
   "language": "julia",
   "name": "julia-0.6"
  },
  "language_info": {
   "file_extension": ".jl",
   "mimetype": "application/julia",
   "name": "julia",
   "version": "0.6.2"
  },
  "widgets": {
   "state": {
    "4d8047b4-7f21-4118-8d53-231a9917b344": {
     "views": [
      {
       "cell_index": 3
      }
     ]
    }
   },
   "version": "1.2.0"
  }
 },
 "nbformat": 4,
 "nbformat_minor": 1
}
