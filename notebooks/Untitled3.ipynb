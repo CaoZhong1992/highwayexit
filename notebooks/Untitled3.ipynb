{
 "cells": [
  {
   "cell_type": "code",
   "execution_count": 2,
   "metadata": {},
   "outputs": [],
   "source": [
    "using ParticleFilters\n",
    "using Distributions\n",
    "using StaticArrays\n",
    "using Reel\n",
    "using Plots\n"
   ]
  },
  {
   "cell_type": "code",
   "execution_count": 3,
   "metadata": {},
   "outputs": [],
   "source": [
    "struct DblIntegrator2D \n",
    "    W::Matrix{Float64} # Process noise covariance\n",
    "    V::Matrix{Float64} # Observation noise covariance\n",
    "    dt::Float64        # Time step\n",
    "end\n",
    "# state is [x, y, xdot, ydot];\n"
   ]
  },
  {
   "cell_type": "code",
   "execution_count": 4,
   "metadata": {},
   "outputs": [],
   "source": [
    "\n",
    "# generates a new state from current state s and control a\n",
    "function ParticleFilters.generate_s(model::DblIntegrator2D, s, a, rng::AbstractRNG)\n",
    "    dt = model.dt\n",
    "    A = [1.0 0.0 dt 0.0; 0.0 1.0 0.0 dt; 0.0 0.0 1.0 0.0; 0.0 0.0 0.0 1.0]\n",
    "    B = [0.5*dt^2 0.0; 0.0 0.5*dt^2; dt 0.0; 0.0 dt]\n",
    "    return A*s + B*a + rand(rng, MvNormal(model.W))\n",
    "end\n",
    "\n"
   ]
  },
  {
   "cell_type": "code",
   "execution_count": 5,
   "metadata": {},
   "outputs": [],
   "source": [
    "# returns the observation distribution for state sp (and action a)\n",
    "function ParticleFilters.observation(model::DblIntegrator2D, a, sp)\n",
    "    return MvNormal(sp[1:2], model.V)\n",
    "end\n"
   ]
  },
  {
   "cell_type": "code",
   "execution_count": 6,
   "metadata": {},
   "outputs": [
    {
     "data": {
      "text/plain": [
       "4-element Array{Float64,1}:\n",
       " 0.0\n",
       " 1.0\n",
       " 1.0\n",
       " 0.0"
      ]
     },
     "execution_count": 6,
     "metadata": {},
     "output_type": "execute_result"
    }
   ],
   "source": [
    "\n",
    "N = 1000\n",
    "model = DblIntegrator2D(0.001*eye(4), eye(2), 0.1)\n",
    "filter = SIRParticleFilter(model, N)\n",
    "srand(1)\n",
    "rng = Base.GLOBAL_RNG\n",
    "b = ParticleCollection([4.0*rand(4)-2.0 for i in 1:N])\n",
    "s = [0.0, 1.0, 1.0, 0.0]\n"
   ]
  },
  {
   "cell_type": "code",
   "execution_count": 9,
   "metadata": {},
   "outputs": [
    {
     "name": "stdout",
     "output_type": "stream",
     "text": [
      "."
     ]
    },
    {
     "ename": "LoadError",
     "evalue": "\u001b[91mMethodError: no method matching Reel.Frames(::Void; fps=10)\u001b[0m\nClosest candidates are:\n  Reel.Frames(\u001b[91m::M<:MIME\u001b[39m; fps) where M<:MIME at /home/zhong/.julia/v0.6/Reel/src/Reel.jl:24\u001b[39m",
     "output_type": "error",
     "traceback": [
      "\u001b[91mMethodError: no method matching Reel.Frames(::Void; fps=10)\u001b[0m\nClosest candidates are:\n  Reel.Frames(\u001b[91m::M<:MIME\u001b[39m; fps) where M<:MIME at /home/zhong/.julia/v0.6/Reel/src/Reel.jl:24\u001b[39m",
      "",
      "Stacktrace:",
      " [1] \u001b[1m#roll#7\u001b[22m\u001b[22m\u001b[1m(\u001b[22m\u001b[22m::Int64, ::Int64, ::Function, ::##23#24\u001b[1m)\u001b[22m\u001b[22m at \u001b[1m/home/zhong/.julia/v0.6/Reel/src/Reel.jl:99\u001b[22m\u001b[22m",
      " [2] \u001b[1m(::Reel.#kw##roll)\u001b[22m\u001b[22m\u001b[1m(\u001b[22m\u001b[22m::Array{Any,1}, ::Reel.#roll, ::Function\u001b[1m)\u001b[22m\u001b[22m at \u001b[1m./<missing>:0\u001b[22m\u001b[22m",
      " [3] \u001b[1minclude_string\u001b[22m\u001b[22m\u001b[1m(\u001b[22m\u001b[22m::String, ::String\u001b[1m)\u001b[22m\u001b[22m at \u001b[1m./loading.jl:522\u001b[22m\u001b[22m"
     ]
    }
   ],
   "source": []
  }
 ],
 "metadata": {
  "kernelspec": {
   "display_name": "Julia 0.6.2",
   "language": "julia",
   "name": "julia-0.6"
  },
  "language_info": {
   "file_extension": ".jl",
   "mimetype": "application/julia",
   "name": "julia",
   "version": "0.6.2"
  }
 },
 "nbformat": 4,
 "nbformat_minor": 2
}
